{
 "cells": [
  {
   "cell_type": "markdown",
   "id": "7eeb4d6c",
   "metadata": {},
   "source": [
    "# Project 3: Web APIs & NLP"
   ]
  },
  {
   "cell_type": "markdown",
   "id": "68b764a0",
   "metadata": {},
   "source": [
    "#### by Ian Stack"
   ]
  },
  {
   "cell_type": "markdown",
   "id": "c982ae00",
   "metadata": {},
   "source": [
    "### Problem Statement"
   ]
  },
  {
   "cell_type": "markdown",
   "id": "9e18cb22",
   "metadata": {},
   "source": [
    "Can I predict which subreddit posts came from r/nhl vs. r/nba?"
   ]
  },
  {
   "cell_type": "markdown",
   "id": "952798d4",
   "metadata": {},
   "source": [
    "Professional sports has become one of the biggest entertainment businesses and captures indviduals all over the world.  In particular, the professional sports league: NHL and NBA are well known leagues with multiple teams throughout the United States. Both the NBA and NHL have a large fanbase and opinions are commonly shared on reddit.  I was hired by both the NBA and NHL to review the subreddit pages per each league and ensure that operations are running correctly.  It is my job to make sure that individual's posts are being posted on the correct subreddit. \n",
    "\n",
    "In this project I will be utilizing Pushshit Reddit API to obtain the \"NBA\" and \"NHL\" subreddit pages from Reddit.  I will utilize Multinominal Naive Bayes, K-nearest Neighbor, and Logistic Regression modeling and will be evaluated via accuracy on predicting whether the user's post came from r/nba or r/nhl."
   ]
  },
  {
   "cell_type": "code",
   "execution_count": 1,
   "id": "0001e94d",
   "metadata": {},
   "outputs": [
    {
     "name": "stderr",
     "output_type": "stream",
     "text": [
      "[nltk_data] Downloading package stopwords to\n",
      "[nltk_data]     C:\\Users\\ianst\\AppData\\Roaming\\nltk_data...\n",
      "[nltk_data]   Package stopwords is already up-to-date!\n"
     ]
    },
    {
     "name": "stdout",
     "output_type": "stream",
     "text": [
      "Requirement already satisfied: wordcloud in c:\\users\\ianst\\anaconda3\\lib\\site-packages (1.8.2.2)\n",
      "Requirement already satisfied: numpy>=1.6.1 in c:\\users\\ianst\\anaconda3\\lib\\site-packages (from wordcloud) (1.21.5)\n",
      "Requirement already satisfied: pillow in c:\\users\\ianst\\anaconda3\\lib\\site-packages (from wordcloud) (9.2.0)\n",
      "Requirement already satisfied: matplotlib in c:\\users\\ianst\\anaconda3\\lib\\site-packages (from wordcloud) (3.5.2)\n",
      "Requirement already satisfied: pyparsing>=2.2.1 in c:\\users\\ianst\\anaconda3\\lib\\site-packages (from matplotlib->wordcloud) (3.0.9)\n",
      "Requirement already satisfied: cycler>=0.10 in c:\\users\\ianst\\anaconda3\\lib\\site-packages (from matplotlib->wordcloud) (0.11.0)\n",
      "Requirement already satisfied: kiwisolver>=1.0.1 in c:\\users\\ianst\\anaconda3\\lib\\site-packages (from matplotlib->wordcloud) (1.4.2)\n",
      "Requirement already satisfied: fonttools>=4.22.0 in c:\\users\\ianst\\anaconda3\\lib\\site-packages (from matplotlib->wordcloud) (4.25.0)\n",
      "Requirement already satisfied: python-dateutil>=2.7 in c:\\users\\ianst\\anaconda3\\lib\\site-packages (from matplotlib->wordcloud) (2.8.2)\n",
      "Requirement already satisfied: packaging>=20.0 in c:\\users\\ianst\\anaconda3\\lib\\site-packages (from matplotlib->wordcloud) (21.3)\n",
      "Requirement already satisfied: six>=1.5 in c:\\users\\ianst\\anaconda3\\lib\\site-packages (from python-dateutil>=2.7->matplotlib->wordcloud) (1.16.0)\n"
     ]
    }
   ],
   "source": [
    "import numpy as np\n",
    "import pandas as pd\n",
    "import matplotlib.pyplot as plt\n",
    "import seaborn as sns\n",
    "import requests\n",
    "import time\n",
    "\n",
    "from sklearn.model_selection import train_test_split, cross_val_score, GridSearchCV\n",
    "from sklearn.pipeline import Pipeline\n",
    "from sklearn.naive_bayes import MultinomialNB\n",
    "from sklearn.linear_model import LogisticRegression\n",
    "from sklearn.metrics import confusion_matrix, plot_confusion_matrix\n",
    "from sklearn.preprocessing import StandardScaler\n",
    "from sklearn.neighbors import KNeighborsClassifier\n",
    "\n",
    "\n",
    "import nltk\n",
    "nltk.download('stopwords')\n",
    "from nltk.tokenize import sent_tokenize, word_tokenize, RegexpTokenizer\n",
    "from nltk.stem import WordNetLemmatizer\n",
    "from nltk.stem.porter import PorterStemmer\n",
    "from nltk.corpus import stopwords\n",
    "from nltk.sentiment.vader import SentimentIntensityAnalyzer\n",
    "import re\n",
    "\n",
    "from sklearn.feature_extraction.text import CountVectorizer, TfidfVectorizer\n",
    "\n",
    "!pip install wordcloud\n",
    "from wordcloud import WordCloud, STOPWORDS\n",
    "\n",
    "\n",
    "from textblob import TextBlob"
   ]
  },
  {
   "cell_type": "code",
   "execution_count": 2,
   "id": "89c2b2a4",
   "metadata": {},
   "outputs": [],
   "source": [
    "nba_new = pd.read_csv('./p3_datasets/data/nba.csv')\n",
    "nhl_new = pd.read_csv('./p3_datasets/data/nhl.csv')\n"
   ]
  },
  {
   "cell_type": "markdown",
   "id": "55d86620",
   "metadata": {},
   "source": [
    "#### Exploring & Cleaning of NBA subreddit"
   ]
  },
  {
   "cell_type": "code",
   "execution_count": 3,
   "id": "b41fb1f4",
   "metadata": {},
   "outputs": [
    {
     "data": {
      "text/html": [
       "<div>\n",
       "<style scoped>\n",
       "    .dataframe tbody tr th:only-of-type {\n",
       "        vertical-align: middle;\n",
       "    }\n",
       "\n",
       "    .dataframe tbody tr th {\n",
       "        vertical-align: top;\n",
       "    }\n",
       "\n",
       "    .dataframe thead th {\n",
       "        text-align: right;\n",
       "    }\n",
       "</style>\n",
       "<table border=\"1\" class=\"dataframe\">\n",
       "  <thead>\n",
       "    <tr style=\"text-align: right;\">\n",
       "      <th></th>\n",
       "      <th>Unnamed: 0</th>\n",
       "      <th>all_awardings</th>\n",
       "      <th>allow_live_comments</th>\n",
       "      <th>author</th>\n",
       "      <th>author_flair_css_class</th>\n",
       "      <th>author_flair_richtext</th>\n",
       "      <th>author_flair_text</th>\n",
       "      <th>author_flair_type</th>\n",
       "      <th>author_fullname</th>\n",
       "      <th>author_is_blocked</th>\n",
       "      <th>...</th>\n",
       "      <th>thumbnail_height</th>\n",
       "      <th>thumbnail_width</th>\n",
       "      <th>url_overridden_by_dest</th>\n",
       "      <th>author_flair_template_id</th>\n",
       "      <th>crosspost_parent</th>\n",
       "      <th>crosspost_parent_list</th>\n",
       "      <th>suggested_sort</th>\n",
       "      <th>banned_by</th>\n",
       "      <th>author_cakeday</th>\n",
       "      <th>edited</th>\n",
       "    </tr>\n",
       "  </thead>\n",
       "  <tbody>\n",
       "    <tr>\n",
       "      <th>0</th>\n",
       "      <td>0</td>\n",
       "      <td>[]</td>\n",
       "      <td>False</td>\n",
       "      <td>ProShowerSinger</td>\n",
       "      <td>NaN</td>\n",
       "      <td>[]</td>\n",
       "      <td>NaN</td>\n",
       "      <td>text</td>\n",
       "      <td>t2_151a7x</td>\n",
       "      <td>False</td>\n",
       "      <td>...</td>\n",
       "      <td>NaN</td>\n",
       "      <td>NaN</td>\n",
       "      <td>NaN</td>\n",
       "      <td>NaN</td>\n",
       "      <td>NaN</td>\n",
       "      <td>NaN</td>\n",
       "      <td>NaN</td>\n",
       "      <td>NaN</td>\n",
       "      <td>NaN</td>\n",
       "      <td>NaN</td>\n",
       "    </tr>\n",
       "    <tr>\n",
       "      <th>1</th>\n",
       "      <td>1</td>\n",
       "      <td>[]</td>\n",
       "      <td>False</td>\n",
       "      <td>talentpun</td>\n",
       "      <td>Raptors7</td>\n",
       "      <td>[{'e': 'text', 't': 'Raptors'}]</td>\n",
       "      <td>Raptors</td>\n",
       "      <td>richtext</td>\n",
       "      <td>t2_lf95h</td>\n",
       "      <td>False</td>\n",
       "      <td>...</td>\n",
       "      <td>78.0</td>\n",
       "      <td>140.0</td>\n",
       "      <td>https://streamable.com/tqvl4</td>\n",
       "      <td>NaN</td>\n",
       "      <td>NaN</td>\n",
       "      <td>NaN</td>\n",
       "      <td>NaN</td>\n",
       "      <td>NaN</td>\n",
       "      <td>NaN</td>\n",
       "      <td>NaN</td>\n",
       "    </tr>\n",
       "    <tr>\n",
       "      <th>2</th>\n",
       "      <td>2</td>\n",
       "      <td>[]</td>\n",
       "      <td>False</td>\n",
       "      <td>LaMeloBallSoHard</td>\n",
       "      <td>Knicks3</td>\n",
       "      <td>[{'a': ':nyk-3:', 'e': 'emoji', 'u': 'https://...</td>\n",
       "      <td>:nyk-3: Knicks</td>\n",
       "      <td>richtext</td>\n",
       "      <td>t2_2p7rvjvk</td>\n",
       "      <td>False</td>\n",
       "      <td>...</td>\n",
       "      <td>NaN</td>\n",
       "      <td>NaN</td>\n",
       "      <td>NaN</td>\n",
       "      <td>d5dcc2c0-3feb-11e8-8d0b-0e1d1ff4db48</td>\n",
       "      <td>NaN</td>\n",
       "      <td>NaN</td>\n",
       "      <td>NaN</td>\n",
       "      <td>NaN</td>\n",
       "      <td>NaN</td>\n",
       "      <td>NaN</td>\n",
       "    </tr>\n",
       "    <tr>\n",
       "      <th>3</th>\n",
       "      <td>3</td>\n",
       "      <td>[]</td>\n",
       "      <td>False</td>\n",
       "      <td>Latrell-Sprewell</td>\n",
       "      <td>ESP</td>\n",
       "      <td>[{'a': ':ESP:', 'e': 'emoji', 'u': 'https://em...</td>\n",
       "      <td>:ESP: Spain</td>\n",
       "      <td>richtext</td>\n",
       "      <td>t2_35b9m70t</td>\n",
       "      <td>False</td>\n",
       "      <td>...</td>\n",
       "      <td>77.0</td>\n",
       "      <td>140.0</td>\n",
       "      <td>https://twitter.com/squaresense/status/1428162...</td>\n",
       "      <td>1dadb4b0-e6b5-11eb-8289-0e52813c43fb</td>\n",
       "      <td>NaN</td>\n",
       "      <td>NaN</td>\n",
       "      <td>NaN</td>\n",
       "      <td>NaN</td>\n",
       "      <td>NaN</td>\n",
       "      <td>NaN</td>\n",
       "    </tr>\n",
       "    <tr>\n",
       "      <th>4</th>\n",
       "      <td>4</td>\n",
       "      <td>[]</td>\n",
       "      <td>False</td>\n",
       "      <td>kirphioc2004</td>\n",
       "      <td>Warriors3</td>\n",
       "      <td>[{'e': 'text', 't': '[GSW] Kevin Durant'}]</td>\n",
       "      <td>[GSW] Kevin Durant</td>\n",
       "      <td>richtext</td>\n",
       "      <td>t2_4s4z4qk0</td>\n",
       "      <td>False</td>\n",
       "      <td>...</td>\n",
       "      <td>105.0</td>\n",
       "      <td>140.0</td>\n",
       "      <td>https://www.youtube.com/watch?v=Fip6I6ggwL8&amp;am...</td>\n",
       "      <td>c6cc8ebe-3feb-11e8-898f-0e174a61fc9c</td>\n",
       "      <td>NaN</td>\n",
       "      <td>NaN</td>\n",
       "      <td>NaN</td>\n",
       "      <td>NaN</td>\n",
       "      <td>NaN</td>\n",
       "      <td>NaN</td>\n",
       "    </tr>\n",
       "  </tbody>\n",
       "</table>\n",
       "<p>5 rows × 82 columns</p>\n",
       "</div>"
      ],
      "text/plain": [
       "   Unnamed: 0 all_awardings  allow_live_comments            author  \\\n",
       "0           0            []                False   ProShowerSinger   \n",
       "1           1            []                False         talentpun   \n",
       "2           2            []                False  LaMeloBallSoHard   \n",
       "3           3            []                False  Latrell-Sprewell   \n",
       "4           4            []                False      kirphioc2004   \n",
       "\n",
       "  author_flair_css_class                              author_flair_richtext  \\\n",
       "0                    NaN                                                 []   \n",
       "1               Raptors7                    [{'e': 'text', 't': 'Raptors'}]   \n",
       "2                Knicks3  [{'a': ':nyk-3:', 'e': 'emoji', 'u': 'https://...   \n",
       "3                    ESP  [{'a': ':ESP:', 'e': 'emoji', 'u': 'https://em...   \n",
       "4              Warriors3         [{'e': 'text', 't': '[GSW] Kevin Durant'}]   \n",
       "\n",
       "    author_flair_text author_flair_type author_fullname  author_is_blocked  \\\n",
       "0                 NaN              text       t2_151a7x              False   \n",
       "1             Raptors          richtext        t2_lf95h              False   \n",
       "2      :nyk-3: Knicks          richtext     t2_2p7rvjvk              False   \n",
       "3         :ESP: Spain          richtext     t2_35b9m70t              False   \n",
       "4  [GSW] Kevin Durant          richtext     t2_4s4z4qk0              False   \n",
       "\n",
       "   ... thumbnail_height thumbnail_width  \\\n",
       "0  ...              NaN             NaN   \n",
       "1  ...             78.0           140.0   \n",
       "2  ...              NaN             NaN   \n",
       "3  ...             77.0           140.0   \n",
       "4  ...            105.0           140.0   \n",
       "\n",
       "                              url_overridden_by_dest  \\\n",
       "0                                                NaN   \n",
       "1                       https://streamable.com/tqvl4   \n",
       "2                                                NaN   \n",
       "3  https://twitter.com/squaresense/status/1428162...   \n",
       "4  https://www.youtube.com/watch?v=Fip6I6ggwL8&am...   \n",
       "\n",
       "               author_flair_template_id  crosspost_parent  \\\n",
       "0                                   NaN               NaN   \n",
       "1                                   NaN               NaN   \n",
       "2  d5dcc2c0-3feb-11e8-8d0b-0e1d1ff4db48               NaN   \n",
       "3  1dadb4b0-e6b5-11eb-8289-0e52813c43fb               NaN   \n",
       "4  c6cc8ebe-3feb-11e8-898f-0e174a61fc9c               NaN   \n",
       "\n",
       "   crosspost_parent_list suggested_sort banned_by author_cakeday edited  \n",
       "0                    NaN            NaN       NaN            NaN    NaN  \n",
       "1                    NaN            NaN       NaN            NaN    NaN  \n",
       "2                    NaN            NaN       NaN            NaN    NaN  \n",
       "3                    NaN            NaN       NaN            NaN    NaN  \n",
       "4                    NaN            NaN       NaN            NaN    NaN  \n",
       "\n",
       "[5 rows x 82 columns]"
      ]
     },
     "execution_count": 3,
     "metadata": {},
     "output_type": "execute_result"
    }
   ],
   "source": [
    "nba_new.head()"
   ]
  },
  {
   "cell_type": "code",
   "execution_count": 4,
   "id": "b6657358",
   "metadata": {},
   "outputs": [
    {
     "data": {
      "text/plain": [
       "2886"
      ]
     },
     "execution_count": 4,
     "metadata": {},
     "output_type": "execute_result"
    }
   ],
   "source": [
    "# number of unique 'titles'\n",
    "nba_new['title'].nunique()"
   ]
  },
  {
   "cell_type": "code",
   "execution_count": 5,
   "id": "3b397a7e",
   "metadata": {},
   "outputs": [
    {
     "data": {
      "text/plain": [
       "(3000, 82)"
      ]
     },
     "execution_count": 5,
     "metadata": {},
     "output_type": "execute_result"
    }
   ],
   "source": [
    "nba_new.shape"
   ]
  },
  {
   "cell_type": "code",
   "execution_count": 6,
   "id": "749824cc",
   "metadata": {},
   "outputs": [],
   "source": [
    "# NBA Dataframe with `subreddit`, `selftext`, and `title` columns\n",
    "pd.set_option('display.max_columns', None)\n",
    "nba_new = nba_new[['subreddit', 'selftext', 'title']]"
   ]
  },
  {
   "cell_type": "code",
   "execution_count": 7,
   "id": "436bda5d",
   "metadata": {},
   "outputs": [
    {
     "data": {
      "text/html": [
       "<div>\n",
       "<style scoped>\n",
       "    .dataframe tbody tr th:only-of-type {\n",
       "        vertical-align: middle;\n",
       "    }\n",
       "\n",
       "    .dataframe tbody tr th {\n",
       "        vertical-align: top;\n",
       "    }\n",
       "\n",
       "    .dataframe thead th {\n",
       "        text-align: right;\n",
       "    }\n",
       "</style>\n",
       "<table border=\"1\" class=\"dataframe\">\n",
       "  <thead>\n",
       "    <tr style=\"text-align: right;\">\n",
       "      <th></th>\n",
       "      <th>subreddit</th>\n",
       "      <th>selftext</th>\n",
       "      <th>title</th>\n",
       "    </tr>\n",
       "  </thead>\n",
       "  <tbody>\n",
       "    <tr>\n",
       "      <th>0</th>\n",
       "      <td>nba</td>\n",
       "      <td>[**Ra asked me**](https://mediumlights.substac...</td>\n",
       "      <td>OC: Rookies Adjusting To The NBA (easier for s...</td>\n",
       "    </tr>\n",
       "    <tr>\n",
       "      <th>1</th>\n",
       "      <td>nba</td>\n",
       "      <td>NaN</td>\n",
       "      <td>One of the highest upvoted posts and greatest ...</td>\n",
       "    </tr>\n",
       "    <tr>\n",
       "      <th>2</th>\n",
       "      <td>nba</td>\n",
       "      <td>#[Game 4 vs Portland](https://www.basketball-r...</td>\n",
       "      <td>2020 Lakers were up at least 30 points in each...</td>\n",
       "    </tr>\n",
       "    <tr>\n",
       "      <th>3</th>\n",
       "      <td>nba</td>\n",
       "      <td>NaN</td>\n",
       "      <td>Chicago Bears Coach Matt Nagy Uses Giannis NBA...</td>\n",
       "    </tr>\n",
       "    <tr>\n",
       "      <th>4</th>\n",
       "      <td>nba</td>\n",
       "      <td>NaN</td>\n",
       "      <td>Kevin Durant Takes Over In 2012 NBA Finals Gam...</td>\n",
       "    </tr>\n",
       "  </tbody>\n",
       "</table>\n",
       "</div>"
      ],
      "text/plain": [
       "  subreddit                                           selftext  \\\n",
       "0       nba  [**Ra asked me**](https://mediumlights.substac...   \n",
       "1       nba                                                NaN   \n",
       "2       nba  #[Game 4 vs Portland](https://www.basketball-r...   \n",
       "3       nba                                                NaN   \n",
       "4       nba                                                NaN   \n",
       "\n",
       "                                               title  \n",
       "0  OC: Rookies Adjusting To The NBA (easier for s...  \n",
       "1  One of the highest upvoted posts and greatest ...  \n",
       "2  2020 Lakers were up at least 30 points in each...  \n",
       "3  Chicago Bears Coach Matt Nagy Uses Giannis NBA...  \n",
       "4  Kevin Durant Takes Over In 2012 NBA Finals Gam...  "
      ]
     },
     "execution_count": 7,
     "metadata": {},
     "output_type": "execute_result"
    }
   ],
   "source": [
    "nba_new.head()"
   ]
  },
  {
   "cell_type": "code",
   "execution_count": 8,
   "id": "e9f956ed",
   "metadata": {},
   "outputs": [
    {
     "data": {
      "text/plain": [
       "subreddit       0\n",
       "selftext     1286\n",
       "title           0\n",
       "dtype: int64"
      ]
     },
     "execution_count": 8,
     "metadata": {},
     "output_type": "execute_result"
    }
   ],
   "source": [
    "nba_new.isnull().sum()"
   ]
  },
  {
   "cell_type": "code",
   "execution_count": 9,
   "id": "a4de8081",
   "metadata": {},
   "outputs": [],
   "source": [
    "# Save it\n",
    "nba_new.to_csv('./datasets/nba_new')"
   ]
  },
  {
   "cell_type": "code",
   "execution_count": 10,
   "id": "f7d77433",
   "metadata": {},
   "outputs": [
    {
     "data": {
      "text/html": [
       "<div>\n",
       "<style scoped>\n",
       "    .dataframe tbody tr th:only-of-type {\n",
       "        vertical-align: middle;\n",
       "    }\n",
       "\n",
       "    .dataframe tbody tr th {\n",
       "        vertical-align: top;\n",
       "    }\n",
       "\n",
       "    .dataframe thead th {\n",
       "        text-align: right;\n",
       "    }\n",
       "</style>\n",
       "<table border=\"1\" class=\"dataframe\">\n",
       "  <thead>\n",
       "    <tr style=\"text-align: right;\">\n",
       "      <th></th>\n",
       "      <th>Unnamed: 0</th>\n",
       "      <th>all_awardings</th>\n",
       "      <th>allow_live_comments</th>\n",
       "      <th>author</th>\n",
       "      <th>author_flair_css_class</th>\n",
       "      <th>author_flair_richtext</th>\n",
       "      <th>author_flair_text</th>\n",
       "      <th>author_flair_type</th>\n",
       "      <th>author_fullname</th>\n",
       "      <th>author_is_blocked</th>\n",
       "      <th>author_patreon_flair</th>\n",
       "      <th>author_premium</th>\n",
       "      <th>awarders</th>\n",
       "      <th>can_mod_post</th>\n",
       "      <th>contest_mode</th>\n",
       "      <th>created_utc</th>\n",
       "      <th>domain</th>\n",
       "      <th>full_link</th>\n",
       "      <th>gildings</th>\n",
       "      <th>id</th>\n",
       "      <th>is_created_from_ads_ui</th>\n",
       "      <th>is_crosspostable</th>\n",
       "      <th>is_meta</th>\n",
       "      <th>is_original_content</th>\n",
       "      <th>is_reddit_media_domain</th>\n",
       "      <th>is_robot_indexable</th>\n",
       "      <th>is_self</th>\n",
       "      <th>is_video</th>\n",
       "      <th>link_flair_background_color</th>\n",
       "      <th>link_flair_richtext</th>\n",
       "      <th>link_flair_text_color</th>\n",
       "      <th>link_flair_type</th>\n",
       "      <th>locked</th>\n",
       "      <th>media_only</th>\n",
       "      <th>no_follow</th>\n",
       "      <th>num_comments</th>\n",
       "      <th>num_crossposts</th>\n",
       "      <th>over_18</th>\n",
       "      <th>parent_whitelist_status</th>\n",
       "      <th>permalink</th>\n",
       "      <th>pinned</th>\n",
       "      <th>pwls</th>\n",
       "      <th>retrieved_on</th>\n",
       "      <th>score</th>\n",
       "      <th>selftext</th>\n",
       "      <th>send_replies</th>\n",
       "      <th>spoiler</th>\n",
       "      <th>stickied</th>\n",
       "      <th>subreddit</th>\n",
       "      <th>subreddit_id</th>\n",
       "      <th>subreddit_subscribers</th>\n",
       "      <th>subreddit_type</th>\n",
       "      <th>thumbnail</th>\n",
       "      <th>title</th>\n",
       "      <th>total_awards_received</th>\n",
       "      <th>treatment_tags</th>\n",
       "      <th>upvote_ratio</th>\n",
       "      <th>url</th>\n",
       "      <th>whitelist_status</th>\n",
       "      <th>wls</th>\n",
       "      <th>link_flair_template_id</th>\n",
       "      <th>link_flair_text</th>\n",
       "      <th>crosspost_parent</th>\n",
       "      <th>crosspost_parent_list</th>\n",
       "      <th>post_hint</th>\n",
       "      <th>preview</th>\n",
       "      <th>thumbnail_height</th>\n",
       "      <th>thumbnail_width</th>\n",
       "      <th>url_overridden_by_dest</th>\n",
       "      <th>author_flair_background_color</th>\n",
       "      <th>author_flair_template_id</th>\n",
       "      <th>author_flair_text_color</th>\n",
       "      <th>media</th>\n",
       "      <th>media_embed</th>\n",
       "      <th>secure_media</th>\n",
       "      <th>secure_media_embed</th>\n",
       "      <th>gallery_data</th>\n",
       "      <th>is_gallery</th>\n",
       "      <th>media_metadata</th>\n",
       "      <th>poll_data</th>\n",
       "      <th>removed_by_category</th>\n",
       "      <th>link_flair_css_class</th>\n",
       "      <th>author_cakeday</th>\n",
       "      <th>edited</th>\n",
       "      <th>suggested_sort</th>\n",
       "      <th>banned_by</th>\n",
       "    </tr>\n",
       "  </thead>\n",
       "  <tbody>\n",
       "    <tr>\n",
       "      <th>0</th>\n",
       "      <td>0</td>\n",
       "      <td>[]</td>\n",
       "      <td>False</td>\n",
       "      <td>akromyk</td>\n",
       "      <td>NaN</td>\n",
       "      <td>[]</td>\n",
       "      <td>NaN</td>\n",
       "      <td>text</td>\n",
       "      <td>t2_htlnd</td>\n",
       "      <td>False</td>\n",
       "      <td>False</td>\n",
       "      <td>False</td>\n",
       "      <td>[]</td>\n",
       "      <td>False</td>\n",
       "      <td>False</td>\n",
       "      <td>1629345048</td>\n",
       "      <td>self.nhl</td>\n",
       "      <td>https://www.reddit.com/r/nhl/comments/p77a5y/w...</td>\n",
       "      <td>{}</td>\n",
       "      <td>p77a5y</td>\n",
       "      <td>False</td>\n",
       "      <td>True</td>\n",
       "      <td>False</td>\n",
       "      <td>False</td>\n",
       "      <td>False</td>\n",
       "      <td>True</td>\n",
       "      <td>True</td>\n",
       "      <td>False</td>\n",
       "      <td>NaN</td>\n",
       "      <td>[]</td>\n",
       "      <td>dark</td>\n",
       "      <td>text</td>\n",
       "      <td>False</td>\n",
       "      <td>False</td>\n",
       "      <td>True</td>\n",
       "      <td>0</td>\n",
       "      <td>0</td>\n",
       "      <td>False</td>\n",
       "      <td>all_ads</td>\n",
       "      <td>/r/nhl/comments/p77a5y/whats_this_ive_been_hea...</td>\n",
       "      <td>False</td>\n",
       "      <td>6</td>\n",
       "      <td>1629345059</td>\n",
       "      <td>1</td>\n",
       "      <td>Can someone fill me in on what's going on with...</td>\n",
       "      <td>True</td>\n",
       "      <td>False</td>\n",
       "      <td>False</td>\n",
       "      <td>nhl</td>\n",
       "      <td>t5_2qrrq</td>\n",
       "      <td>251100</td>\n",
       "      <td>public</td>\n",
       "      <td>self</td>\n",
       "      <td>What's this I've been hearing about turning NH...</td>\n",
       "      <td>0</td>\n",
       "      <td>[]</td>\n",
       "      <td>1.0</td>\n",
       "      <td>https://www.reddit.com/r/nhl/comments/p77a5y/w...</td>\n",
       "      <td>all_ads</td>\n",
       "      <td>6</td>\n",
       "      <td>NaN</td>\n",
       "      <td>NaN</td>\n",
       "      <td>NaN</td>\n",
       "      <td>NaN</td>\n",
       "      <td>NaN</td>\n",
       "      <td>NaN</td>\n",
       "      <td>NaN</td>\n",
       "      <td>NaN</td>\n",
       "      <td>NaN</td>\n",
       "      <td>NaN</td>\n",
       "      <td>NaN</td>\n",
       "      <td>NaN</td>\n",
       "      <td>NaN</td>\n",
       "      <td>NaN</td>\n",
       "      <td>NaN</td>\n",
       "      <td>NaN</td>\n",
       "      <td>NaN</td>\n",
       "      <td>NaN</td>\n",
       "      <td>NaN</td>\n",
       "      <td>NaN</td>\n",
       "      <td>NaN</td>\n",
       "      <td>NaN</td>\n",
       "      <td>NaN</td>\n",
       "      <td>NaN</td>\n",
       "      <td>NaN</td>\n",
       "      <td>NaN</td>\n",
       "    </tr>\n",
       "    <tr>\n",
       "      <th>1</th>\n",
       "      <td>1</td>\n",
       "      <td>[]</td>\n",
       "      <td>False</td>\n",
       "      <td>akromyk</td>\n",
       "      <td>NaN</td>\n",
       "      <td>[]</td>\n",
       "      <td>NaN</td>\n",
       "      <td>text</td>\n",
       "      <td>t2_htlnd</td>\n",
       "      <td>False</td>\n",
       "      <td>False</td>\n",
       "      <td>False</td>\n",
       "      <td>[]</td>\n",
       "      <td>False</td>\n",
       "      <td>False</td>\n",
       "      <td>1629344626</td>\n",
       "      <td>self.nhl</td>\n",
       "      <td>https://www.reddit.com/r/nhl/comments/p776d2/e...</td>\n",
       "      <td>{}</td>\n",
       "      <td>p776d2</td>\n",
       "      <td>False</td>\n",
       "      <td>True</td>\n",
       "      <td>False</td>\n",
       "      <td>False</td>\n",
       "      <td>False</td>\n",
       "      <td>True</td>\n",
       "      <td>True</td>\n",
       "      <td>False</td>\n",
       "      <td>NaN</td>\n",
       "      <td>[{'e': 'text', 't': 'Question'}]</td>\n",
       "      <td>dark</td>\n",
       "      <td>richtext</td>\n",
       "      <td>False</td>\n",
       "      <td>False</td>\n",
       "      <td>True</td>\n",
       "      <td>0</td>\n",
       "      <td>0</td>\n",
       "      <td>False</td>\n",
       "      <td>all_ads</td>\n",
       "      <td>/r/nhl/comments/p776d2/eli5_whats_this_about_t...</td>\n",
       "      <td>False</td>\n",
       "      <td>6</td>\n",
       "      <td>1629344637</td>\n",
       "      <td>1</td>\n",
       "      <td>I can't watch local games, I can't play the si...</td>\n",
       "      <td>True</td>\n",
       "      <td>False</td>\n",
       "      <td>False</td>\n",
       "      <td>nhl</td>\n",
       "      <td>t5_2qrrq</td>\n",
       "      <td>251100</td>\n",
       "      <td>public</td>\n",
       "      <td>self</td>\n",
       "      <td>ELI5: What's this about turning NHL jerseys in...</td>\n",
       "      <td>0</td>\n",
       "      <td>[]</td>\n",
       "      <td>1.0</td>\n",
       "      <td>https://www.reddit.com/r/nhl/comments/p776d2/e...</td>\n",
       "      <td>all_ads</td>\n",
       "      <td>6</td>\n",
       "      <td>401cd922-ce91-11eb-b867-0ed60675cd25</td>\n",
       "      <td>Question</td>\n",
       "      <td>NaN</td>\n",
       "      <td>NaN</td>\n",
       "      <td>NaN</td>\n",
       "      <td>NaN</td>\n",
       "      <td>NaN</td>\n",
       "      <td>NaN</td>\n",
       "      <td>NaN</td>\n",
       "      <td>NaN</td>\n",
       "      <td>NaN</td>\n",
       "      <td>NaN</td>\n",
       "      <td>NaN</td>\n",
       "      <td>NaN</td>\n",
       "      <td>NaN</td>\n",
       "      <td>NaN</td>\n",
       "      <td>NaN</td>\n",
       "      <td>NaN</td>\n",
       "      <td>NaN</td>\n",
       "      <td>NaN</td>\n",
       "      <td>NaN</td>\n",
       "      <td>NaN</td>\n",
       "      <td>NaN</td>\n",
       "      <td>NaN</td>\n",
       "      <td>NaN</td>\n",
       "      <td>NaN</td>\n",
       "    </tr>\n",
       "    <tr>\n",
       "      <th>2</th>\n",
       "      <td>2</td>\n",
       "      <td>[]</td>\n",
       "      <td>False</td>\n",
       "      <td>billpat-joe-dinosuar</td>\n",
       "      <td>NaN</td>\n",
       "      <td>[]</td>\n",
       "      <td>NaN</td>\n",
       "      <td>text</td>\n",
       "      <td>t2_27n7a0ke</td>\n",
       "      <td>False</td>\n",
       "      <td>False</td>\n",
       "      <td>False</td>\n",
       "      <td>[]</td>\n",
       "      <td>False</td>\n",
       "      <td>False</td>\n",
       "      <td>1629341075</td>\n",
       "      <td>v.redd.it</td>\n",
       "      <td>https://www.reddit.com/r/nhl/comments/p768dv/h...</td>\n",
       "      <td>{}</td>\n",
       "      <td>p768dv</td>\n",
       "      <td>False</td>\n",
       "      <td>True</td>\n",
       "      <td>False</td>\n",
       "      <td>False</td>\n",
       "      <td>True</td>\n",
       "      <td>True</td>\n",
       "      <td>False</td>\n",
       "      <td>False</td>\n",
       "      <td>NaN</td>\n",
       "      <td>[]</td>\n",
       "      <td>dark</td>\n",
       "      <td>text</td>\n",
       "      <td>False</td>\n",
       "      <td>False</td>\n",
       "      <td>True</td>\n",
       "      <td>0</td>\n",
       "      <td>0</td>\n",
       "      <td>False</td>\n",
       "      <td>all_ads</td>\n",
       "      <td>/r/nhl/comments/p768dv/hockey_player_hits_russ...</td>\n",
       "      <td>False</td>\n",
       "      <td>6</td>\n",
       "      <td>1629341087</td>\n",
       "      <td>1</td>\n",
       "      <td>NaN</td>\n",
       "      <td>True</td>\n",
       "      <td>False</td>\n",
       "      <td>False</td>\n",
       "      <td>nhl</td>\n",
       "      <td>t5_2qrrq</td>\n",
       "      <td>251096</td>\n",
       "      <td>public</td>\n",
       "      <td>https://a.thumbs.redditmedia.com/KjRfWo-fAVnJS...</td>\n",
       "      <td>Hockey player hits Russian Referee</td>\n",
       "      <td>0</td>\n",
       "      <td>[]</td>\n",
       "      <td>1.0</td>\n",
       "      <td>https://v.redd.it/tmfy0pooz6i71</td>\n",
       "      <td>all_ads</td>\n",
       "      <td>6</td>\n",
       "      <td>NaN</td>\n",
       "      <td>NaN</td>\n",
       "      <td>t3_p71u6n</td>\n",
       "      <td>[{'all_awardings': [{'award_sub_type': 'GLOBAL...</td>\n",
       "      <td>link</td>\n",
       "      <td>{'enabled': False, 'images': [{'id': 'myK5K-XX...</td>\n",
       "      <td>78.0</td>\n",
       "      <td>140.0</td>\n",
       "      <td>https://v.redd.it/tmfy0pooz6i71</td>\n",
       "      <td>NaN</td>\n",
       "      <td>NaN</td>\n",
       "      <td>NaN</td>\n",
       "      <td>NaN</td>\n",
       "      <td>NaN</td>\n",
       "      <td>NaN</td>\n",
       "      <td>NaN</td>\n",
       "      <td>NaN</td>\n",
       "      <td>NaN</td>\n",
       "      <td>NaN</td>\n",
       "      <td>NaN</td>\n",
       "      <td>NaN</td>\n",
       "      <td>NaN</td>\n",
       "      <td>NaN</td>\n",
       "      <td>NaN</td>\n",
       "      <td>NaN</td>\n",
       "      <td>NaN</td>\n",
       "    </tr>\n",
       "    <tr>\n",
       "      <th>3</th>\n",
       "      <td>3</td>\n",
       "      <td>[]</td>\n",
       "      <td>False</td>\n",
       "      <td>bronxi11</td>\n",
       "      <td>NaN</td>\n",
       "      <td>[]</td>\n",
       "      <td>NaN</td>\n",
       "      <td>text</td>\n",
       "      <td>t2_42ohhult</td>\n",
       "      <td>False</td>\n",
       "      <td>False</td>\n",
       "      <td>False</td>\n",
       "      <td>[]</td>\n",
       "      <td>False</td>\n",
       "      <td>False</td>\n",
       "      <td>1629337649</td>\n",
       "      <td>i.redd.it</td>\n",
       "      <td>https://www.reddit.com/r/nhl/comments/p7597x/i...</td>\n",
       "      <td>{}</td>\n",
       "      <td>p7597x</td>\n",
       "      <td>False</td>\n",
       "      <td>True</td>\n",
       "      <td>False</td>\n",
       "      <td>False</td>\n",
       "      <td>True</td>\n",
       "      <td>True</td>\n",
       "      <td>False</td>\n",
       "      <td>False</td>\n",
       "      <td>NaN</td>\n",
       "      <td>[]</td>\n",
       "      <td>dark</td>\n",
       "      <td>text</td>\n",
       "      <td>False</td>\n",
       "      <td>False</td>\n",
       "      <td>True</td>\n",
       "      <td>0</td>\n",
       "      <td>0</td>\n",
       "      <td>False</td>\n",
       "      <td>all_ads</td>\n",
       "      <td>/r/nhl/comments/p7597x/in_recognition_of_jerse...</td>\n",
       "      <td>False</td>\n",
       "      <td>6</td>\n",
       "      <td>1629337660</td>\n",
       "      <td>1</td>\n",
       "      <td>NaN</td>\n",
       "      <td>True</td>\n",
       "      <td>False</td>\n",
       "      <td>False</td>\n",
       "      <td>nhl</td>\n",
       "      <td>t5_2qrrq</td>\n",
       "      <td>251086</td>\n",
       "      <td>public</td>\n",
       "      <td>https://b.thumbs.redditmedia.com/SSIj0s9OfNeRU...</td>\n",
       "      <td>In recognition of Jersey ads</td>\n",
       "      <td>0</td>\n",
       "      <td>[]</td>\n",
       "      <td>1.0</td>\n",
       "      <td>https://i.redd.it/8qn7r53sz7i71.png</td>\n",
       "      <td>all_ads</td>\n",
       "      <td>6</td>\n",
       "      <td>NaN</td>\n",
       "      <td>NaN</td>\n",
       "      <td>NaN</td>\n",
       "      <td>NaN</td>\n",
       "      <td>image</td>\n",
       "      <td>{'enabled': True, 'images': [{'id': '2jNCYpu1e...</td>\n",
       "      <td>126.0</td>\n",
       "      <td>140.0</td>\n",
       "      <td>https://i.redd.it/8qn7r53sz7i71.png</td>\n",
       "      <td>NaN</td>\n",
       "      <td>NaN</td>\n",
       "      <td>NaN</td>\n",
       "      <td>NaN</td>\n",
       "      <td>NaN</td>\n",
       "      <td>NaN</td>\n",
       "      <td>NaN</td>\n",
       "      <td>NaN</td>\n",
       "      <td>NaN</td>\n",
       "      <td>NaN</td>\n",
       "      <td>NaN</td>\n",
       "      <td>NaN</td>\n",
       "      <td>NaN</td>\n",
       "      <td>NaN</td>\n",
       "      <td>NaN</td>\n",
       "      <td>NaN</td>\n",
       "      <td>NaN</td>\n",
       "    </tr>\n",
       "    <tr>\n",
       "      <th>4</th>\n",
       "      <td>4</td>\n",
       "      <td>[]</td>\n",
       "      <td>False</td>\n",
       "      <td>Hollaback_Boy</td>\n",
       "      <td>NaN</td>\n",
       "      <td>[]</td>\n",
       "      <td>NaN</td>\n",
       "      <td>text</td>\n",
       "      <td>t2_3el1cidt</td>\n",
       "      <td>False</td>\n",
       "      <td>False</td>\n",
       "      <td>False</td>\n",
       "      <td>[]</td>\n",
       "      <td>False</td>\n",
       "      <td>False</td>\n",
       "      <td>1629328603</td>\n",
       "      <td>self.nhl</td>\n",
       "      <td>https://www.reddit.com/r/nhl/comments/p72q4n/d...</td>\n",
       "      <td>{}</td>\n",
       "      <td>p72q4n</td>\n",
       "      <td>False</td>\n",
       "      <td>True</td>\n",
       "      <td>False</td>\n",
       "      <td>False</td>\n",
       "      <td>False</td>\n",
       "      <td>True</td>\n",
       "      <td>True</td>\n",
       "      <td>False</td>\n",
       "      <td>NaN</td>\n",
       "      <td>[]</td>\n",
       "      <td>dark</td>\n",
       "      <td>text</td>\n",
       "      <td>False</td>\n",
       "      <td>False</td>\n",
       "      <td>True</td>\n",
       "      <td>0</td>\n",
       "      <td>0</td>\n",
       "      <td>False</td>\n",
       "      <td>all_ads</td>\n",
       "      <td>/r/nhl/comments/p72q4n/does_espn_currently_hav...</td>\n",
       "      <td>False</td>\n",
       "      <td>6</td>\n",
       "      <td>1629328614</td>\n",
       "      <td>1</td>\n",
       "      <td>Trying to fill the hole in my life, but I don'...</td>\n",
       "      <td>True</td>\n",
       "      <td>False</td>\n",
       "      <td>False</td>\n",
       "      <td>nhl</td>\n",
       "      <td>t5_2qrrq</td>\n",
       "      <td>251070</td>\n",
       "      <td>public</td>\n",
       "      <td>self</td>\n",
       "      <td>Does ESPN+ Currently Have Last Seasons Games?</td>\n",
       "      <td>0</td>\n",
       "      <td>[]</td>\n",
       "      <td>1.0</td>\n",
       "      <td>https://www.reddit.com/r/nhl/comments/p72q4n/d...</td>\n",
       "      <td>all_ads</td>\n",
       "      <td>6</td>\n",
       "      <td>NaN</td>\n",
       "      <td>NaN</td>\n",
       "      <td>NaN</td>\n",
       "      <td>NaN</td>\n",
       "      <td>NaN</td>\n",
       "      <td>NaN</td>\n",
       "      <td>NaN</td>\n",
       "      <td>NaN</td>\n",
       "      <td>NaN</td>\n",
       "      <td>NaN</td>\n",
       "      <td>NaN</td>\n",
       "      <td>NaN</td>\n",
       "      <td>NaN</td>\n",
       "      <td>NaN</td>\n",
       "      <td>NaN</td>\n",
       "      <td>NaN</td>\n",
       "      <td>NaN</td>\n",
       "      <td>NaN</td>\n",
       "      <td>NaN</td>\n",
       "      <td>NaN</td>\n",
       "      <td>NaN</td>\n",
       "      <td>NaN</td>\n",
       "      <td>NaN</td>\n",
       "      <td>NaN</td>\n",
       "      <td>NaN</td>\n",
       "      <td>NaN</td>\n",
       "    </tr>\n",
       "  </tbody>\n",
       "</table>\n",
       "</div>"
      ],
      "text/plain": [
       "   Unnamed: 0 all_awardings  allow_live_comments                author  \\\n",
       "0           0            []                False               akromyk   \n",
       "1           1            []                False               akromyk   \n",
       "2           2            []                False  billpat-joe-dinosuar   \n",
       "3           3            []                False              bronxi11   \n",
       "4           4            []                False         Hollaback_Boy   \n",
       "\n",
       "  author_flair_css_class author_flair_richtext author_flair_text  \\\n",
       "0                    NaN                    []               NaN   \n",
       "1                    NaN                    []               NaN   \n",
       "2                    NaN                    []               NaN   \n",
       "3                    NaN                    []               NaN   \n",
       "4                    NaN                    []               NaN   \n",
       "\n",
       "  author_flair_type author_fullname author_is_blocked author_patreon_flair  \\\n",
       "0              text        t2_htlnd             False                False   \n",
       "1              text        t2_htlnd             False                False   \n",
       "2              text     t2_27n7a0ke             False                False   \n",
       "3              text     t2_42ohhult             False                False   \n",
       "4              text     t2_3el1cidt             False                False   \n",
       "\n",
       "  author_premium awarders  can_mod_post  contest_mode  created_utc     domain  \\\n",
       "0          False       []         False         False   1629345048   self.nhl   \n",
       "1          False       []         False         False   1629344626   self.nhl   \n",
       "2          False       []         False         False   1629341075  v.redd.it   \n",
       "3          False       []         False         False   1629337649  i.redd.it   \n",
       "4          False       []         False         False   1629328603   self.nhl   \n",
       "\n",
       "                                           full_link gildings      id  \\\n",
       "0  https://www.reddit.com/r/nhl/comments/p77a5y/w...       {}  p77a5y   \n",
       "1  https://www.reddit.com/r/nhl/comments/p776d2/e...       {}  p776d2   \n",
       "2  https://www.reddit.com/r/nhl/comments/p768dv/h...       {}  p768dv   \n",
       "3  https://www.reddit.com/r/nhl/comments/p7597x/i...       {}  p7597x   \n",
       "4  https://www.reddit.com/r/nhl/comments/p72q4n/d...       {}  p72q4n   \n",
       "\n",
       "  is_created_from_ads_ui  is_crosspostable  is_meta  is_original_content  \\\n",
       "0                  False              True    False                False   \n",
       "1                  False              True    False                False   \n",
       "2                  False              True    False                False   \n",
       "3                  False              True    False                False   \n",
       "4                  False              True    False                False   \n",
       "\n",
       "   is_reddit_media_domain  is_robot_indexable  is_self  is_video  \\\n",
       "0                   False                True     True     False   \n",
       "1                   False                True     True     False   \n",
       "2                    True                True    False     False   \n",
       "3                    True                True    False     False   \n",
       "4                   False                True     True     False   \n",
       "\n",
       "  link_flair_background_color               link_flair_richtext  \\\n",
       "0                         NaN                                []   \n",
       "1                         NaN  [{'e': 'text', 't': 'Question'}]   \n",
       "2                         NaN                                []   \n",
       "3                         NaN                                []   \n",
       "4                         NaN                                []   \n",
       "\n",
       "  link_flair_text_color link_flair_type  locked  media_only  no_follow  \\\n",
       "0                  dark            text   False       False       True   \n",
       "1                  dark        richtext   False       False       True   \n",
       "2                  dark            text   False       False       True   \n",
       "3                  dark            text   False       False       True   \n",
       "4                  dark            text   False       False       True   \n",
       "\n",
       "   num_comments  num_crossposts  over_18 parent_whitelist_status  \\\n",
       "0             0               0    False                 all_ads   \n",
       "1             0               0    False                 all_ads   \n",
       "2             0               0    False                 all_ads   \n",
       "3             0               0    False                 all_ads   \n",
       "4             0               0    False                 all_ads   \n",
       "\n",
       "                                           permalink  pinned  pwls  \\\n",
       "0  /r/nhl/comments/p77a5y/whats_this_ive_been_hea...   False     6   \n",
       "1  /r/nhl/comments/p776d2/eli5_whats_this_about_t...   False     6   \n",
       "2  /r/nhl/comments/p768dv/hockey_player_hits_russ...   False     6   \n",
       "3  /r/nhl/comments/p7597x/in_recognition_of_jerse...   False     6   \n",
       "4  /r/nhl/comments/p72q4n/does_espn_currently_hav...   False     6   \n",
       "\n",
       "   retrieved_on  score                                           selftext  \\\n",
       "0    1629345059      1  Can someone fill me in on what's going on with...   \n",
       "1    1629344637      1  I can't watch local games, I can't play the si...   \n",
       "2    1629341087      1                                                NaN   \n",
       "3    1629337660      1                                                NaN   \n",
       "4    1629328614      1  Trying to fill the hole in my life, but I don'...   \n",
       "\n",
       "   send_replies  spoiler  stickied subreddit subreddit_id  \\\n",
       "0          True    False     False       nhl     t5_2qrrq   \n",
       "1          True    False     False       nhl     t5_2qrrq   \n",
       "2          True    False     False       nhl     t5_2qrrq   \n",
       "3          True    False     False       nhl     t5_2qrrq   \n",
       "4          True    False     False       nhl     t5_2qrrq   \n",
       "\n",
       "   subreddit_subscribers subreddit_type  \\\n",
       "0                 251100         public   \n",
       "1                 251100         public   \n",
       "2                 251096         public   \n",
       "3                 251086         public   \n",
       "4                 251070         public   \n",
       "\n",
       "                                           thumbnail  \\\n",
       "0                                               self   \n",
       "1                                               self   \n",
       "2  https://a.thumbs.redditmedia.com/KjRfWo-fAVnJS...   \n",
       "3  https://b.thumbs.redditmedia.com/SSIj0s9OfNeRU...   \n",
       "4                                               self   \n",
       "\n",
       "                                               title  total_awards_received  \\\n",
       "0  What's this I've been hearing about turning NH...                      0   \n",
       "1  ELI5: What's this about turning NHL jerseys in...                      0   \n",
       "2                 Hockey player hits Russian Referee                      0   \n",
       "3                       In recognition of Jersey ads                      0   \n",
       "4      Does ESPN+ Currently Have Last Seasons Games?                      0   \n",
       "\n",
       "  treatment_tags  upvote_ratio  \\\n",
       "0             []           1.0   \n",
       "1             []           1.0   \n",
       "2             []           1.0   \n",
       "3             []           1.0   \n",
       "4             []           1.0   \n",
       "\n",
       "                                                 url whitelist_status  wls  \\\n",
       "0  https://www.reddit.com/r/nhl/comments/p77a5y/w...          all_ads    6   \n",
       "1  https://www.reddit.com/r/nhl/comments/p776d2/e...          all_ads    6   \n",
       "2                    https://v.redd.it/tmfy0pooz6i71          all_ads    6   \n",
       "3                https://i.redd.it/8qn7r53sz7i71.png          all_ads    6   \n",
       "4  https://www.reddit.com/r/nhl/comments/p72q4n/d...          all_ads    6   \n",
       "\n",
       "                 link_flair_template_id link_flair_text crosspost_parent  \\\n",
       "0                                   NaN             NaN              NaN   \n",
       "1  401cd922-ce91-11eb-b867-0ed60675cd25        Question              NaN   \n",
       "2                                   NaN             NaN        t3_p71u6n   \n",
       "3                                   NaN             NaN              NaN   \n",
       "4                                   NaN             NaN              NaN   \n",
       "\n",
       "                               crosspost_parent_list post_hint  \\\n",
       "0                                                NaN       NaN   \n",
       "1                                                NaN       NaN   \n",
       "2  [{'all_awardings': [{'award_sub_type': 'GLOBAL...      link   \n",
       "3                                                NaN     image   \n",
       "4                                                NaN       NaN   \n",
       "\n",
       "                                             preview  thumbnail_height  \\\n",
       "0                                                NaN               NaN   \n",
       "1                                                NaN               NaN   \n",
       "2  {'enabled': False, 'images': [{'id': 'myK5K-XX...              78.0   \n",
       "3  {'enabled': True, 'images': [{'id': '2jNCYpu1e...             126.0   \n",
       "4                                                NaN               NaN   \n",
       "\n",
       "   thumbnail_width               url_overridden_by_dest  \\\n",
       "0              NaN                                  NaN   \n",
       "1              NaN                                  NaN   \n",
       "2            140.0      https://v.redd.it/tmfy0pooz6i71   \n",
       "3            140.0  https://i.redd.it/8qn7r53sz7i71.png   \n",
       "4              NaN                                  NaN   \n",
       "\n",
       "  author_flair_background_color author_flair_template_id  \\\n",
       "0                           NaN                      NaN   \n",
       "1                           NaN                      NaN   \n",
       "2                           NaN                      NaN   \n",
       "3                           NaN                      NaN   \n",
       "4                           NaN                      NaN   \n",
       "\n",
       "  author_flair_text_color media media_embed secure_media secure_media_embed  \\\n",
       "0                     NaN   NaN         NaN          NaN                NaN   \n",
       "1                     NaN   NaN         NaN          NaN                NaN   \n",
       "2                     NaN   NaN         NaN          NaN                NaN   \n",
       "3                     NaN   NaN         NaN          NaN                NaN   \n",
       "4                     NaN   NaN         NaN          NaN                NaN   \n",
       "\n",
       "  gallery_data is_gallery media_metadata poll_data removed_by_category  \\\n",
       "0          NaN        NaN            NaN       NaN                 NaN   \n",
       "1          NaN        NaN            NaN       NaN                 NaN   \n",
       "2          NaN        NaN            NaN       NaN                 NaN   \n",
       "3          NaN        NaN            NaN       NaN                 NaN   \n",
       "4          NaN        NaN            NaN       NaN                 NaN   \n",
       "\n",
       "  link_flair_css_class author_cakeday  edited suggested_sort banned_by  \n",
       "0                  NaN            NaN     NaN            NaN       NaN  \n",
       "1                  NaN            NaN     NaN            NaN       NaN  \n",
       "2                  NaN            NaN     NaN            NaN       NaN  \n",
       "3                  NaN            NaN     NaN            NaN       NaN  \n",
       "4                  NaN            NaN     NaN            NaN       NaN  "
      ]
     },
     "execution_count": 10,
     "metadata": {},
     "output_type": "execute_result"
    }
   ],
   "source": [
    "nhl_new.head()"
   ]
  },
  {
   "cell_type": "code",
   "execution_count": 11,
   "id": "fb4ceabc",
   "metadata": {},
   "outputs": [
    {
     "data": {
      "text/plain": [
       "2954"
      ]
     },
     "execution_count": 11,
     "metadata": {},
     "output_type": "execute_result"
    }
   ],
   "source": [
    "# number of unique 'titles'\n",
    "nhl_new['title'].nunique()"
   ]
  },
  {
   "cell_type": "code",
   "execution_count": 12,
   "id": "1d21f3d3",
   "metadata": {},
   "outputs": [
    {
     "data": {
      "text/plain": [
       "(3000, 86)"
      ]
     },
     "execution_count": 12,
     "metadata": {},
     "output_type": "execute_result"
    }
   ],
   "source": [
    "nhl_new.shape"
   ]
  },
  {
   "cell_type": "code",
   "execution_count": 13,
   "id": "c8108c8e",
   "metadata": {},
   "outputs": [],
   "source": [
    "# NHL Dataframe with `subreddit`, `selftext`, and `title` columns\n",
    "pd.set_option('display.max_columns', None)\n",
    "nhl_new = nhl_new[['subreddit', 'selftext', 'title']]"
   ]
  },
  {
   "cell_type": "code",
   "execution_count": 14,
   "id": "76f6d532",
   "metadata": {},
   "outputs": [
    {
     "data": {
      "text/plain": [
       "subreddit       0\n",
       "selftext     1990\n",
       "title           0\n",
       "dtype: int64"
      ]
     },
     "execution_count": 14,
     "metadata": {},
     "output_type": "execute_result"
    }
   ],
   "source": [
    "nhl_new.isnull().sum()"
   ]
  },
  {
   "cell_type": "code",
   "execution_count": 15,
   "id": "bea6cf73",
   "metadata": {},
   "outputs": [],
   "source": [
    "nhl_new.to_csv('./datasets/nhl_new')"
   ]
  },
  {
   "cell_type": "code",
   "execution_count": 16,
   "id": "a5e90415",
   "metadata": {},
   "outputs": [],
   "source": [
    "subreddit_df = pd.concat([nba_new, nhl_new], ignore_index=True, sort=False)"
   ]
  },
  {
   "cell_type": "code",
   "execution_count": 17,
   "id": "68cba527",
   "metadata": {},
   "outputs": [
    {
     "data": {
      "text/html": [
       "<div>\n",
       "<style scoped>\n",
       "    .dataframe tbody tr th:only-of-type {\n",
       "        vertical-align: middle;\n",
       "    }\n",
       "\n",
       "    .dataframe tbody tr th {\n",
       "        vertical-align: top;\n",
       "    }\n",
       "\n",
       "    .dataframe thead th {\n",
       "        text-align: right;\n",
       "    }\n",
       "</style>\n",
       "<table border=\"1\" class=\"dataframe\">\n",
       "  <thead>\n",
       "    <tr style=\"text-align: right;\">\n",
       "      <th></th>\n",
       "      <th>subreddit</th>\n",
       "      <th>selftext</th>\n",
       "      <th>title</th>\n",
       "    </tr>\n",
       "  </thead>\n",
       "  <tbody>\n",
       "    <tr>\n",
       "      <th>0</th>\n",
       "      <td>nba</td>\n",
       "      <td>[**Ra asked me**](https://mediumlights.substac...</td>\n",
       "      <td>OC: Rookies Adjusting To The NBA (easier for s...</td>\n",
       "    </tr>\n",
       "    <tr>\n",
       "      <th>1</th>\n",
       "      <td>nba</td>\n",
       "      <td>NaN</td>\n",
       "      <td>One of the highest upvoted posts and greatest ...</td>\n",
       "    </tr>\n",
       "    <tr>\n",
       "      <th>2</th>\n",
       "      <td>nba</td>\n",
       "      <td>#[Game 4 vs Portland](https://www.basketball-r...</td>\n",
       "      <td>2020 Lakers were up at least 30 points in each...</td>\n",
       "    </tr>\n",
       "    <tr>\n",
       "      <th>3</th>\n",
       "      <td>nba</td>\n",
       "      <td>NaN</td>\n",
       "      <td>Chicago Bears Coach Matt Nagy Uses Giannis NBA...</td>\n",
       "    </tr>\n",
       "    <tr>\n",
       "      <th>4</th>\n",
       "      <td>nba</td>\n",
       "      <td>NaN</td>\n",
       "      <td>Kevin Durant Takes Over In 2012 NBA Finals Gam...</td>\n",
       "    </tr>\n",
       "  </tbody>\n",
       "</table>\n",
       "</div>"
      ],
      "text/plain": [
       "  subreddit                                           selftext  \\\n",
       "0       nba  [**Ra asked me**](https://mediumlights.substac...   \n",
       "1       nba                                                NaN   \n",
       "2       nba  #[Game 4 vs Portland](https://www.basketball-r...   \n",
       "3       nba                                                NaN   \n",
       "4       nba                                                NaN   \n",
       "\n",
       "                                               title  \n",
       "0  OC: Rookies Adjusting To The NBA (easier for s...  \n",
       "1  One of the highest upvoted posts and greatest ...  \n",
       "2  2020 Lakers were up at least 30 points in each...  \n",
       "3  Chicago Bears Coach Matt Nagy Uses Giannis NBA...  \n",
       "4  Kevin Durant Takes Over In 2012 NBA Finals Gam...  "
      ]
     },
     "execution_count": 17,
     "metadata": {},
     "output_type": "execute_result"
    }
   ],
   "source": [
    "subreddit_df.head()"
   ]
  },
  {
   "cell_type": "code",
   "execution_count": 18,
   "id": "8a2407ab",
   "metadata": {},
   "outputs": [],
   "source": [
    "# Save merged dataframe\n",
    "\n",
    "subreddit_df.to_csv('./datasets/subreddit_merged.csv')"
   ]
  },
  {
   "cell_type": "markdown",
   "id": "ae86ae85",
   "metadata": {},
   "source": [
    "### Cleaning"
   ]
  },
  {
   "cell_type": "code",
   "execution_count": 19,
   "id": "8757f3e4",
   "metadata": {},
   "outputs": [
    {
     "data": {
      "text/plain": [
       "subreddit    object\n",
       "selftext     object\n",
       "title        object\n",
       "dtype: object"
      ]
     },
     "execution_count": 19,
     "metadata": {},
     "output_type": "execute_result"
    }
   ],
   "source": [
    "subreddit_df.dtypes"
   ]
  },
  {
   "cell_type": "code",
   "execution_count": 20,
   "id": "94c289f7",
   "metadata": {},
   "outputs": [
    {
     "data": {
      "text/plain": [
       "subreddit       0\n",
       "selftext     3276\n",
       "title           0\n",
       "dtype: int64"
      ]
     },
     "execution_count": 20,
     "metadata": {},
     "output_type": "execute_result"
    }
   ],
   "source": [
    "subreddit_df.isnull().sum()"
   ]
  },
  {
   "cell_type": "code",
   "execution_count": 21,
   "id": "4183ac31",
   "metadata": {},
   "outputs": [
    {
     "data": {
      "text/plain": [
       "subreddit       0\n",
       "selftext     3276\n",
       "title           0\n",
       "dtype: int64"
      ]
     },
     "execution_count": 21,
     "metadata": {},
     "output_type": "execute_result"
    }
   ],
   "source": [
    "subreddit_df.isnull().sum()"
   ]
  },
  {
   "cell_type": "code",
   "execution_count": 22,
   "id": "32bbc50e",
   "metadata": {},
   "outputs": [
    {
     "data": {
      "text/plain": [
       "(6000, 3)"
      ]
     },
     "execution_count": 22,
     "metadata": {},
     "output_type": "execute_result"
    }
   ],
   "source": [
    "subreddit_df.shape"
   ]
  },
  {
   "cell_type": "code",
   "execution_count": 23,
   "id": "633e42e7",
   "metadata": {},
   "outputs": [
    {
     "name": "stdout",
     "output_type": "stream",
     "text": [
      "<class 'pandas.core.frame.DataFrame'>\n",
      "RangeIndex: 6000 entries, 0 to 5999\n",
      "Data columns (total 3 columns):\n",
      " #   Column     Non-Null Count  Dtype \n",
      "---  ------     --------------  ----- \n",
      " 0   subreddit  6000 non-null   object\n",
      " 1   selftext   2724 non-null   object\n",
      " 2   title      6000 non-null   object\n",
      "dtypes: object(3)\n",
      "memory usage: 140.8+ KB\n"
     ]
    }
   ],
   "source": [
    "subreddit_df.info()"
   ]
  },
  {
   "cell_type": "code",
   "execution_count": 24,
   "id": "b8079083",
   "metadata": {},
   "outputs": [
    {
     "data": {
      "text/plain": [
       "[removed]                                                                                                                                                                                                                                                                                                                                                                                                                                                                                                                                                                                                                                                                                                                                                                                                                                                                                                                                                                                                                                                                                                                                                                                                                                                                                                                                                                                                                                                                                                                                                                                                                                                                                                                                                                                                                                                                                                                                                                                                                                                                                                                                                     417\n",
       "[deleted]                                                                                                                                                                                                                                                                                                                                                                                                                                                                                                                                                                                                                                                                                                                                                                                                                                                                                                                                                                                                                                                                                                                                                                                                                                                                                                                                                                                                                                                                                                                                                                                                                                                                                                                                                                                                                                                                                                                                                                                                                                                                                                                                                      74\n",
       "During the off season, this thread will serve as a place for any free talk or topics that do not qualify for a post. \\r\\n\\r\\nDaily Discussion Thread : [Rules](https://www.reddit.com/r/nba/wiki/rules#wiki_daily_discussion_thread)                                                                                                                                                                                                                                                                                                                                                                                                                                                                                                                                                                                                                                                                                                                                                                                                                                                                                                                                                                                                                                                                                                                                                                                                                                                                                                                                                                                                                                                                                                                                                                                                                                                                                                                                                                                                                                                                                                                            7\n",
       "Edwards is developing nicely and from a defensive/steal/dodgy antics perspective will help him become one of the best 2 way guards.\\r\\n\\r\\nPat Bev should be on a contending team. An healthy wolves team will make some noise between 9-6 seed.                                                                                                                                                                                                                                                                                                                                                                                                                                                                                                                                                                                                                                                                                                                                                                                                                                                                                                                                                                                                                                                                                                                                                                                                                                                                                                                                                                                                                                                                                                                                                                                                                                                                                                                                                                                                                                                                                                                3\n",
       "Hello! My name is Chris Seabury,\\r\\n\\r\\nMy team and I are currently conducting market research for a student project affiliated with the Business of Sports Certificate Program at the University of Colorado at Boulder. Our project is centered around the legalization of sports betting and how it is implemented into stadiums across professional sports. We would greatly appreciate it if you would take our short 5-10 minute survey on sports betting as this would give us valuable insight on how consumers perceive and engage with sports betting!\\r\\n\\r\\n[https://cuboulder.qualtrics.com/jfe/form/SV\\_ezJBA2kyUxewtfM](https://cuboulder.qualtrics.com/jfe/form/SV_ezJBA2kyUxewtfM)                                                                                                                                                                                                                                                                                                                                                                                                                                                                                                                                                                                                                                                                                                                                                                                                                                                                                                                                                                                                                                                                                                                                                                                                                                                                                                                                                                                                                                                             3\n",
       "                                                                                                                                                                                                                                                                                                                                                                                                                                                                                                                                                                                                                                                                                                                                                                                                                                                                                                                                                                                                                                                                                                                                                                                                                                                                                                                                                                                                                                                                                                                                                                                                                                                                                                                                                                                                                                                                                                                                                                                                                                                                                                                                                             ... \n",
       "So, I have a really great idea for an NBA  YouTube channel.  Using NBA clips and creating a parody of an NBA game where everything goes wrong.\\r\\n\\r\\nA legal parody is:\\r\\n\\r\\nLegally, parodies are defined more broadly. In legal terms, a parody is a literary or artistic work that imitates the characteristic style of an author or a work for comic effect or ridicule. It is regarded as a criticism or comment on the original copyrighted work.\\r\\n\\r\\n\\r\\nSo would I be able to do that legally?                                                                                                                                                                                                                                                                                                                                                                                                                                                                                                                                                                                                                                                                                                                                                                                                                                                                                                                                                                                                                                                                                                                                                                                                                                                                                                                                                                                                                                                                                                                                                                                                                                                    1\n",
       "PG: Steph Curry\\r\\n\\r\\nSG: Klay Thompson\\r\\n\\r\\nSF: Kevin Durant\\r\\n\\r\\nPF: Andre Iguodala\\r\\n\\r\\nC: Draymond Green\\r\\n\\r\\ncould this completely random team that i just came up with beat the brooklyn nets? i feel like they match up pretty well                                                                                                                                                                                                                                                                                                                                                                                                                                                                                                                                                                                                                                                                                                                                                                                                                                                                                                                                                                                                                                                                                                                                                                                                                                                                                                                                                                                                                                                                                                                                                                                                                                                                                                                                                                                                                                                                                                             1\n",
       "This means the greatest player to play on that team based on their total career, and not based on their time playing with that team. For example, Hakeem is the greatest player to ever play for the Raptors, even though he's not the GOAT Raptor.\\r\\n\\r\\n\\r\\n**Los Angeles:** LeBron James (2018-present)\\r\\n\\r\\n**Buffalo/San Diego/etc:** Kawhi Leonard (2019-present)\\r\\n\\r\\n**Phoenix:** Shaquille O'Neal (2008-2009)\\r\\n\\r\\n**Rochester/Cincinnati/Omaha/Kansas City/Sacramento:** Oscar Robertson (1960-1970)\\r\\n\\r\\n**Golden State:** Wilt Chamberlain (1959-1965)\\r\\n\\r\\n\\r\\n**Portland:** Scottie Pippen (1999-2003)\\r\\n\\r\\n**Seattle/Oklahoma:** Kevin Durant (2007-2016)\\r\\n\\r\\n**Utah:** Karl Malone (1985-2003)\\r\\n\\r\\n**Denver:** Allen Iverson (2006-2008)\\r\\n\\r\\n**Minnesota:** Kevin Garnett (1995-2007, 2015-2016)\\r\\n\\r\\n\\r\\n**Dallas:** Dirk Nowitzki (1998-2019)\\r\\n\\r\\n**Houston:** Hakeem Olajuwon (1984-2001)\\r\\n\\r\\n**San Antonio:** Tim Duncan (1997-2016)\\r\\n\\r\\n**Vancouver/Memphis:** Allen Iverson (2009)\\r\\n\\r\\n**New Orleans:** Chris Paul (2005-2011)\\r\\n\\r\\n\\r\\n**Milwaukee:** Kareem Abdul-Jabbar (1969-1975)\\r\\n\\r\\n**Chicago:** Michael Jordan (1984-1993, 1996-1998)\\r\\n\\r\\n**Indiana:** Reggie Miller (1987-2005)\\r\\n\\r\\n**Detroit:** Allen Iverson (2008-2009)\\r\\n\\r\\n**Cleveland:** LeBron James (2003-2010, 2014-2018)\\r\\n\\r\\n\\r\\n**Miami:** LeBron James (2010-2014)\\r\\n\\r\\n**Orlando:** Shaquille O'Neal (1992-1996)\\r\\n\\r\\n**Atlanta:** Moses Malone (1988-1991)\\r\\n\\r\\n**Charlotte:** Alonzo Mourning (1992-1995)\\r\\n\\r\\n**Washington:** Michael Jordan (2001-2003)\\r\\n\\r\\n\\r\\n**Philadelphia:** Wilt Chamberlain (1965-1968)\\r\\n\\r\\n**New York:** Jason Kidd (2012-2013)\\r\\n\\r\\n**New Jersey/Brooklyn:** Kevin Durant (2019-present)\\r\\n\\r\\n**Boston:** Shaquille O'Neal (2010-2011)\\r\\n\\r\\n**Toronto:** Hakeem Olajuwon (2001-2002)\\r\\n\\r\\n.\\r\\n\\r\\nPlayers with multiple appearances:\\r\\n\\r\\n**LeBron James** (3)\\r\\n\\r\\n**Shaquille O'Neal** (3)\\r\\n\\r\\n**Allen Iverson** (3)\\r\\n\\r\\n**Michael Jordan** (2)\\r\\n\\r\\n**Hakeem Olajuwon** (2)\\r\\n\\r\\n**Wilt Chamberlain** (2)\\r\\n\\r\\n**Kevin Durant** (2)      1\n",
       "how long has this phrase been used in the nba, or other sports? seems like everyone is using it this summer, and i don't recall hearing it before. i probably just missed it, but its a good one - really gets the point across.                                                                                                                                                                                                                                                                                                                                                                                                                                                                                                                                                                                                                                                                                                                                                                                                                                                                                                                                                                                                                                                                                                                                                                                                                                                                                                                                                                                                                                                                                                                                                                                                                                                                                                                                                                                                                                                                                                                                1\n",
       "I’m currently watching my first NHL playoff series (penguins vs islanders) and I’d like to hear from hockey fans why the sport is not bigger than it is? This is my first time watching and I’m enjoying it a lot. I don’t get why this doesn’t resonate with more people, especially young people. I don’t understand how in the present day it’s not more popular than baseball. It’s far more entertaining. Perhaps there is no desire to be bigger, I’m just curious.                                                                                                                                                                                                                                                                                                                                                                                                                                                                                                                                                                                                                                                                                                                                                                                                                                                                                                                                                                                                                                                                                                                                                                                                                                                                                                                                                                                                                                                                                                                                                                                                                                                                                       1\n",
       "Name: selftext, Length: 2216, dtype: int64"
      ]
     },
     "execution_count": 24,
     "metadata": {},
     "output_type": "execute_result"
    }
   ],
   "source": [
    "subreddit_df['selftext'].value_counts()"
   ]
  },
  {
   "cell_type": "markdown",
   "id": "c0dcbbda",
   "metadata": {},
   "source": [
    "Looking at the merged data frame I can see some things I need to clean up in the ['Selftext'] column.\n",
    "There are rows in the ['selftext'] column that state:\n",
    "\n",
    "    [removed]\n",
    "    [deleted]\n",
    "    has url's "
   ]
  },
  {
   "cell_type": "code",
   "execution_count": 25,
   "id": "e3aafe1c",
   "metadata": {},
   "outputs": [
    {
     "data": {
      "text/html": [
       "<div>\n",
       "<style scoped>\n",
       "    .dataframe tbody tr th:only-of-type {\n",
       "        vertical-align: middle;\n",
       "    }\n",
       "\n",
       "    .dataframe tbody tr th {\n",
       "        vertical-align: top;\n",
       "    }\n",
       "\n",
       "    .dataframe thead th {\n",
       "        text-align: right;\n",
       "    }\n",
       "</style>\n",
       "<table border=\"1\" class=\"dataframe\">\n",
       "  <thead>\n",
       "    <tr style=\"text-align: right;\">\n",
       "      <th></th>\n",
       "      <th>subreddit</th>\n",
       "      <th>selftext</th>\n",
       "      <th>title</th>\n",
       "    </tr>\n",
       "  </thead>\n",
       "  <tbody>\n",
       "    <tr>\n",
       "      <th>13</th>\n",
       "      <td>nba</td>\n",
       "      <td>[removed]</td>\n",
       "      <td>“It was a basketball decision, but i also didn...</td>\n",
       "    </tr>\n",
       "    <tr>\n",
       "      <th>17</th>\n",
       "      <td>nba</td>\n",
       "      <td>[removed]</td>\n",
       "      <td>How 2 Get Hardwood 4 WNBA Players?</td>\n",
       "    </tr>\n",
       "    <tr>\n",
       "      <th>19</th>\n",
       "      <td>nba</td>\n",
       "      <td>[removed]</td>\n",
       "      <td>clothes recommendations</td>\n",
       "    </tr>\n",
       "    <tr>\n",
       "      <th>21</th>\n",
       "      <td>nba</td>\n",
       "      <td>[removed]</td>\n",
       "      <td>How 2 Get Hard Wood 4 WNBA Players?</td>\n",
       "    </tr>\n",
       "    <tr>\n",
       "      <th>22</th>\n",
       "      <td>nba</td>\n",
       "      <td>[removed]</td>\n",
       "      <td>The Best Athlete in a Los Angeles Team Current...</td>\n",
       "    </tr>\n",
       "    <tr>\n",
       "      <th>...</th>\n",
       "      <td>...</td>\n",
       "      <td>...</td>\n",
       "      <td>...</td>\n",
       "    </tr>\n",
       "    <tr>\n",
       "      <th>4862</th>\n",
       "      <td>nhl</td>\n",
       "      <td>[removed]</td>\n",
       "      <td>Flairs</td>\n",
       "    </tr>\n",
       "    <tr>\n",
       "      <th>4902</th>\n",
       "      <td>nhl</td>\n",
       "      <td>[removed]</td>\n",
       "      <td>World of chel</td>\n",
       "    </tr>\n",
       "    <tr>\n",
       "      <th>5038</th>\n",
       "      <td>nhl</td>\n",
       "      <td>[removed]</td>\n",
       "      <td>Moon Update</td>\n",
       "    </tr>\n",
       "    <tr>\n",
       "      <th>5733</th>\n",
       "      <td>nhl</td>\n",
       "      <td>[removed]</td>\n",
       "      <td>Opinion: It’s ‘The Code’ of the NHL, and it ha...</td>\n",
       "    </tr>\n",
       "    <tr>\n",
       "      <th>5758</th>\n",
       "      <td>nhl</td>\n",
       "      <td>[removed]</td>\n",
       "      <td>เครื่องเสียง - ของแท้ 100% การันตีคืนเงิน 5000</td>\n",
       "    </tr>\n",
       "  </tbody>\n",
       "</table>\n",
       "<p>417 rows × 3 columns</p>\n",
       "</div>"
      ],
      "text/plain": [
       "     subreddit   selftext                                              title\n",
       "13         nba  [removed]  “It was a basketball decision, but i also didn...\n",
       "17         nba  [removed]                 How 2 Get Hardwood 4 WNBA Players?\n",
       "19         nba  [removed]                            clothes recommendations\n",
       "21         nba  [removed]                How 2 Get Hard Wood 4 WNBA Players?\n",
       "22         nba  [removed]  The Best Athlete in a Los Angeles Team Current...\n",
       "...        ...        ...                                                ...\n",
       "4862       nhl  [removed]                                             Flairs\n",
       "4902       nhl  [removed]                                      World of chel\n",
       "5038       nhl  [removed]                                        Moon Update\n",
       "5733       nhl  [removed]  Opinion: It’s ‘The Code’ of the NHL, and it ha...\n",
       "5758       nhl  [removed]     เครื่องเสียง - ของแท้ 100% การันตีคืนเงิน 5000\n",
       "\n",
       "[417 rows x 3 columns]"
      ]
     },
     "execution_count": 25,
     "metadata": {},
     "output_type": "execute_result"
    }
   ],
   "source": [
    "subreddit_df[subreddit_df['selftext']=='[removed]']"
   ]
  },
  {
   "cell_type": "code",
   "execution_count": 26,
   "id": "b3e12fdb",
   "metadata": {},
   "outputs": [
    {
     "data": {
      "text/html": [
       "<div>\n",
       "<style scoped>\n",
       "    .dataframe tbody tr th:only-of-type {\n",
       "        vertical-align: middle;\n",
       "    }\n",
       "\n",
       "    .dataframe tbody tr th {\n",
       "        vertical-align: top;\n",
       "    }\n",
       "\n",
       "    .dataframe thead th {\n",
       "        text-align: right;\n",
       "    }\n",
       "</style>\n",
       "<table border=\"1\" class=\"dataframe\">\n",
       "  <thead>\n",
       "    <tr style=\"text-align: right;\">\n",
       "      <th></th>\n",
       "      <th>subreddit</th>\n",
       "      <th>selftext</th>\n",
       "      <th>title</th>\n",
       "    </tr>\n",
       "  </thead>\n",
       "  <tbody>\n",
       "    <tr>\n",
       "      <th>152</th>\n",
       "      <td>nba</td>\n",
       "      <td>[deleted]</td>\n",
       "      <td>[Murphy] Masa iUjiri on first convo with Preci...</td>\n",
       "    </tr>\n",
       "    <tr>\n",
       "      <th>191</th>\n",
       "      <td>nba</td>\n",
       "      <td>[deleted]</td>\n",
       "      <td>Could Shershaah be saved?</td>\n",
       "    </tr>\n",
       "    <tr>\n",
       "      <th>207</th>\n",
       "      <td>nba</td>\n",
       "      <td>[deleted]</td>\n",
       "      <td>[Hoop Central] “I’m only talking about basketb...</td>\n",
       "    </tr>\n",
       "    <tr>\n",
       "      <th>288</th>\n",
       "      <td>nba</td>\n",
       "      <td>[deleted]</td>\n",
       "      <td>Jae Crowder sliding into them DMs</td>\n",
       "    </tr>\n",
       "    <tr>\n",
       "      <th>492</th>\n",
       "      <td>nba</td>\n",
       "      <td>[deleted]</td>\n",
       "      <td>[Highlight] Jaygup gets the defender leaning w...</td>\n",
       "    </tr>\n",
       "    <tr>\n",
       "      <th>...</th>\n",
       "      <td>...</td>\n",
       "      <td>...</td>\n",
       "      <td>...</td>\n",
       "    </tr>\n",
       "    <tr>\n",
       "      <th>4996</th>\n",
       "      <td>nhl</td>\n",
       "      <td>[deleted]</td>\n",
       "      <td>Ready for round 2 isles?</td>\n",
       "    </tr>\n",
       "    <tr>\n",
       "      <th>5015</th>\n",
       "      <td>nhl</td>\n",
       "      <td>[deleted]</td>\n",
       "      <td>See ya</td>\n",
       "    </tr>\n",
       "    <tr>\n",
       "      <th>5280</th>\n",
       "      <td>nhl</td>\n",
       "      <td>[deleted]</td>\n",
       "      <td>PAIN is always lurking behind the Leafs</td>\n",
       "    </tr>\n",
       "    <tr>\n",
       "      <th>5357</th>\n",
       "      <td>nhl</td>\n",
       "      <td>[deleted]</td>\n",
       "      <td>At the risk of beating a dead horse, how much ...</td>\n",
       "    </tr>\n",
       "    <tr>\n",
       "      <th>5592</th>\n",
       "      <td>nhl</td>\n",
       "      <td>[deleted]</td>\n",
       "      <td>Then Ryan should never see an sheet of NHL ice...</td>\n",
       "    </tr>\n",
       "  </tbody>\n",
       "</table>\n",
       "<p>74 rows × 3 columns</p>\n",
       "</div>"
      ],
      "text/plain": [
       "     subreddit   selftext                                              title\n",
       "152        nba  [deleted]  [Murphy] Masa iUjiri on first convo with Preci...\n",
       "191        nba  [deleted]                          Could Shershaah be saved?\n",
       "207        nba  [deleted]  [Hoop Central] “I’m only talking about basketb...\n",
       "288        nba  [deleted]                  Jae Crowder sliding into them DMs\n",
       "492        nba  [deleted]  [Highlight] Jaygup gets the defender leaning w...\n",
       "...        ...        ...                                                ...\n",
       "4996       nhl  [deleted]                           Ready for round 2 isles?\n",
       "5015       nhl  [deleted]                                             See ya\n",
       "5280       nhl  [deleted]            PAIN is always lurking behind the Leafs\n",
       "5357       nhl  [deleted]  At the risk of beating a dead horse, how much ...\n",
       "5592       nhl  [deleted]  Then Ryan should never see an sheet of NHL ice...\n",
       "\n",
       "[74 rows x 3 columns]"
      ]
     },
     "execution_count": 26,
     "metadata": {},
     "output_type": "execute_result"
    }
   ],
   "source": [
    "subreddit_df[subreddit_df['selftext']=='[deleted]']"
   ]
  },
  {
   "cell_type": "markdown",
   "id": "7d392807",
   "metadata": {},
   "source": [
    "There are a total of 491 rows where the ['Selftext'] column have a a value of [removed] or [deleted].  That is a \n",
    "total of 491/6000.  Since it is a small amount I will change thise values to empty strings. I did this as I plan\n",
    "to make a new column.\n",
    "\n",
    "Futhermore, there are over 3000 null values in selftext, this is over half of the data.  I plan on imputing the null \n",
    "values with the values in the ['title'] column by:\n",
    "    Changing null values to empty strings\n",
    "    Changing [removed] values to empty strings\n",
    "    changing[deleted] values to empty strings\n",
    "    creating new column called: [\"total_text\"] which will include both the ['selftext'] and ['title'].  I will use the\n",
    "        ['total_text'] as the column that I will interact with."
   ]
  },
  {
   "cell_type": "code",
   "execution_count": 27,
   "id": "bfd34f9a",
   "metadata": {},
   "outputs": [
    {
     "data": {
      "text/html": [
       "<div>\n",
       "<style scoped>\n",
       "    .dataframe tbody tr th:only-of-type {\n",
       "        vertical-align: middle;\n",
       "    }\n",
       "\n",
       "    .dataframe tbody tr th {\n",
       "        vertical-align: top;\n",
       "    }\n",
       "\n",
       "    .dataframe thead th {\n",
       "        text-align: right;\n",
       "    }\n",
       "</style>\n",
       "<table border=\"1\" class=\"dataframe\">\n",
       "  <thead>\n",
       "    <tr style=\"text-align: right;\">\n",
       "      <th></th>\n",
       "      <th>subreddit</th>\n",
       "      <th>selftext</th>\n",
       "      <th>title</th>\n",
       "    </tr>\n",
       "  </thead>\n",
       "  <tbody>\n",
       "    <tr>\n",
       "      <th>0</th>\n",
       "      <td>nba</td>\n",
       "      <td>[**Ra asked me**](https://mediumlights.substac...</td>\n",
       "      <td>OC: Rookies Adjusting To The NBA (easier for s...</td>\n",
       "    </tr>\n",
       "    <tr>\n",
       "      <th>1</th>\n",
       "      <td>nba</td>\n",
       "      <td>NaN</td>\n",
       "      <td>One of the highest upvoted posts and greatest ...</td>\n",
       "    </tr>\n",
       "    <tr>\n",
       "      <th>2</th>\n",
       "      <td>nba</td>\n",
       "      <td>#[Game 4 vs Portland](https://www.basketball-r...</td>\n",
       "      <td>2020 Lakers were up at least 30 points in each...</td>\n",
       "    </tr>\n",
       "    <tr>\n",
       "      <th>3</th>\n",
       "      <td>nba</td>\n",
       "      <td>NaN</td>\n",
       "      <td>Chicago Bears Coach Matt Nagy Uses Giannis NBA...</td>\n",
       "    </tr>\n",
       "    <tr>\n",
       "      <th>4</th>\n",
       "      <td>nba</td>\n",
       "      <td>NaN</td>\n",
       "      <td>Kevin Durant Takes Over In 2012 NBA Finals Gam...</td>\n",
       "    </tr>\n",
       "  </tbody>\n",
       "</table>\n",
       "</div>"
      ],
      "text/plain": [
       "  subreddit                                           selftext  \\\n",
       "0       nba  [**Ra asked me**](https://mediumlights.substac...   \n",
       "1       nba                                                NaN   \n",
       "2       nba  #[Game 4 vs Portland](https://www.basketball-r...   \n",
       "3       nba                                                NaN   \n",
       "4       nba                                                NaN   \n",
       "\n",
       "                                               title  \n",
       "0  OC: Rookies Adjusting To The NBA (easier for s...  \n",
       "1  One of the highest upvoted posts and greatest ...  \n",
       "2  2020 Lakers were up at least 30 points in each...  \n",
       "3  Chicago Bears Coach Matt Nagy Uses Giannis NBA...  \n",
       "4  Kevin Durant Takes Over In 2012 NBA Finals Gam...  "
      ]
     },
     "execution_count": 27,
     "metadata": {},
     "output_type": "execute_result"
    }
   ],
   "source": [
    "# Changing 'selftext', '[removed]', and '[deleted]' rows to blank\n",
    "subreddit_df['selftext'] = subreddit_df['selftext'].replace('[removed]', '')\n",
    "subreddit_df['selftext'] = subreddit_df['selftext'].replace('[deleted]', '')\n",
    "\n",
    "subreddit_df.head()"
   ]
  },
  {
   "cell_type": "code",
   "execution_count": 28,
   "id": "25755b62",
   "metadata": {},
   "outputs": [
    {
     "data": {
      "text/plain": [
       "subreddit       0\n",
       "selftext     3276\n",
       "title           0\n",
       "dtype: int64"
      ]
     },
     "execution_count": 28,
     "metadata": {},
     "output_type": "execute_result"
    }
   ],
   "source": [
    "subreddit_df.isnull().sum()"
   ]
  },
  {
   "cell_type": "code",
   "execution_count": 29,
   "id": "46d21f80",
   "metadata": {},
   "outputs": [],
   "source": [
    "# Filling null values with a space\n",
    "subreddit_df['selftext'] = subreddit_df['selftext'].fillna('')"
   ]
  },
  {
   "cell_type": "code",
   "execution_count": 30,
   "id": "2914344c",
   "metadata": {},
   "outputs": [
    {
     "data": {
      "text/plain": [
       "subreddit    0\n",
       "selftext     0\n",
       "title        0\n",
       "dtype: int64"
      ]
     },
     "execution_count": 30,
     "metadata": {},
     "output_type": "execute_result"
    }
   ],
   "source": [
    "subreddit_df.isnull().sum()"
   ]
  },
  {
   "cell_type": "markdown",
   "id": "6d9ecceb",
   "metadata": {},
   "source": [
    "### Removing Duplicates"
   ]
  },
  {
   "cell_type": "code",
   "execution_count": 31,
   "id": "0ea0367d",
   "metadata": {},
   "outputs": [
    {
     "data": {
      "text/plain": [
       "False    5839\n",
       "True      161\n",
       "Name: title, dtype: int64"
      ]
     },
     "execution_count": 31,
     "metadata": {},
     "output_type": "execute_result"
    }
   ],
   "source": [
    "subreddit_df['title'].duplicated().value_counts()\n"
   ]
  },
  {
   "cell_type": "markdown",
   "id": "22164ed4",
   "metadata": {},
   "source": [
    "161 duplicates, I will remove these as they are identical"
   ]
  },
  {
   "cell_type": "code",
   "execution_count": 32,
   "id": "c2a7dd69",
   "metadata": {},
   "outputs": [],
   "source": [
    "# Removing Duplicates with `title`\n",
    "subreddit_df.drop_duplicates(subset='title', inplace=True)"
   ]
  },
  {
   "cell_type": "markdown",
   "id": "cc2d53de",
   "metadata": {},
   "source": [
    "### Convert subreddit_df Features into Binary Labels\n",
    "\n",
    "0: nhl\n",
    "\n",
    "1: nba"
   ]
  },
  {
   "cell_type": "code",
   "execution_count": 33,
   "id": "ac57395d",
   "metadata": {},
   "outputs": [
    {
     "data": {
      "text/plain": [
       "0    50.57\n",
       "1    49.43\n",
       "Name: label, dtype: float64"
      ]
     },
     "execution_count": 33,
     "metadata": {},
     "output_type": "execute_result"
    }
   ],
   "source": [
    "# Making the Label Column\n",
    "subreddit_df['label'] = subreddit_df['subreddit'].map({'nhl':0, 'nba':1})\n",
    "\n",
    "#This gives us a general baseline between nba and nfl subreddit posts\n",
    "subreddit_df['label'].value_counts(normalize=True).mul(100).round(2)"
   ]
  },
  {
   "cell_type": "code",
   "execution_count": 34,
   "id": "d545606e",
   "metadata": {},
   "outputs": [],
   "source": [
    "# New Column Combining `selftext` with `title` and the empty strings I created also in 'selftext'\n",
    "subreddit_df['total_text'] = subreddit_df['title'] + ' ' + subreddit_df['selftext']"
   ]
  },
  {
   "cell_type": "code",
   "execution_count": 35,
   "id": "b5d5fa01",
   "metadata": {},
   "outputs": [
    {
     "data": {
      "text/html": [
       "<div>\n",
       "<style scoped>\n",
       "    .dataframe tbody tr th:only-of-type {\n",
       "        vertical-align: middle;\n",
       "    }\n",
       "\n",
       "    .dataframe tbody tr th {\n",
       "        vertical-align: top;\n",
       "    }\n",
       "\n",
       "    .dataframe thead th {\n",
       "        text-align: right;\n",
       "    }\n",
       "</style>\n",
       "<table border=\"1\" class=\"dataframe\">\n",
       "  <thead>\n",
       "    <tr style=\"text-align: right;\">\n",
       "      <th></th>\n",
       "      <th>subreddit</th>\n",
       "      <th>selftext</th>\n",
       "      <th>title</th>\n",
       "      <th>label</th>\n",
       "      <th>total_text</th>\n",
       "    </tr>\n",
       "  </thead>\n",
       "  <tbody>\n",
       "    <tr>\n",
       "      <th>0</th>\n",
       "      <td>nba</td>\n",
       "      <td>[**Ra asked me**](https://mediumlights.substac...</td>\n",
       "      <td>OC: Rookies Adjusting To The NBA (easier for s...</td>\n",
       "      <td>1</td>\n",
       "      <td>OC: Rookies Adjusting To The NBA (easier for s...</td>\n",
       "    </tr>\n",
       "    <tr>\n",
       "      <th>1</th>\n",
       "      <td>nba</td>\n",
       "      <td></td>\n",
       "      <td>One of the highest upvoted posts and greatest ...</td>\n",
       "      <td>1</td>\n",
       "      <td>One of the highest upvoted posts and greatest ...</td>\n",
       "    </tr>\n",
       "    <tr>\n",
       "      <th>2</th>\n",
       "      <td>nba</td>\n",
       "      <td>#[Game 4 vs Portland](https://www.basketball-r...</td>\n",
       "      <td>2020 Lakers were up at least 30 points in each...</td>\n",
       "      <td>1</td>\n",
       "      <td>2020 Lakers were up at least 30 points in each...</td>\n",
       "    </tr>\n",
       "    <tr>\n",
       "      <th>3</th>\n",
       "      <td>nba</td>\n",
       "      <td></td>\n",
       "      <td>Chicago Bears Coach Matt Nagy Uses Giannis NBA...</td>\n",
       "      <td>1</td>\n",
       "      <td>Chicago Bears Coach Matt Nagy Uses Giannis NBA...</td>\n",
       "    </tr>\n",
       "    <tr>\n",
       "      <th>4</th>\n",
       "      <td>nba</td>\n",
       "      <td></td>\n",
       "      <td>Kevin Durant Takes Over In 2012 NBA Finals Gam...</td>\n",
       "      <td>1</td>\n",
       "      <td>Kevin Durant Takes Over In 2012 NBA Finals Gam...</td>\n",
       "    </tr>\n",
       "  </tbody>\n",
       "</table>\n",
       "</div>"
      ],
      "text/plain": [
       "  subreddit                                           selftext  \\\n",
       "0       nba  [**Ra asked me**](https://mediumlights.substac...   \n",
       "1       nba                                                      \n",
       "2       nba  #[Game 4 vs Portland](https://www.basketball-r...   \n",
       "3       nba                                                      \n",
       "4       nba                                                      \n",
       "\n",
       "                                               title  label  \\\n",
       "0  OC: Rookies Adjusting To The NBA (easier for s...      1   \n",
       "1  One of the highest upvoted posts and greatest ...      1   \n",
       "2  2020 Lakers were up at least 30 points in each...      1   \n",
       "3  Chicago Bears Coach Matt Nagy Uses Giannis NBA...      1   \n",
       "4  Kevin Durant Takes Over In 2012 NBA Finals Gam...      1   \n",
       "\n",
       "                                          total_text  \n",
       "0  OC: Rookies Adjusting To The NBA (easier for s...  \n",
       "1  One of the highest upvoted posts and greatest ...  \n",
       "2  2020 Lakers were up at least 30 points in each...  \n",
       "3  Chicago Bears Coach Matt Nagy Uses Giannis NBA...  \n",
       "4  Kevin Durant Takes Over In 2012 NBA Finals Gam...  "
      ]
     },
     "execution_count": 35,
     "metadata": {},
     "output_type": "execute_result"
    }
   ],
   "source": [
    "subreddit_df.head()"
   ]
  },
  {
   "cell_type": "markdown",
   "id": "816167fa",
   "metadata": {},
   "source": [
    "In the 'total_text' and 'selftext' column I saw there was a lot of values that had url's.  I will remove these and make them empty strings just in the 'total_text' as I will be interacting with this column"
   ]
  },
  {
   "cell_type": "code",
   "execution_count": 36,
   "id": "1e8bdc3b",
   "metadata": {},
   "outputs": [],
   "source": [
    "subreddit_df['total_text'] = subreddit_df['total_text'].replace(r'http\\S+', '',\n",
    "                                                                regex=True).replace(r'www\\S+', '', regex=True)\n",
    "# https://stackoverflow.com/questions/45395676/remove-a-url-row-by-row-from-a-large-set-of-text-in-python-panda-dataframe"
   ]
  },
  {
   "cell_type": "code",
   "execution_count": 37,
   "id": "fdb59184",
   "metadata": {},
   "outputs": [
    {
     "data": {
      "text/html": [
       "<div>\n",
       "<style scoped>\n",
       "    .dataframe tbody tr th:only-of-type {\n",
       "        vertical-align: middle;\n",
       "    }\n",
       "\n",
       "    .dataframe tbody tr th {\n",
       "        vertical-align: top;\n",
       "    }\n",
       "\n",
       "    .dataframe thead th {\n",
       "        text-align: right;\n",
       "    }\n",
       "</style>\n",
       "<table border=\"1\" class=\"dataframe\">\n",
       "  <thead>\n",
       "    <tr style=\"text-align: right;\">\n",
       "      <th></th>\n",
       "      <th>subreddit</th>\n",
       "      <th>selftext</th>\n",
       "      <th>title</th>\n",
       "      <th>label</th>\n",
       "      <th>total_text</th>\n",
       "    </tr>\n",
       "  </thead>\n",
       "  <tbody>\n",
       "    <tr>\n",
       "      <th>0</th>\n",
       "      <td>nba</td>\n",
       "      <td>[**Ra asked me**](https://mediumlights.substac...</td>\n",
       "      <td>OC: Rookies Adjusting To The NBA (easier for s...</td>\n",
       "      <td>1</td>\n",
       "      <td>OC: Rookies Adjusting To The NBA (easier for s...</td>\n",
       "    </tr>\n",
       "    <tr>\n",
       "      <th>1</th>\n",
       "      <td>nba</td>\n",
       "      <td></td>\n",
       "      <td>One of the highest upvoted posts and greatest ...</td>\n",
       "      <td>1</td>\n",
       "      <td>One of the highest upvoted posts and greatest ...</td>\n",
       "    </tr>\n",
       "    <tr>\n",
       "      <th>2</th>\n",
       "      <td>nba</td>\n",
       "      <td>#[Game 4 vs Portland](https://www.basketball-r...</td>\n",
       "      <td>2020 Lakers were up at least 30 points in each...</td>\n",
       "      <td>1</td>\n",
       "      <td>2020 Lakers were up at least 30 points in each...</td>\n",
       "    </tr>\n",
       "    <tr>\n",
       "      <th>3</th>\n",
       "      <td>nba</td>\n",
       "      <td></td>\n",
       "      <td>Chicago Bears Coach Matt Nagy Uses Giannis NBA...</td>\n",
       "      <td>1</td>\n",
       "      <td>Chicago Bears Coach Matt Nagy Uses Giannis NBA...</td>\n",
       "    </tr>\n",
       "    <tr>\n",
       "      <th>4</th>\n",
       "      <td>nba</td>\n",
       "      <td></td>\n",
       "      <td>Kevin Durant Takes Over In 2012 NBA Finals Gam...</td>\n",
       "      <td>1</td>\n",
       "      <td>Kevin Durant Takes Over In 2012 NBA Finals Gam...</td>\n",
       "    </tr>\n",
       "  </tbody>\n",
       "</table>\n",
       "</div>"
      ],
      "text/plain": [
       "  subreddit                                           selftext  \\\n",
       "0       nba  [**Ra asked me**](https://mediumlights.substac...   \n",
       "1       nba                                                      \n",
       "2       nba  #[Game 4 vs Portland](https://www.basketball-r...   \n",
       "3       nba                                                      \n",
       "4       nba                                                      \n",
       "\n",
       "                                               title  label  \\\n",
       "0  OC: Rookies Adjusting To The NBA (easier for s...      1   \n",
       "1  One of the highest upvoted posts and greatest ...      1   \n",
       "2  2020 Lakers were up at least 30 points in each...      1   \n",
       "3  Chicago Bears Coach Matt Nagy Uses Giannis NBA...      1   \n",
       "4  Kevin Durant Takes Over In 2012 NBA Finals Gam...      1   \n",
       "\n",
       "                                          total_text  \n",
       "0  OC: Rookies Adjusting To The NBA (easier for s...  \n",
       "1  One of the highest upvoted posts and greatest ...  \n",
       "2  2020 Lakers were up at least 30 points in each...  \n",
       "3  Chicago Bears Coach Matt Nagy Uses Giannis NBA...  \n",
       "4  Kevin Durant Takes Over In 2012 NBA Finals Gam...  "
      ]
     },
     "execution_count": 37,
     "metadata": {},
     "output_type": "execute_result"
    }
   ],
   "source": [
    "subreddit_df.head()"
   ]
  },
  {
   "cell_type": "markdown",
   "id": "3621d079",
   "metadata": {},
   "source": [
    "Here I am using the RegexpTokenizer to split strings into substrings using a regular expression.  This will help improve\n",
    "the accuracy of my classification model"
   ]
  },
  {
   "cell_type": "code",
   "execution_count": 38,
   "id": "39d9a682",
   "metadata": {},
   "outputs": [],
   "source": [
    "# https://www.rexegg.com/regex-quickstart.html\n",
    "# https://www.geeksforgeeks.org/python-nltk-tokenize-regexp/\n",
    "\n",
    "tk = RegexpTokenizer('\\s', gaps = True)"
   ]
  },
  {
   "cell_type": "code",
   "execution_count": 39,
   "id": "b42b91fe",
   "metadata": {},
   "outputs": [],
   "source": [
    "# Create new column tokenized from total_text\n",
    "\n",
    "subreddit_df['tokenized'] = subreddit_df['total_text'].str.lower().apply(tk.tokenize)"
   ]
  },
  {
   "cell_type": "code",
   "execution_count": 40,
   "id": "33d42fcc",
   "metadata": {},
   "outputs": [
    {
     "data": {
      "text/html": [
       "<div>\n",
       "<style scoped>\n",
       "    .dataframe tbody tr th:only-of-type {\n",
       "        vertical-align: middle;\n",
       "    }\n",
       "\n",
       "    .dataframe tbody tr th {\n",
       "        vertical-align: top;\n",
       "    }\n",
       "\n",
       "    .dataframe thead th {\n",
       "        text-align: right;\n",
       "    }\n",
       "</style>\n",
       "<table border=\"1\" class=\"dataframe\">\n",
       "  <thead>\n",
       "    <tr style=\"text-align: right;\">\n",
       "      <th></th>\n",
       "      <th>subreddit</th>\n",
       "      <th>selftext</th>\n",
       "      <th>title</th>\n",
       "      <th>label</th>\n",
       "      <th>total_text</th>\n",
       "      <th>tokenized</th>\n",
       "    </tr>\n",
       "  </thead>\n",
       "  <tbody>\n",
       "    <tr>\n",
       "      <th>0</th>\n",
       "      <td>nba</td>\n",
       "      <td>[**Ra asked me**](https://mediumlights.substac...</td>\n",
       "      <td>OC: Rookies Adjusting To The NBA (easier for s...</td>\n",
       "      <td>1</td>\n",
       "      <td>OC: Rookies Adjusting To The NBA (easier for s...</td>\n",
       "      <td>[oc:, rookies, adjusting, to, the, nba, (easie...</td>\n",
       "    </tr>\n",
       "    <tr>\n",
       "      <th>1</th>\n",
       "      <td>nba</td>\n",
       "      <td></td>\n",
       "      <td>One of the highest upvoted posts and greatest ...</td>\n",
       "      <td>1</td>\n",
       "      <td>One of the highest upvoted posts and greatest ...</td>\n",
       "      <td>[one, of, the, highest, upvoted, posts, and, g...</td>\n",
       "    </tr>\n",
       "    <tr>\n",
       "      <th>2</th>\n",
       "      <td>nba</td>\n",
       "      <td>#[Game 4 vs Portland](https://www.basketball-r...</td>\n",
       "      <td>2020 Lakers were up at least 30 points in each...</td>\n",
       "      <td>1</td>\n",
       "      <td>2020 Lakers were up at least 30 points in each...</td>\n",
       "      <td>[2020, lakers, were, up, at, least, 30, points...</td>\n",
       "    </tr>\n",
       "    <tr>\n",
       "      <th>3</th>\n",
       "      <td>nba</td>\n",
       "      <td></td>\n",
       "      <td>Chicago Bears Coach Matt Nagy Uses Giannis NBA...</td>\n",
       "      <td>1</td>\n",
       "      <td>Chicago Bears Coach Matt Nagy Uses Giannis NBA...</td>\n",
       "      <td>[chicago, bears, coach, matt, nagy, uses, gian...</td>\n",
       "    </tr>\n",
       "    <tr>\n",
       "      <th>4</th>\n",
       "      <td>nba</td>\n",
       "      <td></td>\n",
       "      <td>Kevin Durant Takes Over In 2012 NBA Finals Gam...</td>\n",
       "      <td>1</td>\n",
       "      <td>Kevin Durant Takes Over In 2012 NBA Finals Gam...</td>\n",
       "      <td>[kevin, durant, takes, over, in, 2012, nba, fi...</td>\n",
       "    </tr>\n",
       "  </tbody>\n",
       "</table>\n",
       "</div>"
      ],
      "text/plain": [
       "  subreddit                                           selftext  \\\n",
       "0       nba  [**Ra asked me**](https://mediumlights.substac...   \n",
       "1       nba                                                      \n",
       "2       nba  #[Game 4 vs Portland](https://www.basketball-r...   \n",
       "3       nba                                                      \n",
       "4       nba                                                      \n",
       "\n",
       "                                               title  label  \\\n",
       "0  OC: Rookies Adjusting To The NBA (easier for s...      1   \n",
       "1  One of the highest upvoted posts and greatest ...      1   \n",
       "2  2020 Lakers were up at least 30 points in each...      1   \n",
       "3  Chicago Bears Coach Matt Nagy Uses Giannis NBA...      1   \n",
       "4  Kevin Durant Takes Over In 2012 NBA Finals Gam...      1   \n",
       "\n",
       "                                          total_text  \\\n",
       "0  OC: Rookies Adjusting To The NBA (easier for s...   \n",
       "1  One of the highest upvoted posts and greatest ...   \n",
       "2  2020 Lakers were up at least 30 points in each...   \n",
       "3  Chicago Bears Coach Matt Nagy Uses Giannis NBA...   \n",
       "4  Kevin Durant Takes Over In 2012 NBA Finals Gam...   \n",
       "\n",
       "                                           tokenized  \n",
       "0  [oc:, rookies, adjusting, to, the, nba, (easie...  \n",
       "1  [one, of, the, highest, upvoted, posts, and, g...  \n",
       "2  [2020, lakers, were, up, at, least, 30, points...  \n",
       "3  [chicago, bears, coach, matt, nagy, uses, gian...  \n",
       "4  [kevin, durant, takes, over, in, 2012, nba, fi...  "
      ]
     },
     "execution_count": 40,
     "metadata": {},
     "output_type": "execute_result"
    }
   ],
   "source": [
    "# check work\n",
    "\n",
    "subreddit_df.head()"
   ]
  },
  {
   "cell_type": "markdown",
   "id": "34225713",
   "metadata": {},
   "source": [
    "## Exploratory Data Analysis"
   ]
  },
  {
   "cell_type": "code",
   "execution_count": 41,
   "id": "c8ac48b6",
   "metadata": {},
   "outputs": [
    {
     "data": {
      "text/html": [
       "<div>\n",
       "<style scoped>\n",
       "    .dataframe tbody tr th:only-of-type {\n",
       "        vertical-align: middle;\n",
       "    }\n",
       "\n",
       "    .dataframe tbody tr th {\n",
       "        vertical-align: top;\n",
       "    }\n",
       "\n",
       "    .dataframe thead th {\n",
       "        text-align: right;\n",
       "    }\n",
       "</style>\n",
       "<table border=\"1\" class=\"dataframe\">\n",
       "  <thead>\n",
       "    <tr style=\"text-align: right;\">\n",
       "      <th></th>\n",
       "      <th>label</th>\n",
       "    </tr>\n",
       "  </thead>\n",
       "  <tbody>\n",
       "    <tr>\n",
       "      <th>count</th>\n",
       "      <td>5839.000000</td>\n",
       "    </tr>\n",
       "    <tr>\n",
       "      <th>mean</th>\n",
       "      <td>0.494263</td>\n",
       "    </tr>\n",
       "    <tr>\n",
       "      <th>std</th>\n",
       "      <td>0.500010</td>\n",
       "    </tr>\n",
       "    <tr>\n",
       "      <th>min</th>\n",
       "      <td>0.000000</td>\n",
       "    </tr>\n",
       "    <tr>\n",
       "      <th>25%</th>\n",
       "      <td>0.000000</td>\n",
       "    </tr>\n",
       "    <tr>\n",
       "      <th>50%</th>\n",
       "      <td>0.000000</td>\n",
       "    </tr>\n",
       "    <tr>\n",
       "      <th>75%</th>\n",
       "      <td>1.000000</td>\n",
       "    </tr>\n",
       "    <tr>\n",
       "      <th>max</th>\n",
       "      <td>1.000000</td>\n",
       "    </tr>\n",
       "  </tbody>\n",
       "</table>\n",
       "</div>"
      ],
      "text/plain": [
       "             label\n",
       "count  5839.000000\n",
       "mean      0.494263\n",
       "std       0.500010\n",
       "min       0.000000\n",
       "25%       0.000000\n",
       "50%       0.000000\n",
       "75%       1.000000\n",
       "max       1.000000"
      ]
     },
     "execution_count": 41,
     "metadata": {},
     "output_type": "execute_result"
    }
   ],
   "source": [
    "subreddit_df.describe()\n"
   ]
  },
  {
   "cell_type": "markdown",
   "id": "5fe82e62",
   "metadata": {},
   "source": [
    "add columns that show word count and character count. Gather more info"
   ]
  },
  {
   "cell_type": "code",
   "execution_count": 42,
   "id": "e0d6ceb5",
   "metadata": {},
   "outputs": [],
   "source": [
    "subreddit_df['total_text_length'] = subreddit_df['total_text'].map(len)"
   ]
  },
  {
   "cell_type": "code",
   "execution_count": 43,
   "id": "83db5d0b",
   "metadata": {},
   "outputs": [],
   "source": [
    "subreddit_df['total_text_word_count'] = [len(status.split()) for status in subreddit_df['total_text']]\n"
   ]
  },
  {
   "cell_type": "markdown",
   "id": "f0c00462",
   "metadata": {},
   "source": [
    "five longest and five shortest statuses based off of total_text_word_count:"
   ]
  },
  {
   "cell_type": "code",
   "execution_count": 44,
   "id": "70ca4ca2",
   "metadata": {},
   "outputs": [
    {
     "data": {
      "text/html": [
       "<div>\n",
       "<style scoped>\n",
       "    .dataframe tbody tr th:only-of-type {\n",
       "        vertical-align: middle;\n",
       "    }\n",
       "\n",
       "    .dataframe tbody tr th {\n",
       "        vertical-align: top;\n",
       "    }\n",
       "\n",
       "    .dataframe thead th {\n",
       "        text-align: right;\n",
       "    }\n",
       "</style>\n",
       "<table border=\"1\" class=\"dataframe\">\n",
       "  <thead>\n",
       "    <tr style=\"text-align: right;\">\n",
       "      <th></th>\n",
       "      <th>total_text</th>\n",
       "    </tr>\n",
       "  </thead>\n",
       "  <tbody>\n",
       "    <tr>\n",
       "      <th>4688</th>\n",
       "      <td></td>\n",
       "    </tr>\n",
       "    <tr>\n",
       "      <th>694</th>\n",
       "      <td></td>\n",
       "    </tr>\n",
       "    <tr>\n",
       "      <th>433</th>\n",
       "      <td></td>\n",
       "    </tr>\n",
       "    <tr>\n",
       "      <th>4254</th>\n",
       "      <td></td>\n",
       "    </tr>\n",
       "    <tr>\n",
       "      <th>5132</th>\n",
       "      <td>Yeah</td>\n",
       "    </tr>\n",
       "  </tbody>\n",
       "</table>\n",
       "</div>"
      ],
      "text/plain": [
       "     total_text\n",
       "4688           \n",
       "694            \n",
       "433            \n",
       "4254           \n",
       "5132      Yeah "
      ]
     },
     "execution_count": 44,
     "metadata": {},
     "output_type": "execute_result"
    }
   ],
   "source": [
    "subreddit_df.sort_values(by = 'total_text_word_count', ascending = True)[['total_text']].head()"
   ]
  },
  {
   "cell_type": "code",
   "execution_count": 45,
   "id": "e2a6f454",
   "metadata": {},
   "outputs": [
    {
     "data": {
      "text/html": [
       "<div>\n",
       "<style scoped>\n",
       "    .dataframe tbody tr th:only-of-type {\n",
       "        vertical-align: middle;\n",
       "    }\n",
       "\n",
       "    .dataframe tbody tr th {\n",
       "        vertical-align: top;\n",
       "    }\n",
       "\n",
       "    .dataframe thead th {\n",
       "        text-align: right;\n",
       "    }\n",
       "</style>\n",
       "<table border=\"1\" class=\"dataframe\">\n",
       "  <thead>\n",
       "    <tr style=\"text-align: right;\">\n",
       "      <th></th>\n",
       "      <th>total_text</th>\n",
       "    </tr>\n",
       "  </thead>\n",
       "  <tbody>\n",
       "    <tr>\n",
       "      <th>250</th>\n",
       "      <td>Here are the Stats for EVERY player on ALL 30 ...</td>\n",
       "    </tr>\n",
       "    <tr>\n",
       "      <th>933</th>\n",
       "      <td>I moved every team in the NBA to a new city of...</td>\n",
       "    </tr>\n",
       "    <tr>\n",
       "      <th>1753</th>\n",
       "      <td>NBA LAYER CAKE: ranking all the teams in the 4...</td>\n",
       "    </tr>\n",
       "    <tr>\n",
       "      <th>2015</th>\n",
       "      <td>NBA LAYER CAKE: ranking all the teams in the 1...</td>\n",
       "    </tr>\n",
       "    <tr>\n",
       "      <th>2594</th>\n",
       "      <td>[OC] NBA LAYER CAKE: ranking all the teams in ...</td>\n",
       "    </tr>\n",
       "  </tbody>\n",
       "</table>\n",
       "</div>"
      ],
      "text/plain": [
       "                                             total_text\n",
       "250   Here are the Stats for EVERY player on ALL 30 ...\n",
       "933   I moved every team in the NBA to a new city of...\n",
       "1753  NBA LAYER CAKE: ranking all the teams in the 4...\n",
       "2015  NBA LAYER CAKE: ranking all the teams in the 1...\n",
       "2594  [OC] NBA LAYER CAKE: ranking all the teams in ..."
      ]
     },
     "execution_count": 45,
     "metadata": {},
     "output_type": "execute_result"
    }
   ],
   "source": [
    "subreddit_df.sort_values(by = 'total_text_word_count', ascending = False)[['total_text']].head()"
   ]
  },
  {
   "cell_type": "markdown",
   "id": "8451d97c",
   "metadata": {},
   "source": [
    "#### Distribution of post lengths"
   ]
  },
  {
   "cell_type": "code",
   "execution_count": 46,
   "id": "17c0c5e4",
   "metadata": {},
   "outputs": [
    {
     "data": {
      "image/png": "[encoded data removed]",
      "text/plain": [
       "<Figure size 500x500 with 1 Axes>"
      ]
     },
     "metadata": {},
     "output_type": "display_data"
    }
   ],
   "source": [
    "sns.displot(subreddit_df['total_text_length']).set(title = 'Distribution of Total Text lengths');\n",
    "plt.show()\n"
   ]
  },
  {
   "cell_type": "code",
   "execution_count": 47,
   "id": "b8f3f097",
   "metadata": {},
   "outputs": [
    {
     "data": {
      "text/plain": [
       "250     3985\n",
       "933     2169\n",
       "1753    2078\n",
       "2015    2004\n",
       "2594    2003\n",
       "Name: tokenized, dtype: int64"
      ]
     },
     "execution_count": 47,
     "metadata": {},
     "output_type": "execute_result"
    }
   ],
   "source": [
    "# `tokenized` Top 5 Highest Word Count\n",
    "subreddit_df['tokenized'].str.len().sort_values(ascending=False).head()"
   ]
  },
  {
   "cell_type": "code",
   "execution_count": 48,
   "id": "5bd047ce",
   "metadata": {},
   "outputs": [
    {
     "data": {
      "text/plain": [
       "4688    0\n",
       "694     0\n",
       "433     0\n",
       "4254    0\n",
       "5132    1\n",
       "Name: tokenized, dtype: int64"
      ]
     },
     "execution_count": 48,
     "metadata": {},
     "output_type": "execute_result"
    }
   ],
   "source": [
    "# `tokenized` Top 5 Shortest Word Count\n",
    "subreddit_df['tokenized'].str.len().sort_values(ascending=True).head()"
   ]
  },
  {
   "cell_type": "code",
   "execution_count": 49,
   "id": "f114ab2e",
   "metadata": {
    "scrolled": true
   },
   "outputs": [
    {
     "data": {
      "image/png": "[encoded data removed]",
      "text/plain": [
       "<Figure size 640x480 with 1 Axes>"
      ]
     },
     "metadata": {},
     "output_type": "display_data"
    }
   ],
   "source": [
    "# Histogram of Word Count for `tokenized_sentences`\n",
    "plt.hist(subreddit_df['tokenized'].str.len(), bins=30)\n",
    "plt.ylabel('Number of Posts')\n",
    "plt.xlabel('Word Count')\n",
    "plt.show();"
   ]
  },
  {
   "cell_type": "markdown",
   "id": "97a6fcc1",
   "metadata": {},
   "source": [
    "This histogram shows that mosts posts were under 100 word count"
   ]
  },
  {
   "cell_type": "code",
   "execution_count": 50,
   "id": "73a8e907",
   "metadata": {},
   "outputs": [
    {
     "data": {
      "text/html": [
       "<div>\n",
       "<style scoped>\n",
       "    .dataframe tbody tr th:only-of-type {\n",
       "        vertical-align: middle;\n",
       "    }\n",
       "\n",
       "    .dataframe tbody tr th {\n",
       "        vertical-align: top;\n",
       "    }\n",
       "\n",
       "    .dataframe thead th {\n",
       "        text-align: right;\n",
       "    }\n",
       "</style>\n",
       "<table border=\"1\" class=\"dataframe\">\n",
       "  <thead>\n",
       "    <tr style=\"text-align: right;\">\n",
       "      <th></th>\n",
       "      <th>subreddit</th>\n",
       "      <th>selftext</th>\n",
       "      <th>title</th>\n",
       "      <th>label</th>\n",
       "      <th>total_text</th>\n",
       "      <th>tokenized</th>\n",
       "      <th>total_text_length</th>\n",
       "      <th>total_text_word_count</th>\n",
       "    </tr>\n",
       "  </thead>\n",
       "  <tbody>\n",
       "    <tr>\n",
       "      <th>0</th>\n",
       "      <td>nba</td>\n",
       "      <td>[**Ra asked me**](https://mediumlights.substac...</td>\n",
       "      <td>OC: Rookies Adjusting To The NBA (easier for s...</td>\n",
       "      <td>1</td>\n",
       "      <td>OC: Rookies Adjusting To The NBA (easier for s...</td>\n",
       "      <td>[oc:, rookies, adjusting, to, the, nba, (easie...</td>\n",
       "      <td>6020</td>\n",
       "      <td>1050</td>\n",
       "    </tr>\n",
       "  </tbody>\n",
       "</table>\n",
       "</div>"
      ],
      "text/plain": [
       "  subreddit                                           selftext  \\\n",
       "0       nba  [**Ra asked me**](https://mediumlights.substac...   \n",
       "\n",
       "                                               title  label  \\\n",
       "0  OC: Rookies Adjusting To The NBA (easier for s...      1   \n",
       "\n",
       "                                          total_text  \\\n",
       "0  OC: Rookies Adjusting To The NBA (easier for s...   \n",
       "\n",
       "                                           tokenized  total_text_length  \\\n",
       "0  [oc:, rookies, adjusting, to, the, nba, (easie...               6020   \n",
       "\n",
       "   total_text_word_count  \n",
       "0                   1050  "
      ]
     },
     "execution_count": 50,
     "metadata": {},
     "output_type": "execute_result"
    }
   ],
   "source": [
    "subreddit_df.head(1)"
   ]
  },
  {
   "cell_type": "code",
   "execution_count": 51,
   "id": "7f1f6a4d",
   "metadata": {
    "scrolled": true
   },
   "outputs": [
    {
     "data": {
      "text/plain": [
       "250     20260\n",
       "933     12758\n",
       "1753    11868\n",
       "662     11669\n",
       "2594    11573\n",
       "Name: total_text_length, dtype: int64"
      ]
     },
     "execution_count": 51,
     "metadata": {},
     "output_type": "execute_result"
    }
   ],
   "source": [
    "# `total_text_length` Top 5 Longest Length Count\n",
    "subreddit_df['total_text_length'].sort_values(ascending=False).head()"
   ]
  },
  {
   "cell_type": "code",
   "execution_count": 52,
   "id": "1897ad54",
   "metadata": {},
   "outputs": [
    {
     "data": {
      "text/plain": [
       "4688    1\n",
       "4254    1\n",
       "694     1\n",
       "433     1\n",
       "5224    2\n",
       "Name: total_text_length, dtype: int64"
      ]
     },
     "execution_count": 52,
     "metadata": {},
     "output_type": "execute_result"
    }
   ],
   "source": [
    "# `total_text_length` Top 5 Shortest Length Count\n",
    "subreddit_df['total_text_length'].sort_values(ascending=True).head()"
   ]
  },
  {
   "cell_type": "code",
   "execution_count": 53,
   "id": "cdae0770",
   "metadata": {},
   "outputs": [
    {
     "data": {
      "image/png": "[encoded data removed]",
      "text/plain": [
       "<Figure size 640x480 with 1 Axes>"
      ]
     },
     "metadata": {},
     "output_type": "display_data"
    }
   ],
   "source": [
    "# Histogram of `total_text` Word Count\n",
    "plt.hist(subreddit_df['total_text_word_count'], bins=20)\n",
    "plt.ylabel('Number of Posts')\n",
    "plt.xlabel('Word Count')\n",
    "plt.show();"
   ]
  },
  {
   "cell_type": "markdown",
   "id": "222b32a6",
   "metadata": {},
   "source": [
    "Since this size of the graph makes it difficult to see, I will split the histogram into 2 plots.  One with under than \n",
    "100 word count, and one greater than 100 word count.  This allow me to visualize this relationship better\n",
    "and look for outliers."
   ]
  },
  {
   "cell_type": "code",
   "execution_count": 54,
   "id": "490c4857",
   "metadata": {},
   "outputs": [
    {
     "data": {
      "image/png": "[encoded data removed]",
      "text/plain": [
       "<Figure size 640x480 with 1 Axes>"
      ]
     },
     "metadata": {},
     "output_type": "display_data"
    }
   ],
   "source": [
    "#Below 100 word count\n",
    "\n",
    "Below_100 = subreddit_df[subreddit_df['total_text_word_count'] < 100]\n",
    "\n",
    "plt.hist(Below_100['total_text_word_count'], bins=20)\n",
    "plt.ylabel('Number of Posts')\n",
    "plt.xlabel('Word Count')\n",
    "plt.title('Histogram of Word Count below 100 words')\n",
    "plt.show();"
   ]
  },
  {
   "cell_type": "markdown",
   "id": "152f3e38",
   "metadata": {},
   "source": [
    "This histogram shows a a right skewness adn that the most of the posts have a word count between 0-20."
   ]
  },
  {
   "cell_type": "code",
   "execution_count": 55,
   "id": "c1764ccf",
   "metadata": {},
   "outputs": [
    {
     "data": {
      "image/png": "[encoded data removed]",
      "text/plain": [
       "<Figure size 640x480 with 1 Axes>"
      ]
     },
     "metadata": {},
     "output_type": "display_data"
    }
   ],
   "source": [
    "#More than 100 word count\n",
    "\n",
    "Greater_100 = subreddit_df[subreddit_df['total_text_word_count'] > 100]\n",
    "\n",
    "plt.hist(Greater_100['total_text_word_count'], bins=10)\n",
    "plt.ylabel('Number of Posts')\n",
    "plt.xlabel('Word Count')\n",
    "plt.title('Histogram of Word Count above 100 words')\n",
    "plt.show();"
   ]
  },
  {
   "cell_type": "markdown",
   "id": "f0b3560c",
   "metadata": {},
   "source": [
    "This graph shows the word count for posts over 100 word count.  These two graphs show that most posts are under\n",
    "20 word count. "
   ]
  },
  {
   "cell_type": "code",
   "execution_count": 56,
   "id": "f96e3d75",
   "metadata": {},
   "outputs": [
    {
     "name": "stderr",
     "output_type": "stream",
     "text": [
      "C:\\Users\\ianst\\AppData\\Local\\Temp\\ipykernel_21820\\3273767297.py:1: FutureWarning: Indexing with multiple keys (implicitly converted to a tuple of keys) will be deprecated, use a list instead.\n",
      "  subreddit_df.groupby(['subreddit'])['total_text_word_count', 'total_text_length'].mean().round(2)\n"
     ]
    },
    {
     "data": {
      "text/html": [
       "<div>\n",
       "<style scoped>\n",
       "    .dataframe tbody tr th:only-of-type {\n",
       "        vertical-align: middle;\n",
       "    }\n",
       "\n",
       "    .dataframe tbody tr th {\n",
       "        vertical-align: top;\n",
       "    }\n",
       "\n",
       "    .dataframe thead th {\n",
       "        text-align: right;\n",
       "    }\n",
       "</style>\n",
       "<table border=\"1\" class=\"dataframe\">\n",
       "  <thead>\n",
       "    <tr style=\"text-align: right;\">\n",
       "      <th></th>\n",
       "      <th>total_text_word_count</th>\n",
       "      <th>total_text_length</th>\n",
       "    </tr>\n",
       "    <tr>\n",
       "      <th>subreddit</th>\n",
       "      <th></th>\n",
       "      <th></th>\n",
       "    </tr>\n",
       "  </thead>\n",
       "  <tbody>\n",
       "    <tr>\n",
       "      <th>nba</th>\n",
       "      <td>66.08</td>\n",
       "      <td>388.62</td>\n",
       "    </tr>\n",
       "    <tr>\n",
       "      <th>nhl</th>\n",
       "      <td>28.99</td>\n",
       "      <td>160.65</td>\n",
       "    </tr>\n",
       "  </tbody>\n",
       "</table>\n",
       "</div>"
      ],
      "text/plain": [
       "           total_text_word_count  total_text_length\n",
       "subreddit                                          \n",
       "nba                        66.08             388.62\n",
       "nhl                        28.99             160.65"
      ]
     },
     "execution_count": 56,
     "metadata": {},
     "output_type": "execute_result"
    }
   ],
   "source": [
    "subreddit_df.groupby(['subreddit'])['total_text_word_count', 'total_text_length'].mean().round(2)\n"
   ]
  },
  {
   "cell_type": "markdown",
   "id": "44f2550d",
   "metadata": {},
   "source": [
    "This table here shows that the nba subreddit tends to have a higher word count avg. and total text length avg.\n",
    "compared to the nhl subreddit."
   ]
  },
  {
   "cell_type": "code",
   "execution_count": 57,
   "id": "cd324418",
   "metadata": {},
   "outputs": [
    {
     "data": {
      "image/png": "[encoded data removed]",
      "text/plain": [
       "<Figure size 500x500 with 1 Axes>"
      ]
     },
     "metadata": {},
     "output_type": "display_data"
    },
    {
     "data": {
      "image/png": "[encoded data removed]",
      "text/plain": [
       "<Figure size 500x500 with 1 Axes>"
      ]
     },
     "metadata": {},
     "output_type": "display_data"
    }
   ],
   "source": [
    "sns.displot(subreddit_df[subreddit_df['subreddit'] == 'nba']['total_text_word_count'])\n",
    "sns.displot(subreddit_df[subreddit_df['subreddit'] == 'nhl']['total_text_word_count'])\n",
    "plt.show();"
   ]
  },
  {
   "cell_type": "markdown",
   "id": "36ef3c8e",
   "metadata": {},
   "source": [
    "Distribution plot of both subreddit's overlapped on the same graph"
   ]
  },
  {
   "cell_type": "markdown",
   "id": "b6a14d60",
   "metadata": {},
   "source": [
    "## PreProcessing and Modeling"
   ]
  },
  {
   "cell_type": "code",
   "execution_count": 58,
   "id": "6a53ad70",
   "metadata": {},
   "outputs": [],
   "source": [
    "# define X and y\n",
    "X=subreddit_df['total_text']\n",
    "y=subreddit_df['label']"
   ]
  },
  {
   "cell_type": "code",
   "execution_count": 59,
   "id": "d531d06f",
   "metadata": {},
   "outputs": [
    {
     "data": {
      "text/plain": [
       "0    OC: Rookies Adjusting To The NBA (easier for s...\n",
       "1    One of the highest upvoted posts and greatest ...\n",
       "Name: total_text, dtype: object"
      ]
     },
     "execution_count": 59,
     "metadata": {},
     "output_type": "execute_result"
    }
   ],
   "source": [
    "X.head(2)"
   ]
  },
  {
   "cell_type": "code",
   "execution_count": 60,
   "id": "3d4c4708",
   "metadata": {},
   "outputs": [],
   "source": [
    "# Split the data into the training and testing sets\n",
    "X_train, X_test, y_train, y_test = train_test_split(X, y, test_size=0.20, stratify=y, random_state = 42)"
   ]
  },
  {
   "cell_type": "code",
   "execution_count": 61,
   "id": "ac0794d4",
   "metadata": {},
   "outputs": [
    {
     "data": {
      "text/plain": [
       "((4671,), (1168,), (4671,), (1168,))"
      ]
     },
     "execution_count": 61,
     "metadata": {},
     "output_type": "execute_result"
    }
   ],
   "source": [
    "X_train.shape, X_test.shape, y_train.shape, y_test.shape"
   ]
  },
  {
   "cell_type": "code",
   "execution_count": 62,
   "id": "aa0b926e",
   "metadata": {},
   "outputs": [
    {
     "data": {
      "text/plain": [
       "0    0.505673\n",
       "1    0.494327\n",
       "Name: label, dtype: float64"
      ]
     },
     "execution_count": 62,
     "metadata": {},
     "output_type": "execute_result"
    }
   ],
   "source": [
    "# Baseline:\n",
    "y_train.value_counts(normalize=True)"
   ]
  },
  {
   "cell_type": "code",
   "execution_count": 63,
   "id": "452c60e7",
   "metadata": {
    "scrolled": true
   },
   "outputs": [
    {
     "data": {
      "text/plain": [
       "0    0.505993\n",
       "1    0.494007\n",
       "Name: label, dtype: float64"
      ]
     },
     "execution_count": 63,
     "metadata": {},
     "output_type": "execute_result"
    }
   ],
   "source": [
    "\n",
    "y_test.value_counts(normalize=True)"
   ]
  },
  {
   "cell_type": "code",
   "execution_count": 64,
   "id": "4fb03b06",
   "metadata": {},
   "outputs": [],
   "source": [
    "# Instantiate a baseline CountVectorizer\n",
    "# stop_words as hyperparameter\n",
    "cvec = CountVectorizer(stop_words= 'english')"
   ]
  },
  {
   "cell_type": "code",
   "execution_count": 65,
   "id": "387e44fc",
   "metadata": {},
   "outputs": [
    {
     "data": {
      "text/html": [
       "<style>#sk-container-id-1 {color: black;background-color: white;}#sk-container-id-1 pre{padding: 0;}#sk-container-id-1 div.sk-toggleable {background-color: white;}#sk-container-id-1 label.sk-toggleable__label {cursor: pointer;display: block;width: 100%;margin-bottom: 0;padding: 0.3em;box-sizing: border-box;text-align: center;}#sk-container-id-1 label.sk-toggleable__label-arrow:before {content: \"▸\";float: left;margin-right: 0.25em;color: #696969;}#sk-container-id-1 label.sk-toggleable__label-arrow:hover:before {color: black;}#sk-container-id-1 div.sk-estimator:hover label.sk-toggleable__label-arrow:before {color: black;}#sk-container-id-1 div.sk-toggleable__content {max-height: 0;max-width: 0;overflow: hidden;text-align: left;background-color: #f0f8ff;}#sk-container-id-1 div.sk-toggleable__content pre {margin: 0.2em;color: black;border-radius: 0.25em;background-color: #f0f8ff;}#sk-container-id-1 input.sk-toggleable__control:checked~div.sk-toggleable__content {max-height: 200px;max-width: 100%;overflow: auto;}#sk-container-id-1 input.sk-toggleable__control:checked~label.sk-toggleable__label-arrow:before {content: \"▾\";}#sk-container-id-1 div.sk-estimator input.sk-toggleable__control:checked~label.sk-toggleable__label {background-color: #d4ebff;}#sk-container-id-1 div.sk-label input.sk-toggleable__control:checked~label.sk-toggleable__label {background-color: #d4ebff;}#sk-container-id-1 input.sk-hidden--visually {border: 0;clip: rect(1px 1px 1px 1px);clip: rect(1px, 1px, 1px, 1px);height: 1px;margin: -1px;overflow: hidden;padding: 0;position: absolute;width: 1px;}#sk-container-id-1 div.sk-estimator {font-family: monospace;background-color: #f0f8ff;border: 1px dotted black;border-radius: 0.25em;box-sizing: border-box;margin-bottom: 0.5em;}#sk-container-id-1 div.sk-estimator:hover {background-color: #d4ebff;}#sk-container-id-1 div.sk-parallel-item::after {content: \"\";width: 100%;border-bottom: 1px solid gray;flex-grow: 1;}#sk-container-id-1 div.sk-label:hover label.sk-toggleable__label {background-color: #d4ebff;}#sk-container-id-1 div.sk-serial::before {content: \"\";position: absolute;border-left: 1px solid gray;box-sizing: border-box;top: 0;bottom: 0;left: 50%;z-index: 0;}#sk-container-id-1 div.sk-serial {display: flex;flex-direction: column;align-items: center;background-color: white;padding-right: 0.2em;padding-left: 0.2em;position: relative;}#sk-container-id-1 div.sk-item {position: relative;z-index: 1;}#sk-container-id-1 div.sk-parallel {display: flex;align-items: stretch;justify-content: center;background-color: white;position: relative;}#sk-container-id-1 div.sk-item::before, #sk-container-id-1 div.sk-parallel-item::before {content: \"\";position: absolute;border-left: 1px solid gray;box-sizing: border-box;top: 0;bottom: 0;left: 50%;z-index: -1;}#sk-container-id-1 div.sk-parallel-item {display: flex;flex-direction: column;z-index: 1;position: relative;background-color: white;}#sk-container-id-1 div.sk-parallel-item:first-child::after {align-self: flex-end;width: 50%;}#sk-container-id-1 div.sk-parallel-item:last-child::after {align-self: flex-start;width: 50%;}#sk-container-id-1 div.sk-parallel-item:only-child::after {width: 0;}#sk-container-id-1 div.sk-dashed-wrapped {border: 1px dashed gray;margin: 0 0.4em 0.5em 0.4em;box-sizing: border-box;padding-bottom: 0.4em;background-color: white;}#sk-container-id-1 div.sk-label label {font-family: monospace;font-weight: bold;display: inline-block;line-height: 1.2em;}#sk-container-id-1 div.sk-label-container {text-align: center;}#sk-container-id-1 div.sk-container {/* jupyter's `normalize.less` sets `[hidden] { display: none; }` but bootstrap.min.css set `[hidden] { display: none !important; }` so we also need the `!important` here to be able to override the default hidden behavior on the sphinx rendered scikit-learn.org. See: https://github.com/scikit-learn/scikit-learn/issues/21755 */display: inline-block !important;position: relative;}#sk-container-id-1 div.sk-text-repr-fallback {display: none;}</style><div id=\"sk-container-id-1\" class=\"sk-top-container\"><div class=\"sk-text-repr-fallback\"><pre>CountVectorizer(stop_words=&#x27;english&#x27;)</pre><b>In a Jupyter environment, please rerun this cell to show the HTML representation or trust the notebook. <br />On GitHub, the HTML representation is unable to render, please try loading this page with nbviewer.org.</b></div><div class=\"sk-container\" hidden><div class=\"sk-item\"><div class=\"sk-estimator sk-toggleable\"><input class=\"sk-toggleable__control sk-hidden--visually\" id=\"sk-estimator-id-1\" type=\"checkbox\" checked><label for=\"sk-estimator-id-1\" class=\"sk-toggleable__label sk-toggleable__label-arrow\">CountVectorizer</label><div class=\"sk-toggleable__content\"><pre>CountVectorizer(stop_words=&#x27;english&#x27;)</pre></div></div></div></div></div>"
      ],
      "text/plain": [
       "CountVectorizer(stop_words='english')"
      ]
     },
     "execution_count": 65,
     "metadata": {},
     "output_type": "execute_result"
    }
   ],
   "source": [
    "# Fit the Vectorizer\n",
    "cvec.fit(X_train)"
   ]
  },
  {
   "cell_type": "code",
   "execution_count": 66,
   "id": "34d0fc04",
   "metadata": {},
   "outputs": [],
   "source": [
    "# Transform Corpus\n",
    "X_train_countvec = cvec.transform(X_train)"
   ]
  },
  {
   "cell_type": "code",
   "execution_count": 67,
   "id": "4917aea2",
   "metadata": {},
   "outputs": [
    {
     "data": {
      "text/plain": [
       "<4671x13283 sparse matrix of type '<class 'numpy.int64'>'\n",
       "\twith 90796 stored elements in Compressed Sparse Row format>"
      ]
     },
     "execution_count": 67,
     "metadata": {},
     "output_type": "execute_result"
    }
   ],
   "source": [
    "X_train_countvec"
   ]
  },
  {
   "cell_type": "code",
   "execution_count": 68,
   "id": "97b00496",
   "metadata": {},
   "outputs": [
    {
     "data": {
      "text/plain": [
       "matrix([[0, 0, 0, ..., 0, 0, 0],\n",
       "        [0, 0, 0, ..., 0, 0, 0],\n",
       "        [0, 0, 0, ..., 0, 0, 0],\n",
       "        ...,\n",
       "        [0, 0, 0, ..., 0, 0, 0],\n",
       "        [0, 0, 0, ..., 0, 0, 0],\n",
       "        [0, 0, 0, ..., 0, 0, 0]], dtype=int64)"
      ]
     },
     "execution_count": 68,
     "metadata": {},
     "output_type": "execute_result"
    }
   ],
   "source": [
    "# Sparse to Dense Representation\n",
    "X_train_countvec.todense()"
   ]
  },
  {
   "cell_type": "markdown",
   "id": "58402f73",
   "metadata": {},
   "source": [
    "#### CountVectorizer"
   ]
  },
  {
   "cell_type": "code",
   "execution_count": 69,
   "id": "a6555b26",
   "metadata": {},
   "outputs": [
    {
     "name": "stderr",
     "output_type": "stream",
     "text": [
      "C:\\Users\\ianst\\anaconda3\\lib\\site-packages\\sklearn\\utils\\deprecation.py:87: FutureWarning: Function get_feature_names is deprecated; get_feature_names is deprecated in 1.0 and will be removed in 1.2. Please use get_feature_names_out instead.\n",
      "  warnings.warn(msg, category=FutureWarning)\n"
     ]
    },
    {
     "data": {
      "image/png": "[encoded data removed]",
      "text/plain": [
       "<Figure size 640x480 with 1 Axes>"
      ]
     },
     "metadata": {},
     "output_type": "display_data"
    }
   ],
   "source": [
    "# Dataframe for CountVectorizer\n",
    "subreddit_df_train_wordcount = pd.DataFrame(X_train_countvec.todense(), columns = cvec.get_feature_names())\n",
    "\n",
    "# Transform test\n",
    "X_test_countvec = cvec.transform(X_test)\n",
    "\n",
    "# Bar Graph of Top 20 Words\n",
    "subreddit_df_train_wordcount.sum().sort_values(ascending=False).head(20).sort_values(ascending=True).plot(kind='barh')\n",
    "plt.show();"
   ]
  },
  {
   "cell_type": "markdown",
   "id": "c85d401f",
   "metadata": {},
   "source": [
    "The bar graph above shows the top 20 words using Count Vectorizer with stop words as the only hyper parameter.\n",
    "We see that the top two words are 'team' and 'game'.  This makes sense as in both the nba and nhl subreddit,\n",
    "both of these vocabulary words are used. "
   ]
  },
  {
   "cell_type": "markdown",
   "id": "cd2b2443",
   "metadata": {},
   "source": [
    "#### TF-IDF Vectorizer"
   ]
  },
  {
   "cell_type": "code",
   "execution_count": 70,
   "id": "1071e94a",
   "metadata": {},
   "outputs": [
    {
     "name": "stderr",
     "output_type": "stream",
     "text": [
      "C:\\Users\\ianst\\anaconda3\\lib\\site-packages\\sklearn\\utils\\deprecation.py:87: FutureWarning: Function get_feature_names is deprecated; get_feature_names is deprecated in 1.0 and will be removed in 1.2. Please use get_feature_names_out instead.\n",
      "  warnings.warn(msg, category=FutureWarning)\n"
     ]
    },
    {
     "data": {
      "image/png": "[encoded data removed]",
      "text/plain": [
       "<Figure size 640x480 with 1 Axes>"
      ]
     },
     "metadata": {},
     "output_type": "display_data"
    }
   ],
   "source": [
    "# Instantiate TF-IDF Vectorizer\n",
    "tvec = TfidfVectorizer(stop_words = 'english')\n",
    "# Convert Training Data to Dataframe\n",
    "X_train_tfidf = pd.DataFrame(tvec.fit_transform(X_train).todense(),\n",
    "                          columns = tvec.get_feature_names())\n",
    "\n",
    "# Bar Graph of Top 20 Words\n",
    "X_train_tfidf.sum().sort_values(ascending=False).head(20).sort_values(ascending=True).plot(kind='barh')\n",
    "plt.show();"
   ]
  },
  {
   "cell_type": "markdown",
   "id": "ce8cb3db",
   "metadata": {},
   "source": [
    "The bar graph above shows the top 20 words using TF-IDF Vectorizer with stop words as the only hyper parameter.\n",
    "We see that the top two words are 'team' and 'game'.  Compared to count vertiorizer though, the word 'nhl' appeared\n",
    "in the top 4.\n",
    "\n",
    "Out of the two types of vectorizer's, I believe the Tf-IDF Vectorizer is better as it also consider the overall document\n",
    "weightage of the words.  In the Tf-IDF bar graph, 'nhl' is included which I think is import as 'nba' is also included.\n",
    "It is important that both subreddit titles appear and weighted appropriately. \n",
    "\n",
    "I will uses Tf-IDF vectorizer for my modeling based off of this."
   ]
  },
  {
   "cell_type": "markdown",
   "id": "0c4edb2e",
   "metadata": {},
   "source": [
    "Histogram of frequency of most poplular word count"
   ]
  },
  {
   "cell_type": "code",
   "execution_count": 71,
   "id": "4b902d2a",
   "metadata": {},
   "outputs": [
    {
     "data": {
      "image/png": "[encoded data removed]",
      "text/plain": [
       "<Figure size 640x480 with 1 Axes>"
      ]
     },
     "metadata": {},
     "output_type": "display_data"
    }
   ],
   "source": [
    "subreddit_df_train_wordcount.sum().sort_values(ascending=False).head(20).sort_values(ascending=True).plot(kind='hist')\n",
    "plt.show();\n"
   ]
  },
  {
   "cell_type": "markdown",
   "id": "4cc9121b",
   "metadata": {},
   "source": [
    "The histogram above shows the top 20 word count.  There seems to be a gap between the top 3 and the rest."
   ]
  },
  {
   "cell_type": "code",
   "execution_count": 72,
   "id": "06a9915d",
   "metadata": {},
   "outputs": [],
   "source": [
    "# https://gist.github.com/balapriyac/06c97a6f31973c9dba7402b93272038b\n",
    "# https://neptune.ai/blog/exploratory-data-analysis-natural-language-processing-tools\n",
    "\n",
    "\n",
    "def plot_top_ngrams_barchart(text, n=2):\n",
    "    stop=set(stopwords.words('english'))\n",
    "\n",
    "    sub_post= text.str.split()#Split text into string\n",
    "    sub_post=sub_post.values.tolist()#insert strings in a list of list\n",
    "    corpus=[word for i in sub_post for word in i]#Combine lists into 1 list\n",
    "\n",
    "    def _get_top_ngram(corpus, n=None):\n",
    "        vec = CountVectorizer(ngram_range=(n, n)).fit(corpus)#Fit CountVectorizer\n",
    "        bag_of_words = vec.transform(corpus)# Transform CountVectorizer\n",
    "        sum_words = bag_of_words.sum(axis=0) #Sum of Transformed CountVectorizers\n",
    "        words_freq = [(word, sum_words[0, idx]) \n",
    "                      for word, idx in vec.vocabulary_.items()]#sum count of words based off of what n=\n",
    "        words_freq =sorted(words_freq, key = lambda x: x[1], reverse=True)#Sort via highest frequency\n",
    "        return words_freq[:10]\n",
    "\n",
    "    top_n_bigrams=_get_top_ngram(text,n)[:10]\n",
    "    x,y=map(list,zip(*top_n_bigrams))\n",
    "    sns.barplot(x=y,y=x)"
   ]
  },
  {
   "cell_type": "code",
   "execution_count": 73,
   "id": "ed4072c6",
   "metadata": {},
   "outputs": [
    {
     "data": {
      "image/png": "[encoded data removed]",
      "text/plain": [
       "<Figure size 640x480 with 1 Axes>"
      ]
     },
     "metadata": {},
     "output_type": "display_data"
    }
   ],
   "source": [
    "plot_top_ngrams_barchart(subreddit_df['total_text'], 2)\n",
    "plt.show();"
   ]
  },
  {
   "cell_type": "markdown",
   "id": "3720a4b3",
   "metadata": {},
   "source": [
    "The above bar chart is a of bigrams based off off the two subreddit's nhl and nba.  This visual allows me to see\n",
    "what group of two words are most commonly used.  It looks like the bottom half of the graph tends to have a lot\n",
    "of words related to the r/nba reddit (ppg reb, the nba, reb ast).  The most common bigram was 'in the'."
   ]
  },
  {
   "cell_type": "code",
   "execution_count": 74,
   "id": "8ae2b0b2",
   "metadata": {},
   "outputs": [
    {
     "data": {
      "image/png": "[encoded data removed]",
      "text/plain": [
       "<Figure size 640x480 with 1 Axes>"
      ]
     },
     "metadata": {},
     "output_type": "display_data"
    }
   ],
   "source": [
    "plot_top_ngrams_barchart(subreddit_df['total_text'], 3)\n",
    "plt.show();"
   ]
  },
  {
   "cell_type": "markdown",
   "id": "68fee750",
   "metadata": {},
   "source": [
    "The above chart is a tri-gram bargraph of the data set.  The top tri-gram is also related ot the r/nba: points per game,\n",
    "rebounds, and assists."
   ]
  },
  {
   "cell_type": "code",
   "execution_count": 75,
   "id": "d55a72f5",
   "metadata": {
    "scrolled": false
   },
   "outputs": [],
   "source": [
    "from textblob import TextBlob"
   ]
  },
  {
   "cell_type": "code",
   "execution_count": 76,
   "id": "de008547",
   "metadata": {},
   "outputs": [],
   "source": [
    "def plot_polarity_histogram(text):\n",
    "    \n",
    "    def _polarity(text):\n",
    "        return TextBlob(text).sentiment.polarity\n",
    "        \n",
    "    polarity_score =text.apply(lambda x : _polarity(x))\n",
    "    polarity_score.hist()"
   ]
  },
  {
   "cell_type": "code",
   "execution_count": 79,
   "id": "088efbf0",
   "metadata": {},
   "outputs": [
    {
     "data": {
      "image/png": "[encoded data removed]",
      "text/plain": [
       "<Figure size 640x480 with 1 Axes>"
      ]
     },
     "metadata": {},
     "output_type": "display_data"
    }
   ],
   "source": [
    "plot_polarity_histogram(subreddit_df['total_text'])\n",
    "plt.xlabel('Polarity')\n",
    "plt.ylabel('Probability')\n",
    "plt.title('Histogram of Polarity')\n",
    "plt.show();"
   ]
  },
  {
   "cell_type": "markdown",
   "id": "83041457",
   "metadata": {},
   "source": [
    "After importing TextBlob, a Lexicon-based sentiment analyzer, I did some sentiment analysis on the dataset and created\n",
    "a histogram of the calculated values.  We can see that the polarity mostly ranges from 0.00 and 0.2.  This means the \n",
    "majority of the two subreddit's are neutral. "
   ]
  },
  {
   "cell_type": "code",
   "execution_count": 77,
   "id": "0423e5e0",
   "metadata": {},
   "outputs": [],
   "source": [
    "subreddit_df.reset_index(drop=True, inplace=True)"
   ]
  },
  {
   "cell_type": "code",
   "execution_count": 78,
   "id": "88daecc1",
   "metadata": {},
   "outputs": [
    {
     "data": {
      "text/plain": [
       "3939    1.000\n",
       "4875    1.000\n",
       "5773    1.000\n",
       "5287    0.884\n",
       "3664    0.810\n",
       "Name: neg, dtype: float64"
      ]
     },
     "execution_count": 78,
     "metadata": {},
     "output_type": "execute_result"
    }
   ],
   "source": [
    "# Instantiate Sentiment Analysis\n",
    "sent = SentimentIntensityAnalyzer()\n",
    "\n",
    "# Top 5 Negative Scores\n",
    "# https://stackoverflow.com/questions/39462021/nltk-sentiment-vader-polarity-scorestext-not-working\n",
    "\n",
    "polarity_scores = pd.DataFrame([sent.polarity_scores(subreddit_df['total_text'][i]) for i in range(len(subreddit_df['total_text']))])\n",
    "polarity_scores['neg'].nlargest(n=5)"
   ]
  },
  {
   "cell_type": "code",
   "execution_count": 79,
   "id": "b354e2a6",
   "metadata": {},
   "outputs": [
    {
     "name": "stdout",
     "output_type": "stream",
     "text": [
      "Fatality. \n",
      "Disappoint. \n",
      "Disappointment \n",
      "Savage as hell. \n",
      "FAKE NEWS!!!! \n"
     ]
    }
   ],
   "source": [
    "print(subreddit_df['total_text'][3939])\n",
    "print(subreddit_df['total_text'][4875])\n",
    "print(subreddit_df['total_text'][5773])\n",
    "print(subreddit_df['total_text'][5287])\n",
    "print(subreddit_df['total_text'][3664])"
   ]
  },
  {
   "cell_type": "code",
   "execution_count": 80,
   "id": "e05fe53b",
   "metadata": {},
   "outputs": [
    {
     "name": "stdout",
     "output_type": "stream",
     "text": [
      "nhl\n",
      "nhl\n",
      "nhl\n",
      "nhl\n",
      "nhl\n"
     ]
    }
   ],
   "source": [
    "print(subreddit_df['subreddit'][3939])\n",
    "print(subreddit_df['subreddit'][4875])\n",
    "print(subreddit_df['subreddit'][5773])\n",
    "print(subreddit_df['subreddit'][5287])\n",
    "print(subreddit_df['subreddit'][3664])"
   ]
  },
  {
   "cell_type": "markdown",
   "id": "291801f2",
   "metadata": {},
   "source": [
    "Above show the top 5 negative polarity scores, with scores ranging from  0.81 to 1.0, and all were in r/nhl posts."
   ]
  },
  {
   "cell_type": "markdown",
   "id": "44474e15",
   "metadata": {},
   "source": [
    "## Modeling"
   ]
  },
  {
   "cell_type": "markdown",
   "id": "d340ae3a",
   "metadata": {},
   "source": [
    "### MNB\n",
    "#### IF-IDF Vectorizer"
   ]
  },
  {
   "cell_type": "code",
   "execution_count": 81,
   "id": "fdd3c519",
   "metadata": {},
   "outputs": [
    {
     "name": "stdout",
     "output_type": "stream",
     "text": [
      "Fitting 5 folds for each of 64 candidates, totalling 320 fits\n"
     ]
    },
    {
     "data": {
      "text/plain": [
       "{'tvec__max_df': 0.9,\n",
       " 'tvec__max_features': 5000,\n",
       " 'tvec__min_df': 3,\n",
       " 'tvec__ngram_range': (1, 2),\n",
       " 'tvec__stop_words': 'english'}"
      ]
     },
     "execution_count": 81,
     "metadata": {},
     "output_type": "execute_result"
    }
   ],
   "source": [
    "tvec_pipe = Pipeline([\n",
    "    ('tvec' , TfidfVectorizer(stop_words = 'english')),\n",
    "    ('mnb', MultinomialNB())\n",
    "])\n",
    "\n",
    "pipe_tvec_params = {\n",
    "    'tvec__max_features': [2000, 3000, 4000, 5000],\n",
    "    'tvec__stop_words': [None, 'english'],\n",
    "    'tvec__min_df': [2, 3],\n",
    "    'tvec__max_df': [.9, .95],\n",
    "    'tvec__ngram_range': [(1,1), (1,2)]\n",
    "}\n",
    "\n",
    "# Gridsearch MNB\n",
    "mnb_gs = GridSearchCV(tvec_pipe, pipe_tvec_params, cv=5, verbose=1)\n",
    "# Fit GridSearch to Training Data\n",
    "mnb_gs.fit(X_train, y_train)\n",
    "mnb_gs.best_params_\n"
   ]
  },
  {
   "cell_type": "code",
   "execution_count": 82,
   "id": "57854cf1",
   "metadata": {},
   "outputs": [
    {
     "name": "stdout",
     "output_type": "stream",
     "text": [
      "0.9265673487615798\n"
     ]
    }
   ],
   "source": [
    "# Multinomial Naive Bayes (IF-IDF Vectorizer) Best Score\n",
    "print(mnb_gs.best_score_)"
   ]
  },
  {
   "cell_type": "code",
   "execution_count": 83,
   "id": "f316a49a",
   "metadata": {},
   "outputs": [
    {
     "name": "stdout",
     "output_type": "stream",
     "text": [
      "Multinomial Naive Bayes (IF-IDF Vectorizer) Train Score: 0.9565403553842861\n",
      "Multinomial Naive Bayes (IF-IDF Vectorizer) Test Score: 0.9272260273972602\n"
     ]
    }
   ],
   "source": [
    "# IF-IDF Vectorizer Best Score with Parameters\n",
    "print(f'Multinomial Naive Bayes (IF-IDF Vectorizer) Train Score: {mnb_gs.score(X_train, y_train)}')\n",
    "print(f'Multinomial Naive Bayes (IF-IDF Vectorizer) Test Score: {mnb_gs.score(X_test, y_test)}')"
   ]
  },
  {
   "cell_type": "code",
   "execution_count": 84,
   "id": "35654c52",
   "metadata": {},
   "outputs": [
    {
     "data": {
      "image/png": "[encoded data removed]",
      "text/plain": [
       "<Figure size 640x480 with 2 Axes>"
      ]
     },
     "metadata": {},
     "output_type": "display_data"
    }
   ],
   "source": [
    "from sklearn.metrics import ConfusionMatrixDisplay\n",
    "\n",
    "y_pred = mnb_gs.predict(X_test)\n",
    "\n",
    "cm = confusion_matrix(y_test, y_pred)\n",
    "\n",
    "tn, fp, fn, tp = confusion_matrix(y_test, y_pred).ravel()\n",
    "\n",
    "disp = ConfusionMatrixDisplay(confusion_matrix=cm).plot()\n",
    "\n",
    "plt.title('Confusion matrix of the Mulitnomial Baye classifier')\n",
    "plt.show()"
   ]
  },
  {
   "cell_type": "code",
   "execution_count": 85,
   "id": "87dbb1d3",
   "metadata": {},
   "outputs": [
    {
     "name": "stdout",
     "output_type": "stream",
     "text": [
      "Multinomial Naive Bayes (TF-IDF Vectorizer) Specificity: 0.9475465313028765\n",
      "Multinomial Naive Bayes (TF-IDF Vectorizer) Sensitivity: 0.9064124783362218\n"
     ]
    }
   ],
   "source": [
    "print(f'Multinomial Naive Bayes (TF-IDF Vectorizer) Specificity: {tn / (tn + fp)}')\n",
    "print(f'Multinomial Naive Bayes (TF-IDF Vectorizer) Sensitivity: {tp / (tp + fn)}')"
   ]
  },
  {
   "cell_type": "markdown",
   "id": "cfe9948e",
   "metadata": {},
   "source": [
    "### MNB\n",
    "#### MNB Count Vectorizer"
   ]
  },
  {
   "cell_type": "code",
   "execution_count": 86,
   "id": "8c9e38a8",
   "metadata": {},
   "outputs": [
    {
     "name": "stdout",
     "output_type": "stream",
     "text": [
      "Fitting 5 folds for each of 64 candidates, totalling 320 fits\n"
     ]
    },
    {
     "data": {
      "text/plain": [
       "{'cvec__max_df': 0.9,\n",
       " 'cvec__max_features': 5000,\n",
       " 'cvec__min_df': 2,\n",
       " 'cvec__ngram_range': (1, 1),\n",
       " 'cvec__stop_words': 'english'}"
      ]
     },
     "execution_count": 86,
     "metadata": {},
     "output_type": "execute_result"
    }
   ],
   "source": [
    "cvec_pipe = Pipeline([\n",
    "    ('cvec' , CountVectorizer(stop_words = 'english')),\n",
    "    ('mnb', MultinomialNB())\n",
    "])\n",
    "\n",
    "pipe_cvec_params = {\n",
    "    'cvec__max_features': [2000, 3000, 4000, 5000],\n",
    "    'cvec__min_df': [2, 3],\n",
    "    'cvec__max_df': [.9, .95],\n",
    "    'cvec__ngram_range': [(1,1), (1,2)],\n",
    "    'cvec__stop_words': [None, 'english'],\n",
    "}\n",
    "\n",
    "# Gridsearch MNB\n",
    "mnb_gs2 = GridSearchCV(cvec_pipe, pipe_cvec_params, cv=5, verbose=1)\n",
    "# Fit GridSearch to Training Data\n",
    "mnb_gs2.fit(X_train, y_train)\n",
    "mnb_gs2.best_params_\n"
   ]
  },
  {
   "cell_type": "code",
   "execution_count": 87,
   "id": "e7b65447",
   "metadata": {},
   "outputs": [
    {
     "name": "stdout",
     "output_type": "stream",
     "text": [
      "0.9212154038177467\n"
     ]
    }
   ],
   "source": [
    "# Multinomial Naive Bayes (Count Vectorizer) Best Score\n",
    "print(mnb_gs2.best_score_)"
   ]
  },
  {
   "cell_type": "code",
   "execution_count": 88,
   "id": "5ca028cd",
   "metadata": {},
   "outputs": [
    {
     "name": "stdout",
     "output_type": "stream",
     "text": [
      "Multinomial Naive Bayes (Count Vectorizer) Train Score: 0.9466923570969814\n",
      "Multinomial Naive Bayes (Count Vectorizer) Test Score: 0.9238013698630136\n"
     ]
    }
   ],
   "source": [
    "# Count Vectorizer Best Score with Parameters\n",
    "print(f'Multinomial Naive Bayes (Count Vectorizer) Train Score: {mnb_gs2.score(X_train, y_train)}')\n",
    "print(f'Multinomial Naive Bayes (Count Vectorizer) Test Score: {mnb_gs2.score(X_test, y_test)}')"
   ]
  },
  {
   "cell_type": "code",
   "execution_count": 89,
   "id": "c6ab427a",
   "metadata": {},
   "outputs": [
    {
     "data": {
      "image/png": "[encoded data removed]",
      "text/plain": [
       "<Figure size 640x480 with 2 Axes>"
      ]
     },
     "metadata": {},
     "output_type": "display_data"
    }
   ],
   "source": [
    "from sklearn.metrics import ConfusionMatrixDisplay\n",
    "\n",
    "y_pred = mnb_gs2.predict(X_test)\n",
    "\n",
    "cm = confusion_matrix(y_test, y_pred)\n",
    "\n",
    "tn, fp, fn, tp = confusion_matrix(y_test, y_pred).ravel()\n",
    "\n",
    "disp = ConfusionMatrixDisplay(confusion_matrix=cm).plot()\n",
    "\n",
    "plt.title('Confusion matrix of the LogisiticRegression classifier')\n",
    "plt.show()"
   ]
  },
  {
   "cell_type": "code",
   "execution_count": 90,
   "id": "21841f17",
   "metadata": {},
   "outputs": [
    {
     "name": "stdout",
     "output_type": "stream",
     "text": [
      "Multinomial Naive Bayes (TF-IDF Vectorizer) Specificity: 0.9458544839255499\n",
      "Multinomial Naive Bayes (TF-IDF Vectorizer) Sensitivity: 0.901213171577123\n"
     ]
    }
   ],
   "source": [
    "print(f'Multinomial Naive Bayes (TF-IDF Vectorizer) Specificity: {tn / (tn + fp)}')\n",
    "print(f'Multinomial Naive Bayes (TF-IDF Vectorizer) Sensitivity: {tp / (tp + fn)}')"
   ]
  },
  {
   "cell_type": "markdown",
   "id": "3b8d6d49",
   "metadata": {},
   "source": [
    "#### Predicted vs. Actural Results"
   ]
  },
  {
   "cell_type": "code",
   "execution_count": 91,
   "id": "c09036de",
   "metadata": {},
   "outputs": [
    {
     "data": {
      "text/html": [
       "<div>\n",
       "<style scoped>\n",
       "    .dataframe tbody tr th:only-of-type {\n",
       "        vertical-align: middle;\n",
       "    }\n",
       "\n",
       "    .dataframe tbody tr th {\n",
       "        vertical-align: top;\n",
       "    }\n",
       "\n",
       "    .dataframe thead th {\n",
       "        text-align: right;\n",
       "    }\n",
       "</style>\n",
       "<table border=\"1\" class=\"dataframe\">\n",
       "  <thead>\n",
       "    <tr style=\"text-align: right;\">\n",
       "      <th></th>\n",
       "      <th>index</th>\n",
       "      <th>label</th>\n",
       "      <th>y_test_df_predicted</th>\n",
       "    </tr>\n",
       "  </thead>\n",
       "  <tbody>\n",
       "    <tr>\n",
       "      <th>0</th>\n",
       "      <td>18</td>\n",
       "      <td>1</td>\n",
       "      <td>0</td>\n",
       "    </tr>\n",
       "    <tr>\n",
       "      <th>1</th>\n",
       "      <td>4871</td>\n",
       "      <td>0</td>\n",
       "      <td>0</td>\n",
       "    </tr>\n",
       "    <tr>\n",
       "      <th>2</th>\n",
       "      <td>5954</td>\n",
       "      <td>0</td>\n",
       "      <td>0</td>\n",
       "    </tr>\n",
       "    <tr>\n",
       "      <th>3</th>\n",
       "      <td>5168</td>\n",
       "      <td>0</td>\n",
       "      <td>0</td>\n",
       "    </tr>\n",
       "    <tr>\n",
       "      <th>4</th>\n",
       "      <td>3320</td>\n",
       "      <td>0</td>\n",
       "      <td>0</td>\n",
       "    </tr>\n",
       "    <tr>\n",
       "      <th>...</th>\n",
       "      <td>...</td>\n",
       "      <td>...</td>\n",
       "      <td>...</td>\n",
       "    </tr>\n",
       "    <tr>\n",
       "      <th>1163</th>\n",
       "      <td>4672</td>\n",
       "      <td>0</td>\n",
       "      <td>0</td>\n",
       "    </tr>\n",
       "    <tr>\n",
       "      <th>1164</th>\n",
       "      <td>2044</td>\n",
       "      <td>1</td>\n",
       "      <td>1</td>\n",
       "    </tr>\n",
       "    <tr>\n",
       "      <th>1165</th>\n",
       "      <td>4927</td>\n",
       "      <td>0</td>\n",
       "      <td>0</td>\n",
       "    </tr>\n",
       "    <tr>\n",
       "      <th>1166</th>\n",
       "      <td>5493</td>\n",
       "      <td>0</td>\n",
       "      <td>0</td>\n",
       "    </tr>\n",
       "    <tr>\n",
       "      <th>1167</th>\n",
       "      <td>1199</td>\n",
       "      <td>1</td>\n",
       "      <td>1</td>\n",
       "    </tr>\n",
       "  </tbody>\n",
       "</table>\n",
       "<p>1168 rows × 3 columns</p>\n",
       "</div>"
      ],
      "text/plain": [
       "      index  label  y_test_df_predicted\n",
       "0        18      1                    0\n",
       "1      4871      0                    0\n",
       "2      5954      0                    0\n",
       "3      5168      0                    0\n",
       "4      3320      0                    0\n",
       "...     ...    ...                  ...\n",
       "1163   4672      0                    0\n",
       "1164   2044      1                    1\n",
       "1165   4927      0                    0\n",
       "1166   5493      0                    0\n",
       "1167   1199      1                    1\n",
       "\n",
       "[1168 rows x 3 columns]"
      ]
     },
     "execution_count": 91,
     "metadata": {},
     "output_type": "execute_result"
    }
   ],
   "source": [
    "y_test_mnb = pd.DataFrame(y_test.reset_index())\n",
    "y_test_mnb['y_test_df_predicted'] = y_pred\n",
    "y_test_mnb"
   ]
  },
  {
   "cell_type": "code",
   "execution_count": 92,
   "id": "513c7c33",
   "metadata": {},
   "outputs": [
    {
     "data": {
      "text/html": [
       "<div>\n",
       "<style scoped>\n",
       "    .dataframe tbody tr th:only-of-type {\n",
       "        vertical-align: middle;\n",
       "    }\n",
       "\n",
       "    .dataframe tbody tr th {\n",
       "        vertical-align: top;\n",
       "    }\n",
       "\n",
       "    .dataframe thead th {\n",
       "        text-align: right;\n",
       "    }\n",
       "</style>\n",
       "<table border=\"1\" class=\"dataframe\">\n",
       "  <thead>\n",
       "    <tr style=\"text-align: right;\">\n",
       "      <th></th>\n",
       "      <th>index</th>\n",
       "      <th>label</th>\n",
       "      <th>y_test_df_predicted</th>\n",
       "    </tr>\n",
       "  </thead>\n",
       "  <tbody>\n",
       "    <tr>\n",
       "      <th>0</th>\n",
       "      <td>18</td>\n",
       "      <td>1</td>\n",
       "      <td>0</td>\n",
       "    </tr>\n",
       "    <tr>\n",
       "      <th>10</th>\n",
       "      <td>2277</td>\n",
       "      <td>1</td>\n",
       "      <td>0</td>\n",
       "    </tr>\n",
       "    <tr>\n",
       "      <th>18</th>\n",
       "      <td>5932</td>\n",
       "      <td>0</td>\n",
       "      <td>1</td>\n",
       "    </tr>\n",
       "    <tr>\n",
       "      <th>32</th>\n",
       "      <td>1903</td>\n",
       "      <td>1</td>\n",
       "      <td>0</td>\n",
       "    </tr>\n",
       "    <tr>\n",
       "      <th>60</th>\n",
       "      <td>941</td>\n",
       "      <td>1</td>\n",
       "      <td>0</td>\n",
       "    </tr>\n",
       "    <tr>\n",
       "      <th>...</th>\n",
       "      <td>...</td>\n",
       "      <td>...</td>\n",
       "      <td>...</td>\n",
       "    </tr>\n",
       "    <tr>\n",
       "      <th>1125</th>\n",
       "      <td>1487</td>\n",
       "      <td>1</td>\n",
       "      <td>0</td>\n",
       "    </tr>\n",
       "    <tr>\n",
       "      <th>1129</th>\n",
       "      <td>4010</td>\n",
       "      <td>0</td>\n",
       "      <td>1</td>\n",
       "    </tr>\n",
       "    <tr>\n",
       "      <th>1131</th>\n",
       "      <td>3865</td>\n",
       "      <td>0</td>\n",
       "      <td>1</td>\n",
       "    </tr>\n",
       "    <tr>\n",
       "      <th>1140</th>\n",
       "      <td>5564</td>\n",
       "      <td>0</td>\n",
       "      <td>1</td>\n",
       "    </tr>\n",
       "    <tr>\n",
       "      <th>1160</th>\n",
       "      <td>997</td>\n",
       "      <td>1</td>\n",
       "      <td>0</td>\n",
       "    </tr>\n",
       "  </tbody>\n",
       "</table>\n",
       "<p>89 rows × 3 columns</p>\n",
       "</div>"
      ],
      "text/plain": [
       "      index  label  y_test_df_predicted\n",
       "0        18      1                    0\n",
       "10     2277      1                    0\n",
       "18     5932      0                    1\n",
       "32     1903      1                    0\n",
       "60      941      1                    0\n",
       "...     ...    ...                  ...\n",
       "1125   1487      1                    0\n",
       "1129   4010      0                    1\n",
       "1131   3865      0                    1\n",
       "1140   5564      0                    1\n",
       "1160    997      1                    0\n",
       "\n",
       "[89 rows x 3 columns]"
      ]
     },
     "execution_count": 92,
     "metadata": {},
     "output_type": "execute_result"
    }
   ],
   "source": [
    "y_test_mnb[y_test_mnb['y_test_df_predicted'] != y_test_mnb['label']]\n"
   ]
  },
  {
   "cell_type": "code",
   "execution_count": 93,
   "id": "b2232a4d",
   "metadata": {},
   "outputs": [
    {
     "name": "stdout",
     "output_type": "stream",
     "text": [
      "[Overtime/Twitter] Kevon Looney getting cooked at his own camp \n"
     ]
    }
   ],
   "source": [
    "print(subreddit_df['total_text'][18])\n",
    "# Thought it was r/nhl but it was not"
   ]
  },
  {
   "cell_type": "code",
   "execution_count": 94,
   "id": "abba7947",
   "metadata": {},
   "outputs": [
    {
     "name": "stdout",
     "output_type": "stream",
     "text": [
      "[Sean Shapiro on Twitter] Since everyone asks, from what I've heard ESPN didn't seriously consider bringing back Gary Thorne. \n"
     ]
    }
   ],
   "source": [
    "print(subreddit_df['total_text'][4010])\n",
    "# Thought it was r/nba but it was not"
   ]
  },
  {
   "cell_type": "markdown",
   "id": "61f6f8f2",
   "metadata": {},
   "source": [
    "### Logistic Regression\n",
    "#### Count Vectorizer"
   ]
  },
  {
   "cell_type": "code",
   "execution_count": 95,
   "id": "41f2875a",
   "metadata": {},
   "outputs": [],
   "source": [
    "pipe_lr_c = Pipeline([\n",
    "    ('cvec', CountVectorizer(stop_words='english', ngram_range=(1,2))),\n",
    "    ('lr', LogisticRegression(solver='liblinear', max_iter=5000))\n",
    "])\n",
    "\n",
    "# Set up pipeline params\n",
    "pipe_lr_c_params = {\n",
    "    'cvec__max_features': [200, 500]}"
   ]
  },
  {
   "cell_type": "code",
   "execution_count": 96,
   "id": "93572c5b",
   "metadata": {},
   "outputs": [
    {
     "name": "stdout",
     "output_type": "stream",
     "text": [
      "Fitting 5 folds for each of 2 candidates, totalling 10 fits\n"
     ]
    }
   ],
   "source": [
    "logreg_gs = GridSearchCV(pipe_lr_c, pipe_lr_c_params, cv=5, verbose=1)\n",
    "\n",
    "\n",
    "logreg_gs.fit(X_train, y_train);"
   ]
  },
  {
   "cell_type": "code",
   "execution_count": 97,
   "id": "e59933a8",
   "metadata": {},
   "outputs": [
    {
     "name": "stdout",
     "output_type": "stream",
     "text": [
      "Logisitc Regression Count Vectorizer Best Score: 0.8890996118127997\n",
      "Logisitc Regression Count Vectorizer Train Score: 0.9291372297152644\n",
      "Logisitc Regression Count Vectorizer Test Score: 0.9083904109589042\n",
      "Logisitc Regression Count Vectorizer Best Parameters: {'cvec__max_features': 500}\n"
     ]
    }
   ],
   "source": [
    "print(f'Logisitc Regression Count Vectorizer Best Score: {logreg_gs.best_score_}')\n",
    "print(f'Logisitc Regression Count Vectorizer Train Score: {logreg_gs.score(X_train, y_train)}')\n",
    "print(f'Logisitc Regression Count Vectorizer Test Score: {logreg_gs.score(X_test, y_test)}')\n",
    "print(f'Logisitc Regression Count Vectorizer Best Parameters: {logreg_gs.best_params_}')"
   ]
  },
  {
   "cell_type": "code",
   "execution_count": 98,
   "id": "126a78d9",
   "metadata": {},
   "outputs": [
    {
     "data": {
      "image/png": "[encoded data removed]",
      "text/plain": [
       "<Figure size 640x480 with 2 Axes>"
      ]
     },
     "metadata": {},
     "output_type": "display_data"
    }
   ],
   "source": [
    "from sklearn.metrics import ConfusionMatrixDisplay\n",
    "\n",
    "y_pred = logreg_gs.predict(X_test)\n",
    "\n",
    "cm = confusion_matrix(y_test, y_pred)\n",
    "\n",
    "tn, fp, fn, tp = confusion_matrix(y_test, y_pred).ravel()\n",
    "\n",
    "disp = ConfusionMatrixDisplay(confusion_matrix=cm).plot()\n",
    "\n",
    "plt.title('Confusion matrix of the LogisiticRegression classifier')\n",
    "plt.show()"
   ]
  },
  {
   "cell_type": "code",
   "execution_count": 99,
   "id": "9dd1ce17",
   "metadata": {},
   "outputs": [
    {
     "name": "stdout",
     "output_type": "stream",
     "text": [
      "Logistic Regression (Count Vectorizer Specificity): 0.9661590524534687\n",
      "Logistic Regression (Count Vectorizer Sensitivity): 0.8492201039861352\n"
     ]
    }
   ],
   "source": [
    "print(f'Logistic Regression (Count Vectorizer Specificity): {tn / (tn + fp)}')\n",
    "print(f'Logistic Regression (Count Vectorizer Sensitivity): {tp / (tp + fn)}')"
   ]
  },
  {
   "cell_type": "markdown",
   "id": "fe9b5ab5",
   "metadata": {},
   "source": [
    "### Logistic Regression\n",
    "#### TF-IDF Vectorizer"
   ]
  },
  {
   "cell_type": "code",
   "execution_count": 100,
   "id": "c649b308",
   "metadata": {},
   "outputs": [],
   "source": [
    "pipe_lr_t = Pipeline([\n",
    "    ('tvec', TfidfVectorizer(stop_words='english', ngram_range=(1,2))),\n",
    "    ('lr', LogisticRegression(solver='liblinear', max_iter=5000))\n",
    "])\n",
    "\n",
    "# Set up pipeline params\n",
    "pipe_lr_t_params = {\n",
    "    'cvec__max_features': [200, 500]}"
   ]
  },
  {
   "cell_type": "code",
   "execution_count": 101,
   "id": "f2a4e456",
   "metadata": {},
   "outputs": [
    {
     "name": "stdout",
     "output_type": "stream",
     "text": [
      "Fitting 5 folds for each of 2 candidates, totalling 10 fits\n"
     ]
    }
   ],
   "source": [
    "logreg_gs_2 = GridSearchCV(pipe_lr_c, pipe_lr_c_params, cv=5, verbose=1)\n",
    "\n",
    "\n",
    "logreg_gs_2.fit(X_train, y_train);"
   ]
  },
  {
   "cell_type": "code",
   "execution_count": 102,
   "id": "6d769055",
   "metadata": {},
   "outputs": [
    {
     "name": "stdout",
     "output_type": "stream",
     "text": [
      "Logisitc Regression IF-IDF Vectorizer Best Score: 0.8890996118127997\n",
      "Logisitc Regression IF-IDF Vectorizer Train Score: 0.9291372297152644\n",
      "Logisitc Regression IF-IDF Vectorizer Test Score: 0.9083904109589042\n",
      "Logisitc Regression IF-IDF Vectorizer Best Parameters: {'cvec__max_features': 500}\n"
     ]
    }
   ],
   "source": [
    "print(f'Logisitc Regression IF-IDF Vectorizer Best Score: {logreg_gs_2.best_score_}')\n",
    "print(f'Logisitc Regression IF-IDF Vectorizer Train Score: {logreg_gs_2.score(X_train, y_train)}')\n",
    "print(f'Logisitc Regression IF-IDF Vectorizer Test Score: {logreg_gs_2.score(X_test, y_test)}')\n",
    "print(f'Logisitc Regression IF-IDF Vectorizer Best Parameters: {logreg_gs_2.best_params_}')"
   ]
  },
  {
   "cell_type": "code",
   "execution_count": 103,
   "id": "c4a913b2",
   "metadata": {},
   "outputs": [
    {
     "data": {
      "image/png": "[encoded data removed]",
      "text/plain": [
       "<Figure size 640x480 with 2 Axes>"
      ]
     },
     "metadata": {},
     "output_type": "display_data"
    }
   ],
   "source": [
    "from sklearn.metrics import ConfusionMatrixDisplay\n",
    "\n",
    "y_pred = logreg_gs_2.predict(X_test)\n",
    "\n",
    "cm = confusion_matrix(y_test, y_pred)\n",
    "\n",
    "tn, fp, fn, tp = confusion_matrix(y_test, y_pred).ravel()\n",
    "\n",
    "disp = ConfusionMatrixDisplay(confusion_matrix=cm).plot()\n",
    "\n",
    "plt.title('Confusion matrix of the LogisiticRegression classifier')\n",
    "plt.show()"
   ]
  },
  {
   "cell_type": "code",
   "execution_count": 104,
   "id": "7f747aba",
   "metadata": {},
   "outputs": [
    {
     "name": "stdout",
     "output_type": "stream",
     "text": [
      "TF-IDF Vectorizer Specificity: 0.9661590524534687\n",
      "TF-IDF Vectorizer Sensitivity: 0.8492201039861352\n"
     ]
    }
   ],
   "source": [
    "print(f'TF-IDF Vectorizer Specificity: {tn / (tn + fp)}')\n",
    "print(f'TF-IDF Vectorizer Sensitivity: {tp / (tp + fn)}')"
   ]
  },
  {
   "cell_type": "code",
   "execution_count": 105,
   "id": "091a5658",
   "metadata": {},
   "outputs": [
    {
     "data": {
      "text/html": [
       "<div>\n",
       "<style scoped>\n",
       "    .dataframe tbody tr th:only-of-type {\n",
       "        vertical-align: middle;\n",
       "    }\n",
       "\n",
       "    .dataframe tbody tr th {\n",
       "        vertical-align: top;\n",
       "    }\n",
       "\n",
       "    .dataframe thead th {\n",
       "        text-align: right;\n",
       "    }\n",
       "</style>\n",
       "<table border=\"1\" class=\"dataframe\">\n",
       "  <thead>\n",
       "    <tr style=\"text-align: right;\">\n",
       "      <th></th>\n",
       "      <th>index</th>\n",
       "      <th>label</th>\n",
       "      <th>y_test_df_predicted</th>\n",
       "    </tr>\n",
       "  </thead>\n",
       "  <tbody>\n",
       "    <tr>\n",
       "      <th>0</th>\n",
       "      <td>18</td>\n",
       "      <td>1</td>\n",
       "      <td>0</td>\n",
       "    </tr>\n",
       "    <tr>\n",
       "      <th>1</th>\n",
       "      <td>4871</td>\n",
       "      <td>0</td>\n",
       "      <td>0</td>\n",
       "    </tr>\n",
       "    <tr>\n",
       "      <th>2</th>\n",
       "      <td>5954</td>\n",
       "      <td>0</td>\n",
       "      <td>0</td>\n",
       "    </tr>\n",
       "    <tr>\n",
       "      <th>3</th>\n",
       "      <td>5168</td>\n",
       "      <td>0</td>\n",
       "      <td>0</td>\n",
       "    </tr>\n",
       "    <tr>\n",
       "      <th>4</th>\n",
       "      <td>3320</td>\n",
       "      <td>0</td>\n",
       "      <td>0</td>\n",
       "    </tr>\n",
       "    <tr>\n",
       "      <th>...</th>\n",
       "      <td>...</td>\n",
       "      <td>...</td>\n",
       "      <td>...</td>\n",
       "    </tr>\n",
       "    <tr>\n",
       "      <th>1163</th>\n",
       "      <td>4672</td>\n",
       "      <td>0</td>\n",
       "      <td>0</td>\n",
       "    </tr>\n",
       "    <tr>\n",
       "      <th>1164</th>\n",
       "      <td>2044</td>\n",
       "      <td>1</td>\n",
       "      <td>1</td>\n",
       "    </tr>\n",
       "    <tr>\n",
       "      <th>1165</th>\n",
       "      <td>4927</td>\n",
       "      <td>0</td>\n",
       "      <td>0</td>\n",
       "    </tr>\n",
       "    <tr>\n",
       "      <th>1166</th>\n",
       "      <td>5493</td>\n",
       "      <td>0</td>\n",
       "      <td>0</td>\n",
       "    </tr>\n",
       "    <tr>\n",
       "      <th>1167</th>\n",
       "      <td>1199</td>\n",
       "      <td>1</td>\n",
       "      <td>1</td>\n",
       "    </tr>\n",
       "  </tbody>\n",
       "</table>\n",
       "<p>1168 rows × 3 columns</p>\n",
       "</div>"
      ],
      "text/plain": [
       "      index  label  y_test_df_predicted\n",
       "0        18      1                    0\n",
       "1      4871      0                    0\n",
       "2      5954      0                    0\n",
       "3      5168      0                    0\n",
       "4      3320      0                    0\n",
       "...     ...    ...                  ...\n",
       "1163   4672      0                    0\n",
       "1164   2044      1                    1\n",
       "1165   4927      0                    0\n",
       "1166   5493      0                    0\n",
       "1167   1199      1                    1\n",
       "\n",
       "[1168 rows x 3 columns]"
      ]
     },
     "execution_count": 105,
     "metadata": {},
     "output_type": "execute_result"
    }
   ],
   "source": [
    "y_test_mnb_2 = pd.DataFrame(y_test.reset_index())\n",
    "y_test_mnb_2['y_test_df_predicted'] = y_pred\n",
    "y_test_mnb_2"
   ]
  },
  {
   "cell_type": "code",
   "execution_count": 106,
   "id": "0a1b09e6",
   "metadata": {},
   "outputs": [
    {
     "data": {
      "text/html": [
       "<div>\n",
       "<style scoped>\n",
       "    .dataframe tbody tr th:only-of-type {\n",
       "        vertical-align: middle;\n",
       "    }\n",
       "\n",
       "    .dataframe tbody tr th {\n",
       "        vertical-align: top;\n",
       "    }\n",
       "\n",
       "    .dataframe thead th {\n",
       "        text-align: right;\n",
       "    }\n",
       "</style>\n",
       "<table border=\"1\" class=\"dataframe\">\n",
       "  <thead>\n",
       "    <tr style=\"text-align: right;\">\n",
       "      <th></th>\n",
       "      <th>index</th>\n",
       "      <th>label</th>\n",
       "      <th>y_test_df_predicted</th>\n",
       "    </tr>\n",
       "  </thead>\n",
       "  <tbody>\n",
       "    <tr>\n",
       "      <th>0</th>\n",
       "      <td>18</td>\n",
       "      <td>1</td>\n",
       "      <td>0</td>\n",
       "    </tr>\n",
       "    <tr>\n",
       "      <th>7</th>\n",
       "      <td>731</td>\n",
       "      <td>1</td>\n",
       "      <td>0</td>\n",
       "    </tr>\n",
       "    <tr>\n",
       "      <th>10</th>\n",
       "      <td>2277</td>\n",
       "      <td>1</td>\n",
       "      <td>0</td>\n",
       "    </tr>\n",
       "    <tr>\n",
       "      <th>23</th>\n",
       "      <td>446</td>\n",
       "      <td>1</td>\n",
       "      <td>0</td>\n",
       "    </tr>\n",
       "    <tr>\n",
       "      <th>27</th>\n",
       "      <td>4213</td>\n",
       "      <td>0</td>\n",
       "      <td>1</td>\n",
       "    </tr>\n",
       "    <tr>\n",
       "      <th>...</th>\n",
       "      <td>...</td>\n",
       "      <td>...</td>\n",
       "      <td>...</td>\n",
       "    </tr>\n",
       "    <tr>\n",
       "      <th>1111</th>\n",
       "      <td>338</td>\n",
       "      <td>1</td>\n",
       "      <td>0</td>\n",
       "    </tr>\n",
       "    <tr>\n",
       "      <th>1121</th>\n",
       "      <td>1867</td>\n",
       "      <td>1</td>\n",
       "      <td>0</td>\n",
       "    </tr>\n",
       "    <tr>\n",
       "      <th>1125</th>\n",
       "      <td>1487</td>\n",
       "      <td>1</td>\n",
       "      <td>0</td>\n",
       "    </tr>\n",
       "    <tr>\n",
       "      <th>1127</th>\n",
       "      <td>294</td>\n",
       "      <td>1</td>\n",
       "      <td>0</td>\n",
       "    </tr>\n",
       "    <tr>\n",
       "      <th>1160</th>\n",
       "      <td>997</td>\n",
       "      <td>1</td>\n",
       "      <td>0</td>\n",
       "    </tr>\n",
       "  </tbody>\n",
       "</table>\n",
       "<p>107 rows × 3 columns</p>\n",
       "</div>"
      ],
      "text/plain": [
       "      index  label  y_test_df_predicted\n",
       "0        18      1                    0\n",
       "7       731      1                    0\n",
       "10     2277      1                    0\n",
       "23      446      1                    0\n",
       "27     4213      0                    1\n",
       "...     ...    ...                  ...\n",
       "1111    338      1                    0\n",
       "1121   1867      1                    0\n",
       "1125   1487      1                    0\n",
       "1127    294      1                    0\n",
       "1160    997      1                    0\n",
       "\n",
       "[107 rows x 3 columns]"
      ]
     },
     "execution_count": 106,
     "metadata": {},
     "output_type": "execute_result"
    }
   ],
   "source": [
    "y_test_mnb_2[y_test_mnb_2['y_test_df_predicted'] != y_test_mnb_2['label']]\n"
   ]
  },
  {
   "cell_type": "code",
   "execution_count": 107,
   "id": "c7a02f4a",
   "metadata": {},
   "outputs": [
    {
     "name": "stdout",
     "output_type": "stream",
     "text": [
      "2 Months Ago on June 15, 2021, The Bucks Were Up 17 In The 3rd Quarter And Lost Game #5 By 6 Points To The Nets 108-114. Budenholzer's Wiki Page Had Nearly 100 Edits In 24 Hours \n"
     ]
    }
   ],
   "source": [
    "print(subreddit_df['total_text'][1390])\n",
    "# Thought it was r/nba but it was not"
   ]
  },
  {
   "cell_type": "markdown",
   "id": "57b6cf15",
   "metadata": {},
   "source": [
    "### K-nearest Neighbors\n",
    "#### Count Vectorizer"
   ]
  },
  {
   "cell_type": "code",
   "execution_count": 108,
   "id": "2136ba4f",
   "metadata": {},
   "outputs": [],
   "source": [
    "# Set up pipeline\n",
    "pipe_knn_c = Pipeline([\n",
    "    ('cvec', CountVectorizer(stop_words='english', ngram_range=(1,2))),\n",
    "    ('knn', KNeighborsClassifier())\n",
    "])\n",
    "\n",
    "\n",
    "# Set up pipeline params\n",
    "pipe_knn_c_params = {\n",
    "    'cvec__max_features': [200, 500],\n",
    "    'knn__n_neighbors':[5, 15, 25, 35, 45],\n",
    "    'knn__p': [1, 2]\n",
    "}"
   ]
  },
  {
   "cell_type": "code",
   "execution_count": 109,
   "id": "d2da8ebb",
   "metadata": {},
   "outputs": [
    {
     "name": "stdout",
     "output_type": "stream",
     "text": [
      "Fitting 5 folds for each of 20 candidates, totalling 100 fits\n"
     ]
    }
   ],
   "source": [
    "# Set up a gridsearch\n",
    "gs_knn_c = GridSearchCV(pipe_knn_c, pipe_knn_c_params, cv=5, verbose=1)\n",
    "\n",
    "# Fit the gridsearch\n",
    "gs_knn_c.fit(X_train, y_train);"
   ]
  },
  {
   "cell_type": "code",
   "execution_count": 110,
   "id": "e02cee64",
   "metadata": {},
   "outputs": [
    {
     "name": "stdout",
     "output_type": "stream",
     "text": [
      "K-nearest Neighbors Count Vectorizer Best Score: 0.762788535309004\n",
      "K-nearest Neighbors Count Vectorizer Train Score: 0.8447869835153072\n",
      "K-nearest Neighbors Count Vectorizer Test Score: 0.7773972602739726\n",
      "K-nearest Neighbors Count Vectorizer Best Parameters: {'cvec__max_features': 500, 'knn__n_neighbors': 5, 'knn__p': 2}\n"
     ]
    }
   ],
   "source": [
    "print(f'K-nearest Neighbors Count Vectorizer Best Score: {gs_knn_c.best_score_}')\n",
    "print(f'K-nearest Neighbors Count Vectorizer Train Score: {gs_knn_c.score(X_train, y_train)}')\n",
    "print(f'K-nearest Neighbors Count Vectorizer Test Score: {gs_knn_c.score(X_test, y_test)}')\n",
    "print(f'K-nearest Neighbors Count Vectorizer Best Parameters: {gs_knn_c.best_params_}')"
   ]
  },
  {
   "cell_type": "code",
   "execution_count": 111,
   "id": "170c2666",
   "metadata": {},
   "outputs": [
    {
     "data": {
      "image/png": "[encoded data removed]",
      "text/plain": [
       "<Figure size 640x480 with 2 Axes>"
      ]
     },
     "metadata": {},
     "output_type": "display_data"
    }
   ],
   "source": [
    "from sklearn.metrics import ConfusionMatrixDisplay\n",
    "\n",
    "y_pred = gs_knn_c.predict(X_test)\n",
    "\n",
    "cm = confusion_matrix(y_test, y_pred)\n",
    "\n",
    "tn, fp, fn, tp = confusion_matrix(y_test, y_pred).ravel()\n",
    "\n",
    "disp = ConfusionMatrixDisplay(confusion_matrix=cm).plot()\n",
    "\n",
    "plt.title('Confusion matrix of the K-nearest Neighbors classifier')\n",
    "plt.show()"
   ]
  },
  {
   "cell_type": "code",
   "execution_count": 112,
   "id": "266408d6",
   "metadata": {},
   "outputs": [
    {
     "name": "stdout",
     "output_type": "stream",
     "text": [
      "TF-IDF Vectorizer Specificity: 0.9441624365482234\n",
      "TF-IDF Vectorizer Sensitivity: 0.6065857885615251\n"
     ]
    }
   ],
   "source": [
    "print(f'TF-IDF Vectorizer Specificity: {tn / (tn + fp)}')\n",
    "print(f'TF-IDF Vectorizer Sensitivity: {tp / (tp + fn)}')"
   ]
  },
  {
   "cell_type": "markdown",
   "id": "1e02a516",
   "metadata": {},
   "source": [
    "### K-nearest Neighbors\n",
    "#### TF-IDF Vectorizer"
   ]
  },
  {
   "cell_type": "code",
   "execution_count": 113,
   "id": "ff225b0b",
   "metadata": {},
   "outputs": [],
   "source": [
    "# Set up pipeline\n",
    "pipe_knn_t = Pipeline([\n",
    "    ('tvec', TfidfVectorizer(stop_words='english',ngram_range=(1,2))),\n",
    "    ('knn', KNeighborsClassifier())\n",
    "])\n",
    "\n",
    "\n",
    "# Set up pipeline params\n",
    "pipe_knn_t_params = {\n",
    "    'knn__n_neighbors':[5, 15, 25, 35, 45],\n",
    "    'knn__p': [1, 2]\n",
    "}"
   ]
  },
  {
   "cell_type": "code",
   "execution_count": 114,
   "id": "59f0c1cd",
   "metadata": {},
   "outputs": [
    {
     "name": "stdout",
     "output_type": "stream",
     "text": [
      "Fitting 5 folds for each of 10 candidates, totalling 50 fits\n"
     ]
    }
   ],
   "source": [
    "# Set up a gridsearch\n",
    "gs_knn_t = GridSearchCV(pipe_knn_t, pipe_knn_t_params, cv=5, verbose=1)\n",
    "\n",
    "# Fit the gridsearch\n",
    "gs_knn_t.fit(X_train, y_train);"
   ]
  },
  {
   "cell_type": "code",
   "execution_count": 115,
   "id": "e40fe968",
   "metadata": {},
   "outputs": [
    {
     "name": "stdout",
     "output_type": "stream",
     "text": [
      "K-nearest Neighbors IF-IDF Vectorizer Best Score: 0.6912869722543485\n",
      "K-nearest Neighbors IF-IDF Vectorizer Train Score: 0.5056733033611647\n",
      "K-nearest Neighbors IF-IDF Vectorizer Test Score: 0.5059931506849316\n",
      "K-nearest Neighbors IF-IDF Vectorizer Best Parameters: {'knn__n_neighbors': 45, 'knn__p': 2}\n"
     ]
    }
   ],
   "source": [
    "print(f'K-nearest Neighbors IF-IDF Vectorizer Best Score: {gs_knn_t.best_score_}')\n",
    "print(f'K-nearest Neighbors IF-IDF Vectorizer Train Score: {gs_knn_t.score(X_train, y_train)}')\n",
    "print(f'K-nearest Neighbors IF-IDF Vectorizer Test Score: {gs_knn_t.score(X_test, y_test)}')\n",
    "print(f'K-nearest Neighbors IF-IDF Vectorizer Best Parameters: {gs_knn_t.best_params_}')"
   ]
  },
  {
   "cell_type": "code",
   "execution_count": 116,
   "id": "9e6965de",
   "metadata": {},
   "outputs": [
    {
     "data": {
      "image/png": "[encoded data removed]",
      "text/plain": [
       "<Figure size 640x480 with 2 Axes>"
      ]
     },
     "metadata": {},
     "output_type": "display_data"
    }
   ],
   "source": [
    "from sklearn.metrics import ConfusionMatrixDisplay\n",
    "\n",
    "y_pred = gs_knn_t.predict(X_test)\n",
    "\n",
    "cm = confusion_matrix(y_test, y_pred)\n",
    "\n",
    "tn, fp, fn, tp = confusion_matrix(y_test, y_pred).ravel()\n",
    "\n",
    "disp = ConfusionMatrixDisplay(confusion_matrix=cm).plot()\n",
    "\n",
    "plt.title('Confusion matrix of the K-nearest Neighbors classifier')\n",
    "plt.show()"
   ]
  },
  {
   "cell_type": "code",
   "execution_count": 117,
   "id": "74b43cca",
   "metadata": {},
   "outputs": [
    {
     "name": "stdout",
     "output_type": "stream",
     "text": [
      "TF-IDF Vectorizer Specificity: 1.0\n",
      "TF-IDF Vectorizer Sensitivity: 0.0\n"
     ]
    }
   ],
   "source": [
    "print(f'TF-IDF Vectorizer Specificity: {tn / (tn + fp)}')\n",
    "print(f'TF-IDF Vectorizer Sensitivity: {tp / (tp + fn)}')"
   ]
  },
  {
   "cell_type": "code",
   "execution_count": 118,
   "id": "8de24b85",
   "metadata": {},
   "outputs": [
    {
     "data": {
      "text/html": [
       "<div>\n",
       "<style scoped>\n",
       "    .dataframe tbody tr th:only-of-type {\n",
       "        vertical-align: middle;\n",
       "    }\n",
       "\n",
       "    .dataframe tbody tr th {\n",
       "        vertical-align: top;\n",
       "    }\n",
       "\n",
       "    .dataframe thead th {\n",
       "        text-align: right;\n",
       "    }\n",
       "</style>\n",
       "<table border=\"1\" class=\"dataframe\">\n",
       "  <thead>\n",
       "    <tr style=\"text-align: right;\">\n",
       "      <th></th>\n",
       "      <th>index</th>\n",
       "      <th>label</th>\n",
       "      <th>y_test_df_predicted</th>\n",
       "    </tr>\n",
       "  </thead>\n",
       "  <tbody>\n",
       "    <tr>\n",
       "      <th>0</th>\n",
       "      <td>18</td>\n",
       "      <td>1</td>\n",
       "      <td>0</td>\n",
       "    </tr>\n",
       "    <tr>\n",
       "      <th>1</th>\n",
       "      <td>4871</td>\n",
       "      <td>0</td>\n",
       "      <td>0</td>\n",
       "    </tr>\n",
       "    <tr>\n",
       "      <th>2</th>\n",
       "      <td>5954</td>\n",
       "      <td>0</td>\n",
       "      <td>0</td>\n",
       "    </tr>\n",
       "    <tr>\n",
       "      <th>3</th>\n",
       "      <td>5168</td>\n",
       "      <td>0</td>\n",
       "      <td>0</td>\n",
       "    </tr>\n",
       "    <tr>\n",
       "      <th>4</th>\n",
       "      <td>3320</td>\n",
       "      <td>0</td>\n",
       "      <td>0</td>\n",
       "    </tr>\n",
       "    <tr>\n",
       "      <th>...</th>\n",
       "      <td>...</td>\n",
       "      <td>...</td>\n",
       "      <td>...</td>\n",
       "    </tr>\n",
       "    <tr>\n",
       "      <th>1163</th>\n",
       "      <td>4672</td>\n",
       "      <td>0</td>\n",
       "      <td>0</td>\n",
       "    </tr>\n",
       "    <tr>\n",
       "      <th>1164</th>\n",
       "      <td>2044</td>\n",
       "      <td>1</td>\n",
       "      <td>0</td>\n",
       "    </tr>\n",
       "    <tr>\n",
       "      <th>1165</th>\n",
       "      <td>4927</td>\n",
       "      <td>0</td>\n",
       "      <td>0</td>\n",
       "    </tr>\n",
       "    <tr>\n",
       "      <th>1166</th>\n",
       "      <td>5493</td>\n",
       "      <td>0</td>\n",
       "      <td>0</td>\n",
       "    </tr>\n",
       "    <tr>\n",
       "      <th>1167</th>\n",
       "      <td>1199</td>\n",
       "      <td>1</td>\n",
       "      <td>0</td>\n",
       "    </tr>\n",
       "  </tbody>\n",
       "</table>\n",
       "<p>1168 rows × 3 columns</p>\n",
       "</div>"
      ],
      "text/plain": [
       "      index  label  y_test_df_predicted\n",
       "0        18      1                    0\n",
       "1      4871      0                    0\n",
       "2      5954      0                    0\n",
       "3      5168      0                    0\n",
       "4      3320      0                    0\n",
       "...     ...    ...                  ...\n",
       "1163   4672      0                    0\n",
       "1164   2044      1                    0\n",
       "1165   4927      0                    0\n",
       "1166   5493      0                    0\n",
       "1167   1199      1                    0\n",
       "\n",
       "[1168 rows x 3 columns]"
      ]
     },
     "execution_count": 118,
     "metadata": {},
     "output_type": "execute_result"
    }
   ],
   "source": [
    "y_test_mnb_3 = pd.DataFrame(y_test.reset_index())\n",
    "y_test_mnb_3['y_test_df_predicted'] = y_pred\n",
    "y_test_mnb_3"
   ]
  },
  {
   "cell_type": "code",
   "execution_count": 119,
   "id": "b4b13aaf",
   "metadata": {},
   "outputs": [
    {
     "data": {
      "text/html": [
       "<div>\n",
       "<style scoped>\n",
       "    .dataframe tbody tr th:only-of-type {\n",
       "        vertical-align: middle;\n",
       "    }\n",
       "\n",
       "    .dataframe tbody tr th {\n",
       "        vertical-align: top;\n",
       "    }\n",
       "\n",
       "    .dataframe thead th {\n",
       "        text-align: right;\n",
       "    }\n",
       "</style>\n",
       "<table border=\"1\" class=\"dataframe\">\n",
       "  <thead>\n",
       "    <tr style=\"text-align: right;\">\n",
       "      <th></th>\n",
       "      <th>index</th>\n",
       "      <th>label</th>\n",
       "      <th>y_test_df_predicted</th>\n",
       "    </tr>\n",
       "  </thead>\n",
       "  <tbody>\n",
       "    <tr>\n",
       "      <th>0</th>\n",
       "      <td>18</td>\n",
       "      <td>1</td>\n",
       "      <td>0</td>\n",
       "    </tr>\n",
       "    <tr>\n",
       "      <th>5</th>\n",
       "      <td>1390</td>\n",
       "      <td>1</td>\n",
       "      <td>0</td>\n",
       "    </tr>\n",
       "    <tr>\n",
       "      <th>6</th>\n",
       "      <td>2301</td>\n",
       "      <td>1</td>\n",
       "      <td>0</td>\n",
       "    </tr>\n",
       "    <tr>\n",
       "      <th>7</th>\n",
       "      <td>731</td>\n",
       "      <td>1</td>\n",
       "      <td>0</td>\n",
       "    </tr>\n",
       "    <tr>\n",
       "      <th>8</th>\n",
       "      <td>2122</td>\n",
       "      <td>1</td>\n",
       "      <td>0</td>\n",
       "    </tr>\n",
       "    <tr>\n",
       "      <th>...</th>\n",
       "      <td>...</td>\n",
       "      <td>...</td>\n",
       "      <td>...</td>\n",
       "    </tr>\n",
       "    <tr>\n",
       "      <th>1160</th>\n",
       "      <td>997</td>\n",
       "      <td>1</td>\n",
       "      <td>0</td>\n",
       "    </tr>\n",
       "    <tr>\n",
       "      <th>1161</th>\n",
       "      <td>2865</td>\n",
       "      <td>1</td>\n",
       "      <td>0</td>\n",
       "    </tr>\n",
       "    <tr>\n",
       "      <th>1162</th>\n",
       "      <td>2395</td>\n",
       "      <td>1</td>\n",
       "      <td>0</td>\n",
       "    </tr>\n",
       "    <tr>\n",
       "      <th>1164</th>\n",
       "      <td>2044</td>\n",
       "      <td>1</td>\n",
       "      <td>0</td>\n",
       "    </tr>\n",
       "    <tr>\n",
       "      <th>1167</th>\n",
       "      <td>1199</td>\n",
       "      <td>1</td>\n",
       "      <td>0</td>\n",
       "    </tr>\n",
       "  </tbody>\n",
       "</table>\n",
       "<p>577 rows × 3 columns</p>\n",
       "</div>"
      ],
      "text/plain": [
       "      index  label  y_test_df_predicted\n",
       "0        18      1                    0\n",
       "5      1390      1                    0\n",
       "6      2301      1                    0\n",
       "7       731      1                    0\n",
       "8      2122      1                    0\n",
       "...     ...    ...                  ...\n",
       "1160    997      1                    0\n",
       "1161   2865      1                    0\n",
       "1162   2395      1                    0\n",
       "1164   2044      1                    0\n",
       "1167   1199      1                    0\n",
       "\n",
       "[577 rows x 3 columns]"
      ]
     },
     "execution_count": 119,
     "metadata": {},
     "output_type": "execute_result"
    }
   ],
   "source": [
    "y_test_mnb_3[y_test_mnb_3['y_test_df_predicted'] != y_test_mnb_3['label']]\n"
   ]
  },
  {
   "cell_type": "code",
   "execution_count": 120,
   "id": "d1022bc6",
   "metadata": {},
   "outputs": [
    {
     "name": "stdout",
     "output_type": "stream",
     "text": [
      "2 Months Ago on June 15, 2021, The Bucks Were Up 17 In The 3rd Quarter And Lost Game #5 By 6 Points To The Nets 108-114. Budenholzer's Wiki Page Had Nearly 100 Edits In 24 Hours \n"
     ]
    }
   ],
   "source": [
    "print(subreddit_df['total_text'][1390])\n",
    "# Thought it was r/nba but it was not"
   ]
  },
  {
   "cell_type": "markdown",
   "id": "3aae2499",
   "metadata": {},
   "source": [
    "| Model | Train Score | Test Score | Sensitivity | Specificity |\n",
    "| --- | --- | --- | --- | --- |\n",
    "| Multinomial Bayes (Count Vectorizer) | 0.946 | 0.923 | 0.901 | 0.945 |\n",
    "| Multinomial Bayes (TF-IDF Vectorizer) | 0.956 | 0.927 | 0.906 | 0.947 |\n",
    "| K-Nearest Neighbor (Count Vectorizer) | 0.844 | 0.777 | 0.606 | 0.944 |\n",
    "| K-Nearest Neighbor (IF-IDF Vectorizer) | 0.505 | 0.505 | 1.0 | 0.0 |\n",
    "| Logistic Regression (Count Vectorizer) | 0.929 | 0.908 | 0.849 | 0.966 |\n",
    "| Logistic Regression (IF-IDF Vectorizer) | 0.929 | 0.908 | 0.849 | 0.966 |"
   ]
  },
  {
   "cell_type": "markdown",
   "id": "5c5e3aad",
   "metadata": {},
   "source": [
    "The models listed in the table I ran with gridsearch"
   ]
  },
  {
   "cell_type": "markdown",
   "id": "921c2e55",
   "metadata": {},
   "source": [
    "# Conclusion and Reccomendations"
   ]
  },
  {
   "cell_type": "markdown",
   "id": "c0e9a619",
   "metadata": {},
   "source": [
    "Overall I would conclude that my models are overfit based on the Train RMSE being greater than the Test RMSE in all but\n",
    "one model.  I think this had to do with the fact that \"nba\" or \"nhl\" must have occured in many of the subreddit\n",
    "posts.\n",
    "\n",
    "I found that Multinomial Bayes was the best model, specfically the one used with TF-IDF Vectorizer.  I also found the\n",
    "sensitivity, the probability of a positive test, and the specificity, the pprobaility of a negative test.  In my model I\n",
    "had a positive test be 1, which is correctly identifying the subreddit was r/nba.  For both Multinomial Bayes\n",
    "model, the specificity was higher than the sensitivity.\n",
    "\n",
    "Futhermore, I created a y-actual vs. y-pred table to see what rows my model predicted wrong and the text it \n",
    "went off.  I saw that a lot of my errors had to do with professional athlete names.  I also saw that some of the posts\n",
    "had words that could be used in both subreddit's such as the words: 'game', 'score', and 'points'.\n",
    "\n",
    "In Conclusion, based off my Multinomial Bayes (TF-IDF Vectorizer) model, I would conclude that the users posts are \n",
    "indeed be posted on the correct subreddit.  NBA related posts are being posted on r/nba and NHL related posts\n",
    "are being posted on r/NHL.  Both of these professional sports leage reddit pages are running correctly.\n",
    "\n",
    "Next Steps:\n",
    "    - adjust stop words: adjust common words such as: 'game', 'score', and 'points'\n",
    "    - more cleaning on emoji's, pictures, and videos in subreddit posts\n",
    "    - adjust the names of professional atheltes quoted in subreddit posts"
   ]
  },
  {
   "cell_type": "code",
   "execution_count": null,
   "id": "92835bfd",
   "metadata": {},
   "outputs": [],
   "source": []
  },
  {
   "cell_type": "code",
   "execution_count": null,
   "id": "649c1fb9",
   "metadata": {},
   "outputs": [],
   "source": []
  }
 ],
 "metadata": {
  "kernelspec": {
   "display_name": "Python 3 (ipykernel)",
   "language": "python",
   "name": "python3"
  },
  "language_info": {
   "codemirror_mode": {
    "name": "ipython",
    "version": 3
   },
   "file_extension": ".py",
   "mimetype": "text/x-python",
   "name": "python",
   "nbconvert_exporter": "python",
   "pygments_lexer": "ipython3",
   "version": "3.9.13"
  }
 },
 "nbformat": 4,
 "nbformat_minor": 5
}
